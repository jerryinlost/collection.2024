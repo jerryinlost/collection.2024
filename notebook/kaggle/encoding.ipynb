{
 "cells": [
  {
   "cell_type": "markdown",
   "id": "d5f5fc85",
   "metadata": {
    "papermill": {
     "duration": 0.007773,
     "end_time": "2023-03-14T13:55:54.118958",
     "exception": false,
     "start_time": "2023-03-14T13:55:54.111185",
     "status": "completed"
    },
    "tags": []
   },
   "source": [
    "# **Encoding**"
   ]
  },
  {
   "cell_type": "code",
   "execution_count": 1,
   "id": "c1061059",
   "metadata": {
    "execution": {
     "iopub.execute_input": "2023-03-14T13:55:54.135987Z",
     "iopub.status.busy": "2023-03-14T13:55:54.135176Z",
     "iopub.status.idle": "2023-03-14T13:55:54.146852Z",
     "shell.execute_reply": "2023-03-14T13:55:54.145121Z"
    },
    "papermill": {
     "duration": 0.023589,
     "end_time": "2023-03-14T13:55:54.149821",
     "exception": false,
     "start_time": "2023-03-14T13:55:54.126232",
     "status": "completed"
    },
    "tags": []
   },
   "outputs": [],
   "source": [
    "# import library\n",
    "import pandas as pd"
   ]
  },
  {
   "cell_type": "code",
   "execution_count": 2,
   "id": "598e96c2",
   "metadata": {
    "execution": {
     "iopub.execute_input": "2023-03-14T13:55:54.165921Z",
     "iopub.status.busy": "2023-03-14T13:55:54.165379Z",
     "iopub.status.idle": "2023-03-14T13:55:54.183961Z",
     "shell.execute_reply": "2023-03-14T13:55:54.182326Z"
    },
    "papermill": {
     "duration": 0.029951,
     "end_time": "2023-03-14T13:55:54.187009",
     "exception": false,
     "start_time": "2023-03-14T13:55:54.157058",
     "status": "completed"
    },
    "tags": []
   },
   "outputs": [],
   "source": [
    "# read data from kaggle\n",
    "df =pd.read_csv('/kaggle/input/customer-purchase/CustomerPurchase.csv')"
   ]
  },
  {
   "cell_type": "code",
   "execution_count": 3,
   "id": "2b59d147",
   "metadata": {
    "execution": {
     "iopub.execute_input": "2023-03-14T13:55:54.203375Z",
     "iopub.status.busy": "2023-03-14T13:55:54.202963Z",
     "iopub.status.idle": "2023-03-14T13:55:54.670548Z",
     "shell.execute_reply": "2023-03-14T13:55:54.669528Z"
    },
    "papermill": {
     "duration": 0.478888,
     "end_time": "2023-03-14T13:55:54.673277",
     "exception": false,
     "start_time": "2023-03-14T13:55:54.194389",
     "status": "completed"
    },
    "tags": []
   },
   "outputs": [],
   "source": [
    "# read data from github\n",
    "df = pd.read_csv('https://github.com/YBIFoundation/Dataset/raw/main/Customer%20Purchase.csv')"
   ]
  },
  {
   "cell_type": "code",
   "execution_count": 4,
   "id": "c7ecccc8",
   "metadata": {
    "execution": {
     "iopub.execute_input": "2023-03-14T13:55:54.689653Z",
     "iopub.status.busy": "2023-03-14T13:55:54.689030Z",
     "iopub.status.idle": "2023-03-14T13:55:54.717538Z",
     "shell.execute_reply": "2023-03-14T13:55:54.716042Z"
    },
    "papermill": {
     "duration": 0.039744,
     "end_time": "2023-03-14T13:55:54.720205",
     "exception": false,
     "start_time": "2023-03-14T13:55:54.680461",
     "status": "completed"
    },
    "tags": []
   },
   "outputs": [
    {
     "data": {
      "text/html": [
       "<div>\n",
       "<style scoped>\n",
       "    .dataframe tbody tr th:only-of-type {\n",
       "        vertical-align: middle;\n",
       "    }\n",
       "\n",
       "    .dataframe tbody tr th {\n",
       "        vertical-align: top;\n",
       "    }\n",
       "\n",
       "    .dataframe thead th {\n",
       "        text-align: right;\n",
       "    }\n",
       "</style>\n",
       "<table border=\"1\" class=\"dataframe\">\n",
       "  <thead>\n",
       "    <tr style=\"text-align: right;\">\n",
       "      <th></th>\n",
       "      <th>Customer ID</th>\n",
       "      <th>Age</th>\n",
       "      <th>Gender</th>\n",
       "      <th>Education</th>\n",
       "      <th>Review</th>\n",
       "      <th>Purchased</th>\n",
       "    </tr>\n",
       "  </thead>\n",
       "  <tbody>\n",
       "    <tr>\n",
       "      <th>0</th>\n",
       "      <td>1021</td>\n",
       "      <td>30</td>\n",
       "      <td>Female</td>\n",
       "      <td>School</td>\n",
       "      <td>Average</td>\n",
       "      <td>No</td>\n",
       "    </tr>\n",
       "    <tr>\n",
       "      <th>1</th>\n",
       "      <td>1022</td>\n",
       "      <td>68</td>\n",
       "      <td>Female</td>\n",
       "      <td>UG</td>\n",
       "      <td>Poor</td>\n",
       "      <td>No</td>\n",
       "    </tr>\n",
       "    <tr>\n",
       "      <th>2</th>\n",
       "      <td>1023</td>\n",
       "      <td>70</td>\n",
       "      <td>Female</td>\n",
       "      <td>PG</td>\n",
       "      <td>Good</td>\n",
       "      <td>No</td>\n",
       "    </tr>\n",
       "    <tr>\n",
       "      <th>3</th>\n",
       "      <td>1024</td>\n",
       "      <td>72</td>\n",
       "      <td>Female</td>\n",
       "      <td>PG</td>\n",
       "      <td>Good</td>\n",
       "      <td>No</td>\n",
       "    </tr>\n",
       "    <tr>\n",
       "      <th>4</th>\n",
       "      <td>1025</td>\n",
       "      <td>16</td>\n",
       "      <td>Female</td>\n",
       "      <td>UG</td>\n",
       "      <td>Average</td>\n",
       "      <td>No</td>\n",
       "    </tr>\n",
       "  </tbody>\n",
       "</table>\n",
       "</div>"
      ],
      "text/plain": [
       "   Customer ID  Age  Gender Education   Review Purchased\n",
       "0         1021   30  Female    School  Average        No\n",
       "1         1022   68  Female        UG     Poor        No\n",
       "2         1023   70  Female        PG     Good        No\n",
       "3         1024   72  Female        PG     Good        No\n",
       "4         1025   16  Female        UG  Average        No"
      ]
     },
     "execution_count": 4,
     "metadata": {},
     "output_type": "execute_result"
    }
   ],
   "source": [
    "# display first 5 rows\n",
    "df.head()"
   ]
  },
  {
   "cell_type": "code",
   "execution_count": 5,
   "id": "ae909e11",
   "metadata": {
    "execution": {
     "iopub.execute_input": "2023-03-14T13:55:54.737962Z",
     "iopub.status.busy": "2023-03-14T13:55:54.737532Z",
     "iopub.status.idle": "2023-03-14T13:55:54.762929Z",
     "shell.execute_reply": "2023-03-14T13:55:54.760472Z"
    },
    "papermill": {
     "duration": 0.038345,
     "end_time": "2023-03-14T13:55:54.766221",
     "exception": false,
     "start_time": "2023-03-14T13:55:54.727876",
     "status": "completed"
    },
    "tags": []
   },
   "outputs": [
    {
     "name": "stdout",
     "output_type": "stream",
     "text": [
      "<class 'pandas.core.frame.DataFrame'>\n",
      "RangeIndex: 50 entries, 0 to 49\n",
      "Data columns (total 6 columns):\n",
      " #   Column       Non-Null Count  Dtype \n",
      "---  ------       --------------  ----- \n",
      " 0   Customer ID  50 non-null     int64 \n",
      " 1   Age          50 non-null     int64 \n",
      " 2   Gender       50 non-null     object\n",
      " 3   Education    50 non-null     object\n",
      " 4   Review       50 non-null     object\n",
      " 5   Purchased    50 non-null     object\n",
      "dtypes: int64(2), object(4)\n",
      "memory usage: 2.5+ KB\n"
     ]
    }
   ],
   "source": [
    "# info\n",
    "df.info()"
   ]
  },
  {
   "cell_type": "markdown",
   "id": "10dd8966",
   "metadata": {
    "papermill": {
     "duration": 0.007033,
     "end_time": "2023-03-14T13:55:54.781001",
     "exception": false,
     "start_time": "2023-03-14T13:55:54.773968",
     "status": "completed"
    },
    "tags": []
   },
   "source": [
    "# **Label Encoding**"
   ]
  },
  {
   "cell_type": "code",
   "execution_count": 6,
   "id": "475db0c6",
   "metadata": {
    "execution": {
     "iopub.execute_input": "2023-03-14T13:55:54.799046Z",
     "iopub.status.busy": "2023-03-14T13:55:54.798419Z",
     "iopub.status.idle": "2023-03-14T13:55:54.803557Z",
     "shell.execute_reply": "2023-03-14T13:55:54.802393Z"
    },
    "papermill": {
     "duration": 0.016531,
     "end_time": "2023-03-14T13:55:54.805995",
     "exception": false,
     "start_time": "2023-03-14T13:55:54.789464",
     "status": "completed"
    },
    "tags": []
   },
   "outputs": [],
   "source": [
    "# define label (y)\n",
    "y = df['Purchased']"
   ]
  },
  {
   "cell_type": "code",
   "execution_count": 7,
   "id": "7749ceeb",
   "metadata": {
    "execution": {
     "iopub.execute_input": "2023-03-14T13:55:54.823727Z",
     "iopub.status.busy": "2023-03-14T13:55:54.822416Z",
     "iopub.status.idle": "2023-03-14T13:55:54.831527Z",
     "shell.execute_reply": "2023-03-14T13:55:54.830410Z"
    },
    "papermill": {
     "duration": 0.020955,
     "end_time": "2023-03-14T13:55:54.834363",
     "exception": false,
     "start_time": "2023-03-14T13:55:54.813408",
     "status": "completed"
    },
    "tags": []
   },
   "outputs": [
    {
     "data": {
      "text/plain": [
       "No     26\n",
       "Yes    24\n",
       "Name: Purchased, dtype: int64"
      ]
     },
     "execution_count": 7,
     "metadata": {},
     "output_type": "execute_result"
    }
   ],
   "source": [
    "# category count\n",
    "y.value_counts()"
   ]
  },
  {
   "cell_type": "code",
   "execution_count": 8,
   "id": "e457cdca",
   "metadata": {
    "execution": {
     "iopub.execute_input": "2023-03-14T13:55:54.851077Z",
     "iopub.status.busy": "2023-03-14T13:55:54.850647Z",
     "iopub.status.idle": "2023-03-14T13:55:54.858462Z",
     "shell.execute_reply": "2023-03-14T13:55:54.856785Z"
    },
    "papermill": {
     "duration": 0.019394,
     "end_time": "2023-03-14T13:55:54.861300",
     "exception": false,
     "start_time": "2023-03-14T13:55:54.841906",
     "status": "completed"
    },
    "tags": []
   },
   "outputs": [],
   "source": [
    "# label manual encoding \n",
    "y.replace({'No':0,'Yes':1}, inplace = True)"
   ]
  },
  {
   "cell_type": "code",
   "execution_count": 9,
   "id": "5c113a89",
   "metadata": {
    "execution": {
     "iopub.execute_input": "2023-03-14T13:55:54.878667Z",
     "iopub.status.busy": "2023-03-14T13:55:54.878258Z",
     "iopub.status.idle": "2023-03-14T13:55:54.887651Z",
     "shell.execute_reply": "2023-03-14T13:55:54.886416Z"
    },
    "papermill": {
     "duration": 0.021308,
     "end_time": "2023-03-14T13:55:54.890745",
     "exception": false,
     "start_time": "2023-03-14T13:55:54.869437",
     "status": "completed"
    },
    "tags": []
   },
   "outputs": [
    {
     "data": {
      "text/plain": [
       "0    26\n",
       "1    24\n",
       "Name: Purchased, dtype: int64"
      ]
     },
     "execution_count": 9,
     "metadata": {},
     "output_type": "execute_result"
    }
   ],
   "source": [
    "# category count\n",
    "y.value_counts()"
   ]
  },
  {
   "cell_type": "code",
   "execution_count": 10,
   "id": "8c34b01b",
   "metadata": {
    "execution": {
     "iopub.execute_input": "2023-03-14T13:55:54.907572Z",
     "iopub.status.busy": "2023-03-14T13:55:54.907187Z",
     "iopub.status.idle": "2023-03-14T13:55:54.913848Z",
     "shell.execute_reply": "2023-03-14T13:55:54.912589Z"
    },
    "papermill": {
     "duration": 0.018042,
     "end_time": "2023-03-14T13:55:54.916349",
     "exception": false,
     "start_time": "2023-03-14T13:55:54.898307",
     "status": "completed"
    },
    "tags": []
   },
   "outputs": [],
   "source": [
    "# define label (y)\n",
    "y = df['Purchased']"
   ]
  },
  {
   "cell_type": "code",
   "execution_count": 11,
   "id": "98e332c7",
   "metadata": {
    "execution": {
     "iopub.execute_input": "2023-03-14T13:55:54.933719Z",
     "iopub.status.busy": "2023-03-14T13:55:54.933298Z",
     "iopub.status.idle": "2023-03-14T13:55:56.053858Z",
     "shell.execute_reply": "2023-03-14T13:55:56.052367Z"
    },
    "papermill": {
     "duration": 1.132936,
     "end_time": "2023-03-14T13:55:56.056874",
     "exception": false,
     "start_time": "2023-03-14T13:55:54.923938",
     "status": "completed"
    },
    "tags": []
   },
   "outputs": [],
   "source": [
    "# lablel encoding with sklearn\n",
    "from sklearn.preprocessing import LabelEncoder\n",
    "le=LabelEncoder()\n",
    "y = le.fit_transform(y)"
   ]
  },
  {
   "cell_type": "code",
   "execution_count": 12,
   "id": "8f899819",
   "metadata": {
    "execution": {
     "iopub.execute_input": "2023-03-14T13:55:56.074049Z",
     "iopub.status.busy": "2023-03-14T13:55:56.073660Z",
     "iopub.status.idle": "2023-03-14T13:55:56.081701Z",
     "shell.execute_reply": "2023-03-14T13:55:56.080400Z"
    },
    "papermill": {
     "duration": 0.019968,
     "end_time": "2023-03-14T13:55:56.084518",
     "exception": false,
     "start_time": "2023-03-14T13:55:56.064550",
     "status": "completed"
    },
    "tags": []
   },
   "outputs": [
    {
     "data": {
      "text/plain": [
       "array([0, 1])"
      ]
     },
     "execution_count": 12,
     "metadata": {},
     "output_type": "execute_result"
    }
   ],
   "source": [
    "# encoding classes\n",
    "le.classes_"
   ]
  },
  {
   "cell_type": "markdown",
   "id": "bec45d71",
   "metadata": {
    "papermill": {
     "duration": 0.00751,
     "end_time": "2023-03-14T13:55:56.099731",
     "exception": false,
     "start_time": "2023-03-14T13:55:56.092221",
     "status": "completed"
    },
    "tags": []
   },
   "source": [
    "# **Define Features (X)**"
   ]
  },
  {
   "cell_type": "code",
   "execution_count": 13,
   "id": "176943f9",
   "metadata": {
    "execution": {
     "iopub.execute_input": "2023-03-14T13:55:56.117068Z",
     "iopub.status.busy": "2023-03-14T13:55:56.116677Z",
     "iopub.status.idle": "2023-03-14T13:55:56.124984Z",
     "shell.execute_reply": "2023-03-14T13:55:56.123740Z"
    },
    "papermill": {
     "duration": 0.019755,
     "end_time": "2023-03-14T13:55:56.127272",
     "exception": false,
     "start_time": "2023-03-14T13:55:56.107517",
     "status": "completed"
    },
    "tags": []
   },
   "outputs": [],
   "source": [
    "# define features (X)\n",
    "X = df.drop(['Purchased', 'Customer ID'], axis=1)"
   ]
  },
  {
   "cell_type": "code",
   "execution_count": 14,
   "id": "4d42b439",
   "metadata": {
    "execution": {
     "iopub.execute_input": "2023-03-14T13:55:56.144864Z",
     "iopub.status.busy": "2023-03-14T13:55:56.144512Z",
     "iopub.status.idle": "2023-03-14T13:55:56.157345Z",
     "shell.execute_reply": "2023-03-14T13:55:56.155722Z"
    },
    "papermill": {
     "duration": 0.025062,
     "end_time": "2023-03-14T13:55:56.160160",
     "exception": false,
     "start_time": "2023-03-14T13:55:56.135098",
     "status": "completed"
    },
    "tags": []
   },
   "outputs": [
    {
     "data": {
      "text/html": [
       "<div>\n",
       "<style scoped>\n",
       "    .dataframe tbody tr th:only-of-type {\n",
       "        vertical-align: middle;\n",
       "    }\n",
       "\n",
       "    .dataframe tbody tr th {\n",
       "        vertical-align: top;\n",
       "    }\n",
       "\n",
       "    .dataframe thead th {\n",
       "        text-align: right;\n",
       "    }\n",
       "</style>\n",
       "<table border=\"1\" class=\"dataframe\">\n",
       "  <thead>\n",
       "    <tr style=\"text-align: right;\">\n",
       "      <th></th>\n",
       "      <th>Age</th>\n",
       "      <th>Gender</th>\n",
       "      <th>Education</th>\n",
       "      <th>Review</th>\n",
       "    </tr>\n",
       "  </thead>\n",
       "  <tbody>\n",
       "    <tr>\n",
       "      <th>0</th>\n",
       "      <td>30</td>\n",
       "      <td>Female</td>\n",
       "      <td>School</td>\n",
       "      <td>Average</td>\n",
       "    </tr>\n",
       "    <tr>\n",
       "      <th>1</th>\n",
       "      <td>68</td>\n",
       "      <td>Female</td>\n",
       "      <td>UG</td>\n",
       "      <td>Poor</td>\n",
       "    </tr>\n",
       "    <tr>\n",
       "      <th>2</th>\n",
       "      <td>70</td>\n",
       "      <td>Female</td>\n",
       "      <td>PG</td>\n",
       "      <td>Good</td>\n",
       "    </tr>\n",
       "    <tr>\n",
       "      <th>3</th>\n",
       "      <td>72</td>\n",
       "      <td>Female</td>\n",
       "      <td>PG</td>\n",
       "      <td>Good</td>\n",
       "    </tr>\n",
       "    <tr>\n",
       "      <th>4</th>\n",
       "      <td>16</td>\n",
       "      <td>Female</td>\n",
       "      <td>UG</td>\n",
       "      <td>Average</td>\n",
       "    </tr>\n",
       "  </tbody>\n",
       "</table>\n",
       "</div>"
      ],
      "text/plain": [
       "   Age  Gender Education   Review\n",
       "0   30  Female    School  Average\n",
       "1   68  Female        UG     Poor\n",
       "2   70  Female        PG     Good\n",
       "3   72  Female        PG     Good\n",
       "4   16  Female        UG  Average"
      ]
     },
     "execution_count": 14,
     "metadata": {},
     "output_type": "execute_result"
    }
   ],
   "source": [
    "X.head()"
   ]
  },
  {
   "cell_type": "markdown",
   "id": "ca4a6684",
   "metadata": {
    "papermill": {
     "duration": 0.007533,
     "end_time": "2023-03-14T13:55:56.175659",
     "exception": false,
     "start_time": "2023-03-14T13:55:56.168126",
     "status": "completed"
    },
    "tags": []
   },
   "source": [
    "**Nominal Variables : Gender**\n",
    "\n",
    "**Ordinal Variables : Education and Review**"
   ]
  },
  {
   "cell_type": "markdown",
   "id": "45a27038",
   "metadata": {
    "papermill": {
     "duration": 0.007171,
     "end_time": "2023-03-14T13:55:56.190534",
     "exception": false,
     "start_time": "2023-03-14T13:55:56.183363",
     "status": "completed"
    },
    "tags": []
   },
   "source": [
    "# **Nominal Features Encoding with Dummy Variable**"
   ]
  },
  {
   "cell_type": "code",
   "execution_count": 15,
   "id": "2c0ae168",
   "metadata": {
    "execution": {
     "iopub.execute_input": "2023-03-14T13:55:56.208054Z",
     "iopub.status.busy": "2023-03-14T13:55:56.207565Z",
     "iopub.status.idle": "2023-03-14T13:55:56.233244Z",
     "shell.execute_reply": "2023-03-14T13:55:56.231480Z"
    },
    "papermill": {
     "duration": 0.038327,
     "end_time": "2023-03-14T13:55:56.236401",
     "exception": false,
     "start_time": "2023-03-14T13:55:56.198074",
     "status": "completed"
    },
    "tags": []
   },
   "outputs": [
    {
     "data": {
      "text/html": [
       "<div>\n",
       "<style scoped>\n",
       "    .dataframe tbody tr th:only-of-type {\n",
       "        vertical-align: middle;\n",
       "    }\n",
       "\n",
       "    .dataframe tbody tr th {\n",
       "        vertical-align: top;\n",
       "    }\n",
       "\n",
       "    .dataframe thead th {\n",
       "        text-align: right;\n",
       "    }\n",
       "</style>\n",
       "<table border=\"1\" class=\"dataframe\">\n",
       "  <thead>\n",
       "    <tr style=\"text-align: right;\">\n",
       "      <th></th>\n",
       "      <th>Age</th>\n",
       "      <th>Education</th>\n",
       "      <th>Review</th>\n",
       "      <th>Gender_Female</th>\n",
       "      <th>Gender_Male</th>\n",
       "    </tr>\n",
       "  </thead>\n",
       "  <tbody>\n",
       "    <tr>\n",
       "      <th>0</th>\n",
       "      <td>30</td>\n",
       "      <td>School</td>\n",
       "      <td>Average</td>\n",
       "      <td>1</td>\n",
       "      <td>0</td>\n",
       "    </tr>\n",
       "    <tr>\n",
       "      <th>1</th>\n",
       "      <td>68</td>\n",
       "      <td>UG</td>\n",
       "      <td>Poor</td>\n",
       "      <td>1</td>\n",
       "      <td>0</td>\n",
       "    </tr>\n",
       "    <tr>\n",
       "      <th>2</th>\n",
       "      <td>70</td>\n",
       "      <td>PG</td>\n",
       "      <td>Good</td>\n",
       "      <td>1</td>\n",
       "      <td>0</td>\n",
       "    </tr>\n",
       "    <tr>\n",
       "      <th>3</th>\n",
       "      <td>72</td>\n",
       "      <td>PG</td>\n",
       "      <td>Good</td>\n",
       "      <td>1</td>\n",
       "      <td>0</td>\n",
       "    </tr>\n",
       "    <tr>\n",
       "      <th>4</th>\n",
       "      <td>16</td>\n",
       "      <td>UG</td>\n",
       "      <td>Average</td>\n",
       "      <td>1</td>\n",
       "      <td>0</td>\n",
       "    </tr>\n",
       "    <tr>\n",
       "      <th>5</th>\n",
       "      <td>31</td>\n",
       "      <td>School</td>\n",
       "      <td>Average</td>\n",
       "      <td>1</td>\n",
       "      <td>0</td>\n",
       "    </tr>\n",
       "    <tr>\n",
       "      <th>6</th>\n",
       "      <td>18</td>\n",
       "      <td>School</td>\n",
       "      <td>Good</td>\n",
       "      <td>0</td>\n",
       "      <td>1</td>\n",
       "    </tr>\n",
       "    <tr>\n",
       "      <th>7</th>\n",
       "      <td>60</td>\n",
       "      <td>School</td>\n",
       "      <td>Poor</td>\n",
       "      <td>1</td>\n",
       "      <td>0</td>\n",
       "    </tr>\n",
       "    <tr>\n",
       "      <th>8</th>\n",
       "      <td>65</td>\n",
       "      <td>UG</td>\n",
       "      <td>Average</td>\n",
       "      <td>1</td>\n",
       "      <td>0</td>\n",
       "    </tr>\n",
       "    <tr>\n",
       "      <th>9</th>\n",
       "      <td>74</td>\n",
       "      <td>UG</td>\n",
       "      <td>Good</td>\n",
       "      <td>0</td>\n",
       "      <td>1</td>\n",
       "    </tr>\n",
       "    <tr>\n",
       "      <th>10</th>\n",
       "      <td>98</td>\n",
       "      <td>UG</td>\n",
       "      <td>Good</td>\n",
       "      <td>1</td>\n",
       "      <td>0</td>\n",
       "    </tr>\n",
       "    <tr>\n",
       "      <th>11</th>\n",
       "      <td>74</td>\n",
       "      <td>UG</td>\n",
       "      <td>Good</td>\n",
       "      <td>0</td>\n",
       "      <td>1</td>\n",
       "    </tr>\n",
       "    <tr>\n",
       "      <th>12</th>\n",
       "      <td>51</td>\n",
       "      <td>School</td>\n",
       "      <td>Poor</td>\n",
       "      <td>0</td>\n",
       "      <td>1</td>\n",
       "    </tr>\n",
       "    <tr>\n",
       "      <th>13</th>\n",
       "      <td>57</td>\n",
       "      <td>School</td>\n",
       "      <td>Average</td>\n",
       "      <td>1</td>\n",
       "      <td>0</td>\n",
       "    </tr>\n",
       "    <tr>\n",
       "      <th>14</th>\n",
       "      <td>15</td>\n",
       "      <td>PG</td>\n",
       "      <td>Poor</td>\n",
       "      <td>0</td>\n",
       "      <td>1</td>\n",
       "    </tr>\n",
       "    <tr>\n",
       "      <th>15</th>\n",
       "      <td>75</td>\n",
       "      <td>UG</td>\n",
       "      <td>Poor</td>\n",
       "      <td>0</td>\n",
       "      <td>1</td>\n",
       "    </tr>\n",
       "    <tr>\n",
       "      <th>16</th>\n",
       "      <td>59</td>\n",
       "      <td>UG</td>\n",
       "      <td>Poor</td>\n",
       "      <td>0</td>\n",
       "      <td>1</td>\n",
       "    </tr>\n",
       "    <tr>\n",
       "      <th>17</th>\n",
       "      <td>22</td>\n",
       "      <td>UG</td>\n",
       "      <td>Poor</td>\n",
       "      <td>1</td>\n",
       "      <td>0</td>\n",
       "    </tr>\n",
       "    <tr>\n",
       "      <th>18</th>\n",
       "      <td>19</td>\n",
       "      <td>School</td>\n",
       "      <td>Good</td>\n",
       "      <td>0</td>\n",
       "      <td>1</td>\n",
       "    </tr>\n",
       "    <tr>\n",
       "      <th>19</th>\n",
       "      <td>97</td>\n",
       "      <td>PG</td>\n",
       "      <td>Poor</td>\n",
       "      <td>0</td>\n",
       "      <td>1</td>\n",
       "    </tr>\n",
       "    <tr>\n",
       "      <th>20</th>\n",
       "      <td>57</td>\n",
       "      <td>School</td>\n",
       "      <td>Average</td>\n",
       "      <td>1</td>\n",
       "      <td>0</td>\n",
       "    </tr>\n",
       "    <tr>\n",
       "      <th>21</th>\n",
       "      <td>32</td>\n",
       "      <td>PG</td>\n",
       "      <td>Average</td>\n",
       "      <td>0</td>\n",
       "      <td>1</td>\n",
       "    </tr>\n",
       "    <tr>\n",
       "      <th>22</th>\n",
       "      <td>18</td>\n",
       "      <td>PG</td>\n",
       "      <td>Poor</td>\n",
       "      <td>1</td>\n",
       "      <td>0</td>\n",
       "    </tr>\n",
       "    <tr>\n",
       "      <th>23</th>\n",
       "      <td>96</td>\n",
       "      <td>School</td>\n",
       "      <td>Good</td>\n",
       "      <td>1</td>\n",
       "      <td>0</td>\n",
       "    </tr>\n",
       "    <tr>\n",
       "      <th>24</th>\n",
       "      <td>16</td>\n",
       "      <td>PG</td>\n",
       "      <td>Average</td>\n",
       "      <td>1</td>\n",
       "      <td>0</td>\n",
       "    </tr>\n",
       "    <tr>\n",
       "      <th>25</th>\n",
       "      <td>57</td>\n",
       "      <td>School</td>\n",
       "      <td>Good</td>\n",
       "      <td>1</td>\n",
       "      <td>0</td>\n",
       "    </tr>\n",
       "    <tr>\n",
       "      <th>26</th>\n",
       "      <td>53</td>\n",
       "      <td>PG</td>\n",
       "      <td>Poor</td>\n",
       "      <td>1</td>\n",
       "      <td>0</td>\n",
       "    </tr>\n",
       "    <tr>\n",
       "      <th>27</th>\n",
       "      <td>69</td>\n",
       "      <td>PG</td>\n",
       "      <td>Poor</td>\n",
       "      <td>1</td>\n",
       "      <td>0</td>\n",
       "    </tr>\n",
       "    <tr>\n",
       "      <th>28</th>\n",
       "      <td>48</td>\n",
       "      <td>School</td>\n",
       "      <td>Poor</td>\n",
       "      <td>0</td>\n",
       "      <td>1</td>\n",
       "    </tr>\n",
       "    <tr>\n",
       "      <th>29</th>\n",
       "      <td>83</td>\n",
       "      <td>UG</td>\n",
       "      <td>Average</td>\n",
       "      <td>1</td>\n",
       "      <td>0</td>\n",
       "    </tr>\n",
       "    <tr>\n",
       "      <th>30</th>\n",
       "      <td>73</td>\n",
       "      <td>UG</td>\n",
       "      <td>Average</td>\n",
       "      <td>0</td>\n",
       "      <td>1</td>\n",
       "    </tr>\n",
       "    <tr>\n",
       "      <th>31</th>\n",
       "      <td>22</td>\n",
       "      <td>School</td>\n",
       "      <td>Poor</td>\n",
       "      <td>1</td>\n",
       "      <td>0</td>\n",
       "    </tr>\n",
       "    <tr>\n",
       "      <th>32</th>\n",
       "      <td>92</td>\n",
       "      <td>UG</td>\n",
       "      <td>Average</td>\n",
       "      <td>0</td>\n",
       "      <td>1</td>\n",
       "    </tr>\n",
       "    <tr>\n",
       "      <th>33</th>\n",
       "      <td>89</td>\n",
       "      <td>PG</td>\n",
       "      <td>Good</td>\n",
       "      <td>1</td>\n",
       "      <td>0</td>\n",
       "    </tr>\n",
       "    <tr>\n",
       "      <th>34</th>\n",
       "      <td>86</td>\n",
       "      <td>School</td>\n",
       "      <td>Average</td>\n",
       "      <td>0</td>\n",
       "      <td>1</td>\n",
       "    </tr>\n",
       "    <tr>\n",
       "      <th>35</th>\n",
       "      <td>74</td>\n",
       "      <td>School</td>\n",
       "      <td>Poor</td>\n",
       "      <td>0</td>\n",
       "      <td>1</td>\n",
       "    </tr>\n",
       "    <tr>\n",
       "      <th>36</th>\n",
       "      <td>34</td>\n",
       "      <td>UG</td>\n",
       "      <td>Good</td>\n",
       "      <td>1</td>\n",
       "      <td>0</td>\n",
       "    </tr>\n",
       "    <tr>\n",
       "      <th>37</th>\n",
       "      <td>94</td>\n",
       "      <td>PG</td>\n",
       "      <td>Average</td>\n",
       "      <td>0</td>\n",
       "      <td>1</td>\n",
       "    </tr>\n",
       "    <tr>\n",
       "      <th>38</th>\n",
       "      <td>45</td>\n",
       "      <td>School</td>\n",
       "      <td>Good</td>\n",
       "      <td>1</td>\n",
       "      <td>0</td>\n",
       "    </tr>\n",
       "    <tr>\n",
       "      <th>39</th>\n",
       "      <td>76</td>\n",
       "      <td>PG</td>\n",
       "      <td>Poor</td>\n",
       "      <td>0</td>\n",
       "      <td>1</td>\n",
       "    </tr>\n",
       "    <tr>\n",
       "      <th>40</th>\n",
       "      <td>39</td>\n",
       "      <td>School</td>\n",
       "      <td>Good</td>\n",
       "      <td>0</td>\n",
       "      <td>1</td>\n",
       "    </tr>\n",
       "    <tr>\n",
       "      <th>41</th>\n",
       "      <td>23</td>\n",
       "      <td>PG</td>\n",
       "      <td>Good</td>\n",
       "      <td>0</td>\n",
       "      <td>1</td>\n",
       "    </tr>\n",
       "    <tr>\n",
       "      <th>42</th>\n",
       "      <td>30</td>\n",
       "      <td>PG</td>\n",
       "      <td>Good</td>\n",
       "      <td>1</td>\n",
       "      <td>0</td>\n",
       "    </tr>\n",
       "    <tr>\n",
       "      <th>43</th>\n",
       "      <td>27</td>\n",
       "      <td>PG</td>\n",
       "      <td>Poor</td>\n",
       "      <td>0</td>\n",
       "      <td>1</td>\n",
       "    </tr>\n",
       "    <tr>\n",
       "      <th>44</th>\n",
       "      <td>77</td>\n",
       "      <td>UG</td>\n",
       "      <td>Average</td>\n",
       "      <td>1</td>\n",
       "      <td>0</td>\n",
       "    </tr>\n",
       "    <tr>\n",
       "      <th>45</th>\n",
       "      <td>61</td>\n",
       "      <td>PG</td>\n",
       "      <td>Poor</td>\n",
       "      <td>0</td>\n",
       "      <td>1</td>\n",
       "    </tr>\n",
       "    <tr>\n",
       "      <th>46</th>\n",
       "      <td>64</td>\n",
       "      <td>PG</td>\n",
       "      <td>Poor</td>\n",
       "      <td>1</td>\n",
       "      <td>0</td>\n",
       "    </tr>\n",
       "    <tr>\n",
       "      <th>47</th>\n",
       "      <td>38</td>\n",
       "      <td>PG</td>\n",
       "      <td>Good</td>\n",
       "      <td>1</td>\n",
       "      <td>0</td>\n",
       "    </tr>\n",
       "    <tr>\n",
       "      <th>48</th>\n",
       "      <td>39</td>\n",
       "      <td>UG</td>\n",
       "      <td>Good</td>\n",
       "      <td>1</td>\n",
       "      <td>0</td>\n",
       "    </tr>\n",
       "    <tr>\n",
       "      <th>49</th>\n",
       "      <td>25</td>\n",
       "      <td>UG</td>\n",
       "      <td>Good</td>\n",
       "      <td>1</td>\n",
       "      <td>0</td>\n",
       "    </tr>\n",
       "  </tbody>\n",
       "</table>\n",
       "</div>"
      ],
      "text/plain": [
       "    Age Education   Review  Gender_Female  Gender_Male\n",
       "0    30    School  Average              1            0\n",
       "1    68        UG     Poor              1            0\n",
       "2    70        PG     Good              1            0\n",
       "3    72        PG     Good              1            0\n",
       "4    16        UG  Average              1            0\n",
       "5    31    School  Average              1            0\n",
       "6    18    School     Good              0            1\n",
       "7    60    School     Poor              1            0\n",
       "8    65        UG  Average              1            0\n",
       "9    74        UG     Good              0            1\n",
       "10   98        UG     Good              1            0\n",
       "11   74        UG     Good              0            1\n",
       "12   51    School     Poor              0            1\n",
       "13   57    School  Average              1            0\n",
       "14   15        PG     Poor              0            1\n",
       "15   75        UG     Poor              0            1\n",
       "16   59        UG     Poor              0            1\n",
       "17   22        UG     Poor              1            0\n",
       "18   19    School     Good              0            1\n",
       "19   97        PG     Poor              0            1\n",
       "20   57    School  Average              1            0\n",
       "21   32        PG  Average              0            1\n",
       "22   18        PG     Poor              1            0\n",
       "23   96    School     Good              1            0\n",
       "24   16        PG  Average              1            0\n",
       "25   57    School     Good              1            0\n",
       "26   53        PG     Poor              1            0\n",
       "27   69        PG     Poor              1            0\n",
       "28   48    School     Poor              0            1\n",
       "29   83        UG  Average              1            0\n",
       "30   73        UG  Average              0            1\n",
       "31   22    School     Poor              1            0\n",
       "32   92        UG  Average              0            1\n",
       "33   89        PG     Good              1            0\n",
       "34   86    School  Average              0            1\n",
       "35   74    School     Poor              0            1\n",
       "36   34        UG     Good              1            0\n",
       "37   94        PG  Average              0            1\n",
       "38   45    School     Good              1            0\n",
       "39   76        PG     Poor              0            1\n",
       "40   39    School     Good              0            1\n",
       "41   23        PG     Good              0            1\n",
       "42   30        PG     Good              1            0\n",
       "43   27        PG     Poor              0            1\n",
       "44   77        UG  Average              1            0\n",
       "45   61        PG     Poor              0            1\n",
       "46   64        PG     Poor              1            0\n",
       "47   38        PG     Good              1            0\n",
       "48   39        UG     Good              1            0\n",
       "49   25        UG     Good              1            0"
      ]
     },
     "execution_count": 15,
     "metadata": {},
     "output_type": "execute_result"
    }
   ],
   "source": [
    "pd.get_dummies(X, columns = ['Gender'])"
   ]
  },
  {
   "cell_type": "code",
   "execution_count": 16,
   "id": "a166bffb",
   "metadata": {
    "execution": {
     "iopub.execute_input": "2023-03-14T13:55:56.255243Z",
     "iopub.status.busy": "2023-03-14T13:55:56.254855Z",
     "iopub.status.idle": "2023-03-14T13:55:56.263231Z",
     "shell.execute_reply": "2023-03-14T13:55:56.262136Z"
    },
    "papermill": {
     "duration": 0.02046,
     "end_time": "2023-03-14T13:55:56.265419",
     "exception": false,
     "start_time": "2023-03-14T13:55:56.244959",
     "status": "completed"
    },
    "tags": []
   },
   "outputs": [],
   "source": [
    "X = pd.get_dummies(X, columns = ['Gender'], drop_first=True)"
   ]
  },
  {
   "cell_type": "code",
   "execution_count": 17,
   "id": "d2e28b9c",
   "metadata": {
    "execution": {
     "iopub.execute_input": "2023-03-14T13:55:56.284571Z",
     "iopub.status.busy": "2023-03-14T13:55:56.284184Z",
     "iopub.status.idle": "2023-03-14T13:55:56.295304Z",
     "shell.execute_reply": "2023-03-14T13:55:56.293967Z"
    },
    "papermill": {
     "duration": 0.024095,
     "end_time": "2023-03-14T13:55:56.298194",
     "exception": false,
     "start_time": "2023-03-14T13:55:56.274099",
     "status": "completed"
    },
    "tags": []
   },
   "outputs": [
    {
     "data": {
      "text/html": [
       "<div>\n",
       "<style scoped>\n",
       "    .dataframe tbody tr th:only-of-type {\n",
       "        vertical-align: middle;\n",
       "    }\n",
       "\n",
       "    .dataframe tbody tr th {\n",
       "        vertical-align: top;\n",
       "    }\n",
       "\n",
       "    .dataframe thead th {\n",
       "        text-align: right;\n",
       "    }\n",
       "</style>\n",
       "<table border=\"1\" class=\"dataframe\">\n",
       "  <thead>\n",
       "    <tr style=\"text-align: right;\">\n",
       "      <th></th>\n",
       "      <th>Age</th>\n",
       "      <th>Education</th>\n",
       "      <th>Review</th>\n",
       "      <th>Gender_Male</th>\n",
       "    </tr>\n",
       "  </thead>\n",
       "  <tbody>\n",
       "    <tr>\n",
       "      <th>0</th>\n",
       "      <td>30</td>\n",
       "      <td>School</td>\n",
       "      <td>Average</td>\n",
       "      <td>0</td>\n",
       "    </tr>\n",
       "    <tr>\n",
       "      <th>1</th>\n",
       "      <td>68</td>\n",
       "      <td>UG</td>\n",
       "      <td>Poor</td>\n",
       "      <td>0</td>\n",
       "    </tr>\n",
       "    <tr>\n",
       "      <th>2</th>\n",
       "      <td>70</td>\n",
       "      <td>PG</td>\n",
       "      <td>Good</td>\n",
       "      <td>0</td>\n",
       "    </tr>\n",
       "    <tr>\n",
       "      <th>3</th>\n",
       "      <td>72</td>\n",
       "      <td>PG</td>\n",
       "      <td>Good</td>\n",
       "      <td>0</td>\n",
       "    </tr>\n",
       "    <tr>\n",
       "      <th>4</th>\n",
       "      <td>16</td>\n",
       "      <td>UG</td>\n",
       "      <td>Average</td>\n",
       "      <td>0</td>\n",
       "    </tr>\n",
       "  </tbody>\n",
       "</table>\n",
       "</div>"
      ],
      "text/plain": [
       "   Age Education   Review  Gender_Male\n",
       "0   30    School  Average            0\n",
       "1   68        UG     Poor            0\n",
       "2   70        PG     Good            0\n",
       "3   72        PG     Good            0\n",
       "4   16        UG  Average            0"
      ]
     },
     "execution_count": 17,
     "metadata": {},
     "output_type": "execute_result"
    }
   ],
   "source": [
    "X.head()"
   ]
  },
  {
   "cell_type": "markdown",
   "id": "b84c1a3f",
   "metadata": {
    "papermill": {
     "duration": 0.008116,
     "end_time": "2023-03-14T13:55:56.314942",
     "exception": false,
     "start_time": "2023-03-14T13:55:56.306826",
     "status": "completed"
    },
    "tags": []
   },
   "source": [
    "# **Ordinal Feature Encoding**"
   ]
  },
  {
   "cell_type": "code",
   "execution_count": 18,
   "id": "9880dd2a",
   "metadata": {
    "execution": {
     "iopub.execute_input": "2023-03-14T13:55:56.334507Z",
     "iopub.status.busy": "2023-03-14T13:55:56.334145Z",
     "iopub.status.idle": "2023-03-14T13:55:56.342099Z",
     "shell.execute_reply": "2023-03-14T13:55:56.341116Z"
    },
    "papermill": {
     "duration": 0.0204,
     "end_time": "2023-03-14T13:55:56.344149",
     "exception": false,
     "start_time": "2023-03-14T13:55:56.323749",
     "status": "completed"
    },
    "tags": []
   },
   "outputs": [
    {
     "data": {
      "text/plain": [
       "PG        18\n",
       "School    16\n",
       "UG        16\n",
       "Name: Education, dtype: int64"
      ]
     },
     "execution_count": 18,
     "metadata": {},
     "output_type": "execute_result"
    }
   ],
   "source": [
    "X['Education'].value_counts()"
   ]
  },
  {
   "cell_type": "code",
   "execution_count": 19,
   "id": "e19e82a7",
   "metadata": {
    "execution": {
     "iopub.execute_input": "2023-03-14T13:55:56.363439Z",
     "iopub.status.busy": "2023-03-14T13:55:56.363027Z",
     "iopub.status.idle": "2023-03-14T13:55:56.371019Z",
     "shell.execute_reply": "2023-03-14T13:55:56.369421Z"
    },
    "papermill": {
     "duration": 0.020128,
     "end_time": "2023-03-14T13:55:56.373164",
     "exception": false,
     "start_time": "2023-03-14T13:55:56.353036",
     "status": "completed"
    },
    "tags": []
   },
   "outputs": [],
   "source": [
    "X.replace({'Education':{'School':0,'UG':1,'PG':2}}, inplace=True)"
   ]
  },
  {
   "cell_type": "code",
   "execution_count": 20,
   "id": "d4c1c9d1",
   "metadata": {
    "execution": {
     "iopub.execute_input": "2023-03-14T13:55:56.391902Z",
     "iopub.status.busy": "2023-03-14T13:55:56.391541Z",
     "iopub.status.idle": "2023-03-14T13:55:56.401832Z",
     "shell.execute_reply": "2023-03-14T13:55:56.400290Z"
    },
    "papermill": {
     "duration": 0.022514,
     "end_time": "2023-03-14T13:55:56.404372",
     "exception": false,
     "start_time": "2023-03-14T13:55:56.381858",
     "status": "completed"
    },
    "tags": []
   },
   "outputs": [
    {
     "data": {
      "text/plain": [
       "2    18\n",
       "0    16\n",
       "1    16\n",
       "Name: Education, dtype: int64"
      ]
     },
     "execution_count": 20,
     "metadata": {},
     "output_type": "execute_result"
    }
   ],
   "source": [
    "X['Education'].value_counts()"
   ]
  },
  {
   "cell_type": "code",
   "execution_count": 21,
   "id": "948eff8a",
   "metadata": {
    "execution": {
     "iopub.execute_input": "2023-03-14T13:55:56.424392Z",
     "iopub.status.busy": "2023-03-14T13:55:56.423977Z",
     "iopub.status.idle": "2023-03-14T13:55:56.434258Z",
     "shell.execute_reply": "2023-03-14T13:55:56.432892Z"
    },
    "papermill": {
     "duration": 0.023988,
     "end_time": "2023-03-14T13:55:56.437078",
     "exception": false,
     "start_time": "2023-03-14T13:55:56.413090",
     "status": "completed"
    },
    "tags": []
   },
   "outputs": [
    {
     "data": {
      "text/plain": [
       "Poor       18\n",
       "Good       18\n",
       "Average    14\n",
       "Name: Review, dtype: int64"
      ]
     },
     "execution_count": 21,
     "metadata": {},
     "output_type": "execute_result"
    }
   ],
   "source": [
    "X['Review'].value_counts()"
   ]
  },
  {
   "cell_type": "code",
   "execution_count": 22,
   "id": "3d972c3c",
   "metadata": {
    "execution": {
     "iopub.execute_input": "2023-03-14T13:55:56.457590Z",
     "iopub.status.busy": "2023-03-14T13:55:56.456808Z",
     "iopub.status.idle": "2023-03-14T13:55:56.464362Z",
     "shell.execute_reply": "2023-03-14T13:55:56.462940Z"
    },
    "papermill": {
     "duration": 0.021865,
     "end_time": "2023-03-14T13:55:56.468121",
     "exception": false,
     "start_time": "2023-03-14T13:55:56.446256",
     "status": "completed"
    },
    "tags": []
   },
   "outputs": [],
   "source": [
    "X.replace({'Review':{'Poor':0,'Average':1,'Good':2}}, inplace=True)"
   ]
  },
  {
   "cell_type": "code",
   "execution_count": 23,
   "id": "a155efd1",
   "metadata": {
    "execution": {
     "iopub.execute_input": "2023-03-14T13:55:56.487963Z",
     "iopub.status.busy": "2023-03-14T13:55:56.487522Z",
     "iopub.status.idle": "2023-03-14T13:55:56.497759Z",
     "shell.execute_reply": "2023-03-14T13:55:56.496710Z"
    },
    "papermill": {
     "duration": 0.022699,
     "end_time": "2023-03-14T13:55:56.499683",
     "exception": false,
     "start_time": "2023-03-14T13:55:56.476984",
     "status": "completed"
    },
    "tags": []
   },
   "outputs": [
    {
     "data": {
      "text/plain": [
       "0    18\n",
       "2    18\n",
       "1    14\n",
       "Name: Review, dtype: int64"
      ]
     },
     "execution_count": 23,
     "metadata": {},
     "output_type": "execute_result"
    }
   ],
   "source": [
    "X['Review'].value_counts()"
   ]
  },
  {
   "cell_type": "code",
   "execution_count": 24,
   "id": "3c74ce48",
   "metadata": {
    "execution": {
     "iopub.execute_input": "2023-03-14T13:55:56.520472Z",
     "iopub.status.busy": "2023-03-14T13:55:56.520057Z",
     "iopub.status.idle": "2023-03-14T13:55:56.530671Z",
     "shell.execute_reply": "2023-03-14T13:55:56.529519Z"
    },
    "papermill": {
     "duration": 0.024927,
     "end_time": "2023-03-14T13:55:56.533550",
     "exception": false,
     "start_time": "2023-03-14T13:55:56.508623",
     "status": "completed"
    },
    "tags": []
   },
   "outputs": [
    {
     "data": {
      "text/html": [
       "<div>\n",
       "<style scoped>\n",
       "    .dataframe tbody tr th:only-of-type {\n",
       "        vertical-align: middle;\n",
       "    }\n",
       "\n",
       "    .dataframe tbody tr th {\n",
       "        vertical-align: top;\n",
       "    }\n",
       "\n",
       "    .dataframe thead th {\n",
       "        text-align: right;\n",
       "    }\n",
       "</style>\n",
       "<table border=\"1\" class=\"dataframe\">\n",
       "  <thead>\n",
       "    <tr style=\"text-align: right;\">\n",
       "      <th></th>\n",
       "      <th>Age</th>\n",
       "      <th>Education</th>\n",
       "      <th>Review</th>\n",
       "      <th>Gender_Male</th>\n",
       "    </tr>\n",
       "  </thead>\n",
       "  <tbody>\n",
       "    <tr>\n",
       "      <th>0</th>\n",
       "      <td>30</td>\n",
       "      <td>0</td>\n",
       "      <td>1</td>\n",
       "      <td>0</td>\n",
       "    </tr>\n",
       "    <tr>\n",
       "      <th>1</th>\n",
       "      <td>68</td>\n",
       "      <td>1</td>\n",
       "      <td>0</td>\n",
       "      <td>0</td>\n",
       "    </tr>\n",
       "    <tr>\n",
       "      <th>2</th>\n",
       "      <td>70</td>\n",
       "      <td>2</td>\n",
       "      <td>2</td>\n",
       "      <td>0</td>\n",
       "    </tr>\n",
       "    <tr>\n",
       "      <th>3</th>\n",
       "      <td>72</td>\n",
       "      <td>2</td>\n",
       "      <td>2</td>\n",
       "      <td>0</td>\n",
       "    </tr>\n",
       "    <tr>\n",
       "      <th>4</th>\n",
       "      <td>16</td>\n",
       "      <td>1</td>\n",
       "      <td>1</td>\n",
       "      <td>0</td>\n",
       "    </tr>\n",
       "  </tbody>\n",
       "</table>\n",
       "</div>"
      ],
      "text/plain": [
       "   Age  Education  Review  Gender_Male\n",
       "0   30          0       1            0\n",
       "1   68          1       0            0\n",
       "2   70          2       2            0\n",
       "3   72          2       2            0\n",
       "4   16          1       1            0"
      ]
     },
     "execution_count": 24,
     "metadata": {},
     "output_type": "execute_result"
    }
   ],
   "source": [
    "X.head()"
   ]
  },
  {
   "cell_type": "code",
   "execution_count": 25,
   "id": "603fad2d",
   "metadata": {
    "execution": {
     "iopub.execute_input": "2023-03-14T13:55:56.553843Z",
     "iopub.status.busy": "2023-03-14T13:55:56.553464Z",
     "iopub.status.idle": "2023-03-14T13:55:56.566204Z",
     "shell.execute_reply": "2023-03-14T13:55:56.565190Z"
    },
    "papermill": {
     "duration": 0.025872,
     "end_time": "2023-03-14T13:55:56.568691",
     "exception": false,
     "start_time": "2023-03-14T13:55:56.542819",
     "status": "completed"
    },
    "tags": []
   },
   "outputs": [
    {
     "data": {
      "text/html": [
       "<div>\n",
       "<style scoped>\n",
       "    .dataframe tbody tr th:only-of-type {\n",
       "        vertical-align: middle;\n",
       "    }\n",
       "\n",
       "    .dataframe tbody tr th {\n",
       "        vertical-align: top;\n",
       "    }\n",
       "\n",
       "    .dataframe thead th {\n",
       "        text-align: right;\n",
       "    }\n",
       "</style>\n",
       "<table border=\"1\" class=\"dataframe\">\n",
       "  <thead>\n",
       "    <tr style=\"text-align: right;\">\n",
       "      <th></th>\n",
       "      <th>Age</th>\n",
       "      <th>Gender</th>\n",
       "      <th>Education</th>\n",
       "      <th>Review</th>\n",
       "    </tr>\n",
       "  </thead>\n",
       "  <tbody>\n",
       "    <tr>\n",
       "      <th>0</th>\n",
       "      <td>30</td>\n",
       "      <td>Female</td>\n",
       "      <td>School</td>\n",
       "      <td>Average</td>\n",
       "    </tr>\n",
       "    <tr>\n",
       "      <th>1</th>\n",
       "      <td>68</td>\n",
       "      <td>Female</td>\n",
       "      <td>UG</td>\n",
       "      <td>Poor</td>\n",
       "    </tr>\n",
       "    <tr>\n",
       "      <th>2</th>\n",
       "      <td>70</td>\n",
       "      <td>Female</td>\n",
       "      <td>PG</td>\n",
       "      <td>Good</td>\n",
       "    </tr>\n",
       "    <tr>\n",
       "      <th>3</th>\n",
       "      <td>72</td>\n",
       "      <td>Female</td>\n",
       "      <td>PG</td>\n",
       "      <td>Good</td>\n",
       "    </tr>\n",
       "    <tr>\n",
       "      <th>4</th>\n",
       "      <td>16</td>\n",
       "      <td>Female</td>\n",
       "      <td>UG</td>\n",
       "      <td>Average</td>\n",
       "    </tr>\n",
       "  </tbody>\n",
       "</table>\n",
       "</div>"
      ],
      "text/plain": [
       "   Age  Gender Education   Review\n",
       "0   30  Female    School  Average\n",
       "1   68  Female        UG     Poor\n",
       "2   70  Female        PG     Good\n",
       "3   72  Female        PG     Good\n",
       "4   16  Female        UG  Average"
      ]
     },
     "execution_count": 25,
     "metadata": {},
     "output_type": "execute_result"
    }
   ],
   "source": [
    "# define features (X)\n",
    "X = df.drop(['Purchased', 'Customer ID'], axis=1)\n",
    "X.head()"
   ]
  },
  {
   "cell_type": "code",
   "execution_count": 26,
   "id": "f37dd24e",
   "metadata": {
    "execution": {
     "iopub.execute_input": "2023-03-14T13:55:56.589716Z",
     "iopub.status.busy": "2023-03-14T13:55:56.589290Z",
     "iopub.status.idle": "2023-03-14T13:55:56.606822Z",
     "shell.execute_reply": "2023-03-14T13:55:56.605721Z"
    },
    "papermill": {
     "duration": 0.031401,
     "end_time": "2023-03-14T13:55:56.609353",
     "exception": false,
     "start_time": "2023-03-14T13:55:56.577952",
     "status": "completed"
    },
    "tags": []
   },
   "outputs": [
    {
     "data": {
      "text/html": [
       "<div>\n",
       "<style scoped>\n",
       "    .dataframe tbody tr th:only-of-type {\n",
       "        vertical-align: middle;\n",
       "    }\n",
       "\n",
       "    .dataframe tbody tr th {\n",
       "        vertical-align: top;\n",
       "    }\n",
       "\n",
       "    .dataframe thead th {\n",
       "        text-align: right;\n",
       "    }\n",
       "</style>\n",
       "<table border=\"1\" class=\"dataframe\">\n",
       "  <thead>\n",
       "    <tr style=\"text-align: right;\">\n",
       "      <th></th>\n",
       "      <th>Age</th>\n",
       "      <th>Gender</th>\n",
       "      <th>Education</th>\n",
       "      <th>Review</th>\n",
       "    </tr>\n",
       "  </thead>\n",
       "  <tbody>\n",
       "    <tr>\n",
       "      <th>0</th>\n",
       "      <td>30</td>\n",
       "      <td>Female</td>\n",
       "      <td>School</td>\n",
       "      <td>Average</td>\n",
       "    </tr>\n",
       "    <tr>\n",
       "      <th>1</th>\n",
       "      <td>68</td>\n",
       "      <td>Female</td>\n",
       "      <td>UG</td>\n",
       "      <td>Poor</td>\n",
       "    </tr>\n",
       "    <tr>\n",
       "      <th>2</th>\n",
       "      <td>70</td>\n",
       "      <td>Female</td>\n",
       "      <td>PG</td>\n",
       "      <td>Good</td>\n",
       "    </tr>\n",
       "    <tr>\n",
       "      <th>3</th>\n",
       "      <td>72</td>\n",
       "      <td>Female</td>\n",
       "      <td>PG</td>\n",
       "      <td>Good</td>\n",
       "    </tr>\n",
       "    <tr>\n",
       "      <th>4</th>\n",
       "      <td>16</td>\n",
       "      <td>Female</td>\n",
       "      <td>UG</td>\n",
       "      <td>Average</td>\n",
       "    </tr>\n",
       "    <tr>\n",
       "      <th>5</th>\n",
       "      <td>31</td>\n",
       "      <td>Female</td>\n",
       "      <td>School</td>\n",
       "      <td>Average</td>\n",
       "    </tr>\n",
       "    <tr>\n",
       "      <th>6</th>\n",
       "      <td>18</td>\n",
       "      <td>Male</td>\n",
       "      <td>School</td>\n",
       "      <td>Good</td>\n",
       "    </tr>\n",
       "    <tr>\n",
       "      <th>7</th>\n",
       "      <td>60</td>\n",
       "      <td>Female</td>\n",
       "      <td>School</td>\n",
       "      <td>Poor</td>\n",
       "    </tr>\n",
       "    <tr>\n",
       "      <th>8</th>\n",
       "      <td>65</td>\n",
       "      <td>Female</td>\n",
       "      <td>UG</td>\n",
       "      <td>Average</td>\n",
       "    </tr>\n",
       "    <tr>\n",
       "      <th>9</th>\n",
       "      <td>74</td>\n",
       "      <td>Male</td>\n",
       "      <td>UG</td>\n",
       "      <td>Good</td>\n",
       "    </tr>\n",
       "    <tr>\n",
       "      <th>10</th>\n",
       "      <td>98</td>\n",
       "      <td>Female</td>\n",
       "      <td>UG</td>\n",
       "      <td>Good</td>\n",
       "    </tr>\n",
       "    <tr>\n",
       "      <th>11</th>\n",
       "      <td>74</td>\n",
       "      <td>Male</td>\n",
       "      <td>UG</td>\n",
       "      <td>Good</td>\n",
       "    </tr>\n",
       "    <tr>\n",
       "      <th>12</th>\n",
       "      <td>51</td>\n",
       "      <td>Male</td>\n",
       "      <td>School</td>\n",
       "      <td>Poor</td>\n",
       "    </tr>\n",
       "    <tr>\n",
       "      <th>13</th>\n",
       "      <td>57</td>\n",
       "      <td>Female</td>\n",
       "      <td>School</td>\n",
       "      <td>Average</td>\n",
       "    </tr>\n",
       "    <tr>\n",
       "      <th>14</th>\n",
       "      <td>15</td>\n",
       "      <td>Male</td>\n",
       "      <td>PG</td>\n",
       "      <td>Poor</td>\n",
       "    </tr>\n",
       "    <tr>\n",
       "      <th>15</th>\n",
       "      <td>75</td>\n",
       "      <td>Male</td>\n",
       "      <td>UG</td>\n",
       "      <td>Poor</td>\n",
       "    </tr>\n",
       "    <tr>\n",
       "      <th>16</th>\n",
       "      <td>59</td>\n",
       "      <td>Male</td>\n",
       "      <td>UG</td>\n",
       "      <td>Poor</td>\n",
       "    </tr>\n",
       "    <tr>\n",
       "      <th>17</th>\n",
       "      <td>22</td>\n",
       "      <td>Female</td>\n",
       "      <td>UG</td>\n",
       "      <td>Poor</td>\n",
       "    </tr>\n",
       "    <tr>\n",
       "      <th>18</th>\n",
       "      <td>19</td>\n",
       "      <td>Male</td>\n",
       "      <td>School</td>\n",
       "      <td>Good</td>\n",
       "    </tr>\n",
       "    <tr>\n",
       "      <th>19</th>\n",
       "      <td>97</td>\n",
       "      <td>Male</td>\n",
       "      <td>PG</td>\n",
       "      <td>Poor</td>\n",
       "    </tr>\n",
       "    <tr>\n",
       "      <th>20</th>\n",
       "      <td>57</td>\n",
       "      <td>Female</td>\n",
       "      <td>School</td>\n",
       "      <td>Average</td>\n",
       "    </tr>\n",
       "    <tr>\n",
       "      <th>21</th>\n",
       "      <td>32</td>\n",
       "      <td>Male</td>\n",
       "      <td>PG</td>\n",
       "      <td>Average</td>\n",
       "    </tr>\n",
       "    <tr>\n",
       "      <th>22</th>\n",
       "      <td>18</td>\n",
       "      <td>Female</td>\n",
       "      <td>PG</td>\n",
       "      <td>Poor</td>\n",
       "    </tr>\n",
       "    <tr>\n",
       "      <th>23</th>\n",
       "      <td>96</td>\n",
       "      <td>Female</td>\n",
       "      <td>School</td>\n",
       "      <td>Good</td>\n",
       "    </tr>\n",
       "    <tr>\n",
       "      <th>24</th>\n",
       "      <td>16</td>\n",
       "      <td>Female</td>\n",
       "      <td>PG</td>\n",
       "      <td>Average</td>\n",
       "    </tr>\n",
       "    <tr>\n",
       "      <th>25</th>\n",
       "      <td>57</td>\n",
       "      <td>Female</td>\n",
       "      <td>School</td>\n",
       "      <td>Good</td>\n",
       "    </tr>\n",
       "    <tr>\n",
       "      <th>26</th>\n",
       "      <td>53</td>\n",
       "      <td>Female</td>\n",
       "      <td>PG</td>\n",
       "      <td>Poor</td>\n",
       "    </tr>\n",
       "    <tr>\n",
       "      <th>27</th>\n",
       "      <td>69</td>\n",
       "      <td>Female</td>\n",
       "      <td>PG</td>\n",
       "      <td>Poor</td>\n",
       "    </tr>\n",
       "    <tr>\n",
       "      <th>28</th>\n",
       "      <td>48</td>\n",
       "      <td>Male</td>\n",
       "      <td>School</td>\n",
       "      <td>Poor</td>\n",
       "    </tr>\n",
       "    <tr>\n",
       "      <th>29</th>\n",
       "      <td>83</td>\n",
       "      <td>Female</td>\n",
       "      <td>UG</td>\n",
       "      <td>Average</td>\n",
       "    </tr>\n",
       "    <tr>\n",
       "      <th>30</th>\n",
       "      <td>73</td>\n",
       "      <td>Male</td>\n",
       "      <td>UG</td>\n",
       "      <td>Average</td>\n",
       "    </tr>\n",
       "    <tr>\n",
       "      <th>31</th>\n",
       "      <td>22</td>\n",
       "      <td>Female</td>\n",
       "      <td>School</td>\n",
       "      <td>Poor</td>\n",
       "    </tr>\n",
       "    <tr>\n",
       "      <th>32</th>\n",
       "      <td>92</td>\n",
       "      <td>Male</td>\n",
       "      <td>UG</td>\n",
       "      <td>Average</td>\n",
       "    </tr>\n",
       "    <tr>\n",
       "      <th>33</th>\n",
       "      <td>89</td>\n",
       "      <td>Female</td>\n",
       "      <td>PG</td>\n",
       "      <td>Good</td>\n",
       "    </tr>\n",
       "    <tr>\n",
       "      <th>34</th>\n",
       "      <td>86</td>\n",
       "      <td>Male</td>\n",
       "      <td>School</td>\n",
       "      <td>Average</td>\n",
       "    </tr>\n",
       "    <tr>\n",
       "      <th>35</th>\n",
       "      <td>74</td>\n",
       "      <td>Male</td>\n",
       "      <td>School</td>\n",
       "      <td>Poor</td>\n",
       "    </tr>\n",
       "    <tr>\n",
       "      <th>36</th>\n",
       "      <td>34</td>\n",
       "      <td>Female</td>\n",
       "      <td>UG</td>\n",
       "      <td>Good</td>\n",
       "    </tr>\n",
       "    <tr>\n",
       "      <th>37</th>\n",
       "      <td>94</td>\n",
       "      <td>Male</td>\n",
       "      <td>PG</td>\n",
       "      <td>Average</td>\n",
       "    </tr>\n",
       "    <tr>\n",
       "      <th>38</th>\n",
       "      <td>45</td>\n",
       "      <td>Female</td>\n",
       "      <td>School</td>\n",
       "      <td>Good</td>\n",
       "    </tr>\n",
       "    <tr>\n",
       "      <th>39</th>\n",
       "      <td>76</td>\n",
       "      <td>Male</td>\n",
       "      <td>PG</td>\n",
       "      <td>Poor</td>\n",
       "    </tr>\n",
       "    <tr>\n",
       "      <th>40</th>\n",
       "      <td>39</td>\n",
       "      <td>Male</td>\n",
       "      <td>School</td>\n",
       "      <td>Good</td>\n",
       "    </tr>\n",
       "    <tr>\n",
       "      <th>41</th>\n",
       "      <td>23</td>\n",
       "      <td>Male</td>\n",
       "      <td>PG</td>\n",
       "      <td>Good</td>\n",
       "    </tr>\n",
       "    <tr>\n",
       "      <th>42</th>\n",
       "      <td>30</td>\n",
       "      <td>Female</td>\n",
       "      <td>PG</td>\n",
       "      <td>Good</td>\n",
       "    </tr>\n",
       "    <tr>\n",
       "      <th>43</th>\n",
       "      <td>27</td>\n",
       "      <td>Male</td>\n",
       "      <td>PG</td>\n",
       "      <td>Poor</td>\n",
       "    </tr>\n",
       "    <tr>\n",
       "      <th>44</th>\n",
       "      <td>77</td>\n",
       "      <td>Female</td>\n",
       "      <td>UG</td>\n",
       "      <td>Average</td>\n",
       "    </tr>\n",
       "    <tr>\n",
       "      <th>45</th>\n",
       "      <td>61</td>\n",
       "      <td>Male</td>\n",
       "      <td>PG</td>\n",
       "      <td>Poor</td>\n",
       "    </tr>\n",
       "    <tr>\n",
       "      <th>46</th>\n",
       "      <td>64</td>\n",
       "      <td>Female</td>\n",
       "      <td>PG</td>\n",
       "      <td>Poor</td>\n",
       "    </tr>\n",
       "    <tr>\n",
       "      <th>47</th>\n",
       "      <td>38</td>\n",
       "      <td>Female</td>\n",
       "      <td>PG</td>\n",
       "      <td>Good</td>\n",
       "    </tr>\n",
       "    <tr>\n",
       "      <th>48</th>\n",
       "      <td>39</td>\n",
       "      <td>Female</td>\n",
       "      <td>UG</td>\n",
       "      <td>Good</td>\n",
       "    </tr>\n",
       "    <tr>\n",
       "      <th>49</th>\n",
       "      <td>25</td>\n",
       "      <td>Female</td>\n",
       "      <td>UG</td>\n",
       "      <td>Good</td>\n",
       "    </tr>\n",
       "  </tbody>\n",
       "</table>\n",
       "</div>"
      ],
      "text/plain": [
       "    Age  Gender Education   Review\n",
       "0    30  Female    School  Average\n",
       "1    68  Female        UG     Poor\n",
       "2    70  Female        PG     Good\n",
       "3    72  Female        PG     Good\n",
       "4    16  Female        UG  Average\n",
       "5    31  Female    School  Average\n",
       "6    18    Male    School     Good\n",
       "7    60  Female    School     Poor\n",
       "8    65  Female        UG  Average\n",
       "9    74    Male        UG     Good\n",
       "10   98  Female        UG     Good\n",
       "11   74    Male        UG     Good\n",
       "12   51    Male    School     Poor\n",
       "13   57  Female    School  Average\n",
       "14   15    Male        PG     Poor\n",
       "15   75    Male        UG     Poor\n",
       "16   59    Male        UG     Poor\n",
       "17   22  Female        UG     Poor\n",
       "18   19    Male    School     Good\n",
       "19   97    Male        PG     Poor\n",
       "20   57  Female    School  Average\n",
       "21   32    Male        PG  Average\n",
       "22   18  Female        PG     Poor\n",
       "23   96  Female    School     Good\n",
       "24   16  Female        PG  Average\n",
       "25   57  Female    School     Good\n",
       "26   53  Female        PG     Poor\n",
       "27   69  Female        PG     Poor\n",
       "28   48    Male    School     Poor\n",
       "29   83  Female        UG  Average\n",
       "30   73    Male        UG  Average\n",
       "31   22  Female    School     Poor\n",
       "32   92    Male        UG  Average\n",
       "33   89  Female        PG     Good\n",
       "34   86    Male    School  Average\n",
       "35   74    Male    School     Poor\n",
       "36   34  Female        UG     Good\n",
       "37   94    Male        PG  Average\n",
       "38   45  Female    School     Good\n",
       "39   76    Male        PG     Poor\n",
       "40   39    Male    School     Good\n",
       "41   23    Male        PG     Good\n",
       "42   30  Female        PG     Good\n",
       "43   27    Male        PG     Poor\n",
       "44   77  Female        UG  Average\n",
       "45   61    Male        PG     Poor\n",
       "46   64  Female        PG     Poor\n",
       "47   38  Female        PG     Good\n",
       "48   39  Female        UG     Good\n",
       "49   25  Female        UG     Good"
      ]
     },
     "execution_count": 26,
     "metadata": {},
     "output_type": "execute_result"
    }
   ],
   "source": [
    "# one hot encoding\n",
    "from sklearn.preprocessing import OneHotEncoder\n",
    "ohe = OneHotEncoder()\n",
    "X"
   ]
  },
  {
   "cell_type": "code",
   "execution_count": 27,
   "id": "17d52ef3",
   "metadata": {
    "execution": {
     "iopub.execute_input": "2023-03-14T13:55:56.630340Z",
     "iopub.status.busy": "2023-03-14T13:55:56.629917Z",
     "iopub.status.idle": "2023-03-14T13:55:56.641058Z",
     "shell.execute_reply": "2023-03-14T13:55:56.639275Z"
    },
    "papermill": {
     "duration": 0.024737,
     "end_time": "2023-03-14T13:55:56.643792",
     "exception": false,
     "start_time": "2023-03-14T13:55:56.619055",
     "status": "completed"
    },
    "tags": []
   },
   "outputs": [
    {
     "data": {
      "text/plain": [
       "array([[1., 0.],\n",
       "       [1., 0.],\n",
       "       [1., 0.],\n",
       "       [1., 0.],\n",
       "       [1., 0.],\n",
       "       [1., 0.],\n",
       "       [0., 1.],\n",
       "       [1., 0.],\n",
       "       [1., 0.],\n",
       "       [0., 1.],\n",
       "       [1., 0.],\n",
       "       [0., 1.],\n",
       "       [0., 1.],\n",
       "       [1., 0.],\n",
       "       [0., 1.],\n",
       "       [0., 1.],\n",
       "       [0., 1.],\n",
       "       [1., 0.],\n",
       "       [0., 1.],\n",
       "       [0., 1.],\n",
       "       [1., 0.],\n",
       "       [0., 1.],\n",
       "       [1., 0.],\n",
       "       [1., 0.],\n",
       "       [1., 0.],\n",
       "       [1., 0.],\n",
       "       [1., 0.],\n",
       "       [1., 0.],\n",
       "       [0., 1.],\n",
       "       [1., 0.],\n",
       "       [0., 1.],\n",
       "       [1., 0.],\n",
       "       [0., 1.],\n",
       "       [1., 0.],\n",
       "       [0., 1.],\n",
       "       [0., 1.],\n",
       "       [1., 0.],\n",
       "       [0., 1.],\n",
       "       [1., 0.],\n",
       "       [0., 1.],\n",
       "       [0., 1.],\n",
       "       [0., 1.],\n",
       "       [1., 0.],\n",
       "       [0., 1.],\n",
       "       [1., 0.],\n",
       "       [0., 1.],\n",
       "       [1., 0.],\n",
       "       [1., 0.],\n",
       "       [1., 0.],\n",
       "       [1., 0.]])"
      ]
     },
     "execution_count": 27,
     "metadata": {},
     "output_type": "execute_result"
    }
   ],
   "source": [
    "X = ohe.fit_transform(X[['Gender']])\n",
    "X.toarray()"
   ]
  },
  {
   "cell_type": "code",
   "execution_count": 28,
   "id": "8d8213c3",
   "metadata": {
    "execution": {
     "iopub.execute_input": "2023-03-14T13:55:56.665178Z",
     "iopub.status.busy": "2023-03-14T13:55:56.664805Z",
     "iopub.status.idle": "2023-03-14T13:55:56.674495Z",
     "shell.execute_reply": "2023-03-14T13:55:56.673516Z"
    },
    "papermill": {
     "duration": 0.022826,
     "end_time": "2023-03-14T13:55:56.676532",
     "exception": false,
     "start_time": "2023-03-14T13:55:56.653706",
     "status": "completed"
    },
    "tags": []
   },
   "outputs": [
    {
     "data": {
      "text/plain": [
       "array([[1., 0.],\n",
       "       [1., 0.],\n",
       "       [1., 0.],\n",
       "       [1., 0.],\n",
       "       [1., 0.],\n",
       "       [1., 0.],\n",
       "       [0., 1.],\n",
       "       [1., 0.],\n",
       "       [1., 0.],\n",
       "       [0., 1.],\n",
       "       [1., 0.],\n",
       "       [0., 1.],\n",
       "       [0., 1.],\n",
       "       [1., 0.],\n",
       "       [0., 1.],\n",
       "       [0., 1.],\n",
       "       [0., 1.],\n",
       "       [1., 0.],\n",
       "       [0., 1.],\n",
       "       [0., 1.],\n",
       "       [1., 0.],\n",
       "       [0., 1.],\n",
       "       [1., 0.],\n",
       "       [1., 0.],\n",
       "       [1., 0.],\n",
       "       [1., 0.],\n",
       "       [1., 0.],\n",
       "       [1., 0.],\n",
       "       [0., 1.],\n",
       "       [1., 0.],\n",
       "       [0., 1.],\n",
       "       [1., 0.],\n",
       "       [0., 1.],\n",
       "       [1., 0.],\n",
       "       [0., 1.],\n",
       "       [0., 1.],\n",
       "       [1., 0.],\n",
       "       [0., 1.],\n",
       "       [1., 0.],\n",
       "       [0., 1.],\n",
       "       [0., 1.],\n",
       "       [0., 1.],\n",
       "       [1., 0.],\n",
       "       [0., 1.],\n",
       "       [1., 0.],\n",
       "       [0., 1.],\n",
       "       [1., 0.],\n",
       "       [1., 0.],\n",
       "       [1., 0.],\n",
       "       [1., 0.]])"
      ]
     },
     "execution_count": 28,
     "metadata": {},
     "output_type": "execute_result"
    }
   ],
   "source": [
    "X.toarray()"
   ]
  }
 ],
 "metadata": {
  "kernelspec": {
   "display_name": "Python 3",
   "language": "python",
   "name": "python3"
  },
  "language_info": {
   "codemirror_mode": {
    "name": "ipython",
    "version": 3
   },
   "file_extension": ".py",
   "mimetype": "text/x-python",
   "name": "python",
   "nbconvert_exporter": "python",
   "pygments_lexer": "ipython3",
   "version": "3.7.12"
  },
  "papermill": {
   "default_parameters": {},
   "duration": 13.122902,
   "end_time": "2023-03-14T13:55:57.507743",
   "environment_variables": {},
   "exception": null,
   "input_path": "__notebook__.ipynb",
   "output_path": "__notebook__.ipynb",
   "parameters": {},
   "start_time": "2023-03-14T13:55:44.384841",
   "version": "2.4.0"
  }
 },
 "nbformat": 4,
 "nbformat_minor": 5
}
