{
 "cells": [
  {
   "cell_type": "code",
   "execution_count": 1,
   "id": "c33bb843",
   "metadata": {
    "_cell_guid": "b1076dfc-b9ad-4769-8c92-a6c4dae69d19",
    "_uuid": "8f2839f25d086af736a60e9eeb907d3b93b6e0e5",
    "execution": {
     "iopub.execute_input": "2024-05-10T11:38:07.502083Z",
     "iopub.status.busy": "2024-05-10T11:38:07.501148Z",
     "iopub.status.idle": "2024-05-10T11:38:21.352420Z",
     "shell.execute_reply": "2024-05-10T11:38:21.351114Z"
    },
    "papermill": {
     "duration": 13.86129,
     "end_time": "2024-05-10T11:38:21.354611",
     "exception": false,
     "start_time": "2024-05-10T11:38:07.493321",
     "status": "completed"
    },
    "tags": []
   },
   "outputs": [
    {
     "name": "stderr",
     "output_type": "stream",
     "text": [
      "2024-05-10 11:38:11.374210: E external/local_xla/xla/stream_executor/cuda/cuda_dnn.cc:9261] Unable to register cuDNN factory: Attempting to register factory for plugin cuDNN when one has already been registered\n",
      "2024-05-10 11:38:11.374326: E external/local_xla/xla/stream_executor/cuda/cuda_fft.cc:607] Unable to register cuFFT factory: Attempting to register factory for plugin cuFFT when one has already been registered\n",
      "2024-05-10 11:38:11.511311: E external/local_xla/xla/stream_executor/cuda/cuda_blas.cc:1515] Unable to register cuBLAS factory: Attempting to register factory for plugin cuBLAS when one has already been registered\n"
     ]
    },
    {
     "name": "stdout",
     "output_type": "stream",
     "text": [
      "/kaggle/input/mnist-in-csv/mnist_test.csv\n",
      "/kaggle/input/mnist-in-csv/mnist_train.csv\n"
     ]
    }
   ],
   "source": [
    "# This Python 3 environment comes with many helpful analytics libraries installed\n",
    "# It is defined by the kaggle/python Docker image: https://github.com/kaggle/docker-python\n",
    "# For example, here's several helpful packages to load\n",
    "\n",
    "import numpy as np # linear algebra\n",
    "import pandas as pd # data processing, CSV file I/O (e.g. pd.read_csv)\n",
    "from sklearn.metrics import confusion_matrix\n",
    "import itertools\n",
    "from glob import glob\n",
    "from keras.models import Sequential\n",
    "from keras.layers import Dense, Dropout, Flatten, Conv2D, MaxPool2D\n",
    "from keras.optimizers import RMSprop,Adam\n",
    "from keras.callbacks import ReduceLROnPlateau\n",
    "from tensorflow.keras.preprocessing.image import ImageDataGenerator\n",
    "import matplotlib.pyplot as plt\n",
    "\n",
    "# Input data files are available in the read-only \"../input/\" directory\n",
    "# For example, running this (by clicking run or pressing Shift+Enter) will list all files under the input directory\n",
    "\n",
    "import os\n",
    "for dirname, _, filenames in os.walk('/kaggle/input'):\n",
    "    for filename in filenames:\n",
    "        print(os.path.join(dirname, filename))\n",
    "\n",
    "# You can write up to 20GB to the current directory (/kaggle/working/) that gets preserved as output when you create a version using \"Save & Run All\" \n",
    "# You can also write temporary files to /kaggle/temp/, but they won't be saved outside of the current session"
   ]
  },
  {
   "cell_type": "code",
   "execution_count": 2,
   "id": "b195a0a6",
   "metadata": {
    "execution": {
     "iopub.execute_input": "2024-05-10T11:38:21.367837Z",
     "iopub.status.busy": "2024-05-10T11:38:21.367204Z",
     "iopub.status.idle": "2024-05-10T11:38:26.579232Z",
     "shell.execute_reply": "2024-05-10T11:38:26.578084Z"
    },
    "papermill": {
     "duration": 5.221551,
     "end_time": "2024-05-10T11:38:26.581911",
     "exception": false,
     "start_time": "2024-05-10T11:38:21.360360",
     "status": "completed"
    },
    "tags": []
   },
   "outputs": [],
   "source": [
    "train = pd.read_csv(\"/kaggle/input/mnist-in-csv/mnist_train.csv\")\n",
    "test = pd.read_csv(\"/kaggle/input/mnist-in-csv/mnist_test.csv\")"
   ]
  },
  {
   "cell_type": "code",
   "execution_count": 3,
   "id": "86a74e66",
   "metadata": {
    "execution": {
     "iopub.execute_input": "2024-05-10T11:38:26.594565Z",
     "iopub.status.busy": "2024-05-10T11:38:26.594237Z",
     "iopub.status.idle": "2024-05-10T11:38:26.620881Z",
     "shell.execute_reply": "2024-05-10T11:38:26.619891Z"
    },
    "papermill": {
     "duration": 0.035254,
     "end_time": "2024-05-10T11:38:26.623031",
     "exception": false,
     "start_time": "2024-05-10T11:38:26.587777",
     "status": "completed"
    },
    "tags": []
   },
   "outputs": [
    {
     "data": {
      "text/html": [
       "<div>\n",
       "<style scoped>\n",
       "    .dataframe tbody tr th:only-of-type {\n",
       "        vertical-align: middle;\n",
       "    }\n",
       "\n",
       "    .dataframe tbody tr th {\n",
       "        vertical-align: top;\n",
       "    }\n",
       "\n",
       "    .dataframe thead th {\n",
       "        text-align: right;\n",
       "    }\n",
       "</style>\n",
       "<table border=\"1\" class=\"dataframe\">\n",
       "  <thead>\n",
       "    <tr style=\"text-align: right;\">\n",
       "      <th></th>\n",
       "      <th>label</th>\n",
       "      <th>1x1</th>\n",
       "      <th>1x2</th>\n",
       "      <th>1x3</th>\n",
       "      <th>1x4</th>\n",
       "      <th>1x5</th>\n",
       "      <th>1x6</th>\n",
       "      <th>1x7</th>\n",
       "      <th>1x8</th>\n",
       "      <th>1x9</th>\n",
       "      <th>...</th>\n",
       "      <th>28x19</th>\n",
       "      <th>28x20</th>\n",
       "      <th>28x21</th>\n",
       "      <th>28x22</th>\n",
       "      <th>28x23</th>\n",
       "      <th>28x24</th>\n",
       "      <th>28x25</th>\n",
       "      <th>28x26</th>\n",
       "      <th>28x27</th>\n",
       "      <th>28x28</th>\n",
       "    </tr>\n",
       "  </thead>\n",
       "  <tbody>\n",
       "    <tr>\n",
       "      <th>0</th>\n",
       "      <td>5</td>\n",
       "      <td>0</td>\n",
       "      <td>0</td>\n",
       "      <td>0</td>\n",
       "      <td>0</td>\n",
       "      <td>0</td>\n",
       "      <td>0</td>\n",
       "      <td>0</td>\n",
       "      <td>0</td>\n",
       "      <td>0</td>\n",
       "      <td>...</td>\n",
       "      <td>0</td>\n",
       "      <td>0</td>\n",
       "      <td>0</td>\n",
       "      <td>0</td>\n",
       "      <td>0</td>\n",
       "      <td>0</td>\n",
       "      <td>0</td>\n",
       "      <td>0</td>\n",
       "      <td>0</td>\n",
       "      <td>0</td>\n",
       "    </tr>\n",
       "    <tr>\n",
       "      <th>1</th>\n",
       "      <td>0</td>\n",
       "      <td>0</td>\n",
       "      <td>0</td>\n",
       "      <td>0</td>\n",
       "      <td>0</td>\n",
       "      <td>0</td>\n",
       "      <td>0</td>\n",
       "      <td>0</td>\n",
       "      <td>0</td>\n",
       "      <td>0</td>\n",
       "      <td>...</td>\n",
       "      <td>0</td>\n",
       "      <td>0</td>\n",
       "      <td>0</td>\n",
       "      <td>0</td>\n",
       "      <td>0</td>\n",
       "      <td>0</td>\n",
       "      <td>0</td>\n",
       "      <td>0</td>\n",
       "      <td>0</td>\n",
       "      <td>0</td>\n",
       "    </tr>\n",
       "    <tr>\n",
       "      <th>2</th>\n",
       "      <td>4</td>\n",
       "      <td>0</td>\n",
       "      <td>0</td>\n",
       "      <td>0</td>\n",
       "      <td>0</td>\n",
       "      <td>0</td>\n",
       "      <td>0</td>\n",
       "      <td>0</td>\n",
       "      <td>0</td>\n",
       "      <td>0</td>\n",
       "      <td>...</td>\n",
       "      <td>0</td>\n",
       "      <td>0</td>\n",
       "      <td>0</td>\n",
       "      <td>0</td>\n",
       "      <td>0</td>\n",
       "      <td>0</td>\n",
       "      <td>0</td>\n",
       "      <td>0</td>\n",
       "      <td>0</td>\n",
       "      <td>0</td>\n",
       "    </tr>\n",
       "    <tr>\n",
       "      <th>3</th>\n",
       "      <td>1</td>\n",
       "      <td>0</td>\n",
       "      <td>0</td>\n",
       "      <td>0</td>\n",
       "      <td>0</td>\n",
       "      <td>0</td>\n",
       "      <td>0</td>\n",
       "      <td>0</td>\n",
       "      <td>0</td>\n",
       "      <td>0</td>\n",
       "      <td>...</td>\n",
       "      <td>0</td>\n",
       "      <td>0</td>\n",
       "      <td>0</td>\n",
       "      <td>0</td>\n",
       "      <td>0</td>\n",
       "      <td>0</td>\n",
       "      <td>0</td>\n",
       "      <td>0</td>\n",
       "      <td>0</td>\n",
       "      <td>0</td>\n",
       "    </tr>\n",
       "    <tr>\n",
       "      <th>4</th>\n",
       "      <td>9</td>\n",
       "      <td>0</td>\n",
       "      <td>0</td>\n",
       "      <td>0</td>\n",
       "      <td>0</td>\n",
       "      <td>0</td>\n",
       "      <td>0</td>\n",
       "      <td>0</td>\n",
       "      <td>0</td>\n",
       "      <td>0</td>\n",
       "      <td>...</td>\n",
       "      <td>0</td>\n",
       "      <td>0</td>\n",
       "      <td>0</td>\n",
       "      <td>0</td>\n",
       "      <td>0</td>\n",
       "      <td>0</td>\n",
       "      <td>0</td>\n",
       "      <td>0</td>\n",
       "      <td>0</td>\n",
       "      <td>0</td>\n",
       "    </tr>\n",
       "    <tr>\n",
       "      <th>5</th>\n",
       "      <td>2</td>\n",
       "      <td>0</td>\n",
       "      <td>0</td>\n",
       "      <td>0</td>\n",
       "      <td>0</td>\n",
       "      <td>0</td>\n",
       "      <td>0</td>\n",
       "      <td>0</td>\n",
       "      <td>0</td>\n",
       "      <td>0</td>\n",
       "      <td>...</td>\n",
       "      <td>0</td>\n",
       "      <td>0</td>\n",
       "      <td>0</td>\n",
       "      <td>0</td>\n",
       "      <td>0</td>\n",
       "      <td>0</td>\n",
       "      <td>0</td>\n",
       "      <td>0</td>\n",
       "      <td>0</td>\n",
       "      <td>0</td>\n",
       "    </tr>\n",
       "    <tr>\n",
       "      <th>6</th>\n",
       "      <td>1</td>\n",
       "      <td>0</td>\n",
       "      <td>0</td>\n",
       "      <td>0</td>\n",
       "      <td>0</td>\n",
       "      <td>0</td>\n",
       "      <td>0</td>\n",
       "      <td>0</td>\n",
       "      <td>0</td>\n",
       "      <td>0</td>\n",
       "      <td>...</td>\n",
       "      <td>0</td>\n",
       "      <td>0</td>\n",
       "      <td>0</td>\n",
       "      <td>0</td>\n",
       "      <td>0</td>\n",
       "      <td>0</td>\n",
       "      <td>0</td>\n",
       "      <td>0</td>\n",
       "      <td>0</td>\n",
       "      <td>0</td>\n",
       "    </tr>\n",
       "    <tr>\n",
       "      <th>7</th>\n",
       "      <td>3</td>\n",
       "      <td>0</td>\n",
       "      <td>0</td>\n",
       "      <td>0</td>\n",
       "      <td>0</td>\n",
       "      <td>0</td>\n",
       "      <td>0</td>\n",
       "      <td>0</td>\n",
       "      <td>0</td>\n",
       "      <td>0</td>\n",
       "      <td>...</td>\n",
       "      <td>0</td>\n",
       "      <td>0</td>\n",
       "      <td>0</td>\n",
       "      <td>0</td>\n",
       "      <td>0</td>\n",
       "      <td>0</td>\n",
       "      <td>0</td>\n",
       "      <td>0</td>\n",
       "      <td>0</td>\n",
       "      <td>0</td>\n",
       "    </tr>\n",
       "    <tr>\n",
       "      <th>8</th>\n",
       "      <td>1</td>\n",
       "      <td>0</td>\n",
       "      <td>0</td>\n",
       "      <td>0</td>\n",
       "      <td>0</td>\n",
       "      <td>0</td>\n",
       "      <td>0</td>\n",
       "      <td>0</td>\n",
       "      <td>0</td>\n",
       "      <td>0</td>\n",
       "      <td>...</td>\n",
       "      <td>0</td>\n",
       "      <td>0</td>\n",
       "      <td>0</td>\n",
       "      <td>0</td>\n",
       "      <td>0</td>\n",
       "      <td>0</td>\n",
       "      <td>0</td>\n",
       "      <td>0</td>\n",
       "      <td>0</td>\n",
       "      <td>0</td>\n",
       "    </tr>\n",
       "    <tr>\n",
       "      <th>9</th>\n",
       "      <td>4</td>\n",
       "      <td>0</td>\n",
       "      <td>0</td>\n",
       "      <td>0</td>\n",
       "      <td>0</td>\n",
       "      <td>0</td>\n",
       "      <td>0</td>\n",
       "      <td>0</td>\n",
       "      <td>0</td>\n",
       "      <td>0</td>\n",
       "      <td>...</td>\n",
       "      <td>0</td>\n",
       "      <td>0</td>\n",
       "      <td>0</td>\n",
       "      <td>0</td>\n",
       "      <td>0</td>\n",
       "      <td>0</td>\n",
       "      <td>0</td>\n",
       "      <td>0</td>\n",
       "      <td>0</td>\n",
       "      <td>0</td>\n",
       "    </tr>\n",
       "  </tbody>\n",
       "</table>\n",
       "<p>10 rows × 785 columns</p>\n",
       "</div>"
      ],
      "text/plain": [
       "   label  1x1  1x2  1x3  1x4  1x5  1x6  1x7  1x8  1x9  ...  28x19  28x20  \\\n",
       "0      5    0    0    0    0    0    0    0    0    0  ...      0      0   \n",
       "1      0    0    0    0    0    0    0    0    0    0  ...      0      0   \n",
       "2      4    0    0    0    0    0    0    0    0    0  ...      0      0   \n",
       "3      1    0    0    0    0    0    0    0    0    0  ...      0      0   \n",
       "4      9    0    0    0    0    0    0    0    0    0  ...      0      0   \n",
       "5      2    0    0    0    0    0    0    0    0    0  ...      0      0   \n",
       "6      1    0    0    0    0    0    0    0    0    0  ...      0      0   \n",
       "7      3    0    0    0    0    0    0    0    0    0  ...      0      0   \n",
       "8      1    0    0    0    0    0    0    0    0    0  ...      0      0   \n",
       "9      4    0    0    0    0    0    0    0    0    0  ...      0      0   \n",
       "\n",
       "   28x21  28x22  28x23  28x24  28x25  28x26  28x27  28x28  \n",
       "0      0      0      0      0      0      0      0      0  \n",
       "1      0      0      0      0      0      0      0      0  \n",
       "2      0      0      0      0      0      0      0      0  \n",
       "3      0      0      0      0      0      0      0      0  \n",
       "4      0      0      0      0      0      0      0      0  \n",
       "5      0      0      0      0      0      0      0      0  \n",
       "6      0      0      0      0      0      0      0      0  \n",
       "7      0      0      0      0      0      0      0      0  \n",
       "8      0      0      0      0      0      0      0      0  \n",
       "9      0      0      0      0      0      0      0      0  \n",
       "\n",
       "[10 rows x 785 columns]"
      ]
     },
     "execution_count": 3,
     "metadata": {},
     "output_type": "execute_result"
    }
   ],
   "source": [
    "train.head(10)"
   ]
  },
  {
   "cell_type": "code",
   "execution_count": 4,
   "id": "6f895437",
   "metadata": {
    "execution": {
     "iopub.execute_input": "2024-05-10T11:38:26.637093Z",
     "iopub.status.busy": "2024-05-10T11:38:26.636228Z",
     "iopub.status.idle": "2024-05-10T11:38:26.641555Z",
     "shell.execute_reply": "2024-05-10T11:38:26.640612Z"
    },
    "papermill": {
     "duration": 0.014411,
     "end_time": "2024-05-10T11:38:26.643588",
     "exception": false,
     "start_time": "2024-05-10T11:38:26.629177",
     "status": "completed"
    },
    "tags": []
   },
   "outputs": [
    {
     "name": "stdout",
     "output_type": "stream",
     "text": [
      "train.shape:  (60000, 785)\n",
      "test.shape:  (10000, 785)\n"
     ]
    }
   ],
   "source": [
    "print(\"train.shape: \",train.shape)\n",
    "print(\"test.shape: \",test.shape)"
   ]
  },
  {
   "cell_type": "code",
   "execution_count": 5,
   "id": "5f664161",
   "metadata": {
    "execution": {
     "iopub.execute_input": "2024-05-10T11:38:26.656923Z",
     "iopub.status.busy": "2024-05-10T11:38:26.656577Z",
     "iopub.status.idle": "2024-05-10T11:38:26.817067Z",
     "shell.execute_reply": "2024-05-10T11:38:26.816197Z"
    },
    "papermill": {
     "duration": 0.169977,
     "end_time": "2024-05-10T11:38:26.819531",
     "exception": false,
     "start_time": "2024-05-10T11:38:26.649554",
     "status": "completed"
    },
    "tags": []
   },
   "outputs": [],
   "source": [
    "x_train = train.drop(labels = [\"label\"],axis=1)\n",
    "y_train = train[\"label\"]\n",
    "x_test = test.drop(labels = [\"label\"],axis=1)\n",
    "y_test = test[\"label\"]"
   ]
  },
  {
   "cell_type": "code",
   "execution_count": 6,
   "id": "646edb78",
   "metadata": {
    "execution": {
     "iopub.execute_input": "2024-05-10T11:38:26.833426Z",
     "iopub.status.busy": "2024-05-10T11:38:26.833063Z",
     "iopub.status.idle": "2024-05-10T11:38:26.915750Z",
     "shell.execute_reply": "2024-05-10T11:38:26.914719Z"
    },
    "papermill": {
     "duration": 0.092251,
     "end_time": "2024-05-10T11:38:26.918140",
     "exception": false,
     "start_time": "2024-05-10T11:38:26.825889",
     "status": "completed"
    },
    "tags": []
   },
   "outputs": [
    {
     "data": {
      "image/png": "[encoded data removed]",
      "text/plain": [
       "<Figure size 640x480 with 1 Axes>"
      ]
     },
     "metadata": {},
     "output_type": "display_data"
    }
   ],
   "source": [
    "img = x_train.iloc[4].values.reshape(28,28)\n",
    "plt.imshow(img, cmap =\"gray\")\n",
    "plt.axis(\"off\")\n",
    "plt.show()"
   ]
  },
  {
   "cell_type": "code",
   "execution_count": 7,
   "id": "8dbcb564",
   "metadata": {
    "execution": {
     "iopub.execute_input": "2024-05-10T11:38:26.932942Z",
     "iopub.status.busy": "2024-05-10T11:38:26.932137Z",
     "iopub.status.idle": "2024-05-10T11:38:26.946674Z",
     "shell.execute_reply": "2024-05-10T11:38:26.945595Z"
    },
    "papermill": {
     "duration": 0.024293,
     "end_time": "2024-05-10T11:38:26.948837",
     "exception": false,
     "start_time": "2024-05-10T11:38:26.924544",
     "status": "completed"
    },
    "tags": []
   },
   "outputs": [
    {
     "data": {
      "text/plain": [
       "label\n",
       "1    6742\n",
       "7    6265\n",
       "3    6131\n",
       "2    5958\n",
       "9    5949\n",
       "0    5923\n",
       "6    5918\n",
       "8    5851\n",
       "4    5842\n",
       "5    5421\n",
       "Name: count, dtype: int64"
      ]
     },
     "execution_count": 7,
     "metadata": {},
     "output_type": "execute_result"
    }
   ],
   "source": [
    "y_train.value_counts()"
   ]
  },
  {
   "cell_type": "markdown",
   "id": "5eb4579f",
   "metadata": {
    "papermill": {
     "duration": 0.006513,
     "end_time": "2024-05-10T11:38:26.961739",
     "exception": false,
     "start_time": "2024-05-10T11:38:26.955226",
     "status": "completed"
    },
    "tags": []
   },
   "source": [
    "## Normalization"
   ]
  },
  {
   "cell_type": "code",
   "execution_count": 8,
   "id": "9f34dcaf",
   "metadata": {
    "execution": {
     "iopub.execute_input": "2024-05-10T11:38:26.977030Z",
     "iopub.status.busy": "2024-05-10T11:38:26.975518Z",
     "iopub.status.idle": "2024-05-10T11:38:27.090014Z",
     "shell.execute_reply": "2024-05-10T11:38:27.088934Z"
    },
    "papermill": {
     "duration": 0.124306,
     "end_time": "2024-05-10T11:38:27.092345",
     "exception": false,
     "start_time": "2024-05-10T11:38:26.968039",
     "status": "completed"
    },
    "tags": []
   },
   "outputs": [
    {
     "name": "stdout",
     "output_type": "stream",
     "text": [
      "x_train.shape (60000, 784)\n",
      "x_test.shape (10000, 784)\n"
     ]
    }
   ],
   "source": [
    "x_train = x_train / 255.0\n",
    "x_test = x_test / 255.0\n",
    "print(\"x_train.shape\",x_train.shape)\n",
    "print(\"x_test.shape\",x_test.shape)\n"
   ]
  },
  {
   "cell_type": "markdown",
   "id": "0bd1459a",
   "metadata": {
    "papermill": {
     "duration": 0.006143,
     "end_time": "2024-05-10T11:38:27.105936",
     "exception": false,
     "start_time": "2024-05-10T11:38:27.099793",
     "status": "completed"
    },
    "tags": []
   },
   "source": [
    "## Reshape"
   ]
  },
  {
   "cell_type": "code",
   "execution_count": 9,
   "id": "ba2d59e6",
   "metadata": {
    "execution": {
     "iopub.execute_input": "2024-05-10T11:38:27.120514Z",
     "iopub.status.busy": "2024-05-10T11:38:27.119725Z",
     "iopub.status.idle": "2024-05-10T11:38:27.125720Z",
     "shell.execute_reply": "2024-05-10T11:38:27.124747Z"
    },
    "papermill": {
     "duration": 0.015931,
     "end_time": "2024-05-10T11:38:27.128145",
     "exception": false,
     "start_time": "2024-05-10T11:38:27.112214",
     "status": "completed"
    },
    "tags": []
   },
   "outputs": [
    {
     "name": "stdout",
     "output_type": "stream",
     "text": [
      "x_train.shape (60000, 28, 28, 1)\n",
      "x_test.shape (10000, 28, 28, 1)\n"
     ]
    }
   ],
   "source": [
    "x_train = x_train.values.reshape(-1,28,28,1)\n",
    "x_test = x_test.values.reshape(-1,28,28,1)\n",
    "print(\"x_train.shape\",x_train.shape)\n",
    "print(\"x_test.shape\",x_test.shape)"
   ]
  },
  {
   "cell_type": "markdown",
   "id": "d2796513",
   "metadata": {
    "papermill": {
     "duration": 0.006235,
     "end_time": "2024-05-10T11:38:27.141007",
     "exception": false,
     "start_time": "2024-05-10T11:38:27.134772",
     "status": "completed"
    },
    "tags": []
   },
   "source": [
    "## Label Encoding"
   ]
  },
  {
   "cell_type": "code",
   "execution_count": 10,
   "id": "37944581",
   "metadata": {
    "execution": {
     "iopub.execute_input": "2024-05-10T11:38:27.155386Z",
     "iopub.status.busy": "2024-05-10T11:38:27.155028Z",
     "iopub.status.idle": "2024-05-10T11:38:27.162179Z",
     "shell.execute_reply": "2024-05-10T11:38:27.161338Z"
    },
    "papermill": {
     "duration": 0.017186,
     "end_time": "2024-05-10T11:38:27.164562",
     "exception": false,
     "start_time": "2024-05-10T11:38:27.147376",
     "status": "completed"
    },
    "tags": []
   },
   "outputs": [],
   "source": [
    "from keras.utils import to_categorical # convert to one-hot-encoding\n",
    "y_train = to_categorical(y_train, num_classes = 10)\n",
    "y_test = to_categorical(y_test, num_classes = 10)"
   ]
  },
  {
   "cell_type": "markdown",
   "id": "8c84e086",
   "metadata": {
    "papermill": {
     "duration": 0.006415,
     "end_time": "2024-05-10T11:38:27.177722",
     "exception": false,
     "start_time": "2024-05-10T11:38:27.171307",
     "status": "completed"
    },
    "tags": []
   },
   "source": [
    "## TrainTestSplit"
   ]
  },
  {
   "cell_type": "code",
   "execution_count": 11,
   "id": "19f4c97f",
   "metadata": {
    "execution": {
     "iopub.execute_input": "2024-05-10T11:38:27.192267Z",
     "iopub.status.busy": "2024-05-10T11:38:27.191907Z",
     "iopub.status.idle": "2024-05-10T11:38:27.825975Z",
     "shell.execute_reply": "2024-05-10T11:38:27.824890Z"
    },
    "papermill": {
     "duration": 0.643985,
     "end_time": "2024-05-10T11:38:27.828186",
     "exception": false,
     "start_time": "2024-05-10T11:38:27.184201",
     "status": "completed"
    },
    "tags": []
   },
   "outputs": [
    {
     "name": "stdout",
     "output_type": "stream",
     "text": [
      "x_train shape (48000, 28, 28, 1)\n",
      "x_test shape (12000, 28, 28, 1)\n",
      "y_train shape (48000, 10)\n",
      "y_test shape (12000, 10)\n"
     ]
    }
   ],
   "source": [
    "from sklearn.model_selection import train_test_split\n",
    "x_train, x_val, y_train, y_val = train_test_split(x_train,y_train,test_size=0.2,random_state=2)\n",
    "print(\"x_train shape\",x_train.shape)\n",
    "print(\"x_test shape\",x_val.shape)\n",
    "print(\"y_train shape\",y_train.shape)\n",
    "print(\"y_test shape\",y_val.shape)"
   ]
  },
  {
   "cell_type": "markdown",
   "id": "9f0c9dc3",
   "metadata": {
    "papermill": {
     "duration": 0.006275,
     "end_time": "2024-05-10T11:38:27.841007",
     "exception": false,
     "start_time": "2024-05-10T11:38:27.834732",
     "status": "completed"
    },
    "tags": []
   },
   "source": [
    "# CNN Model"
   ]
  },
  {
   "cell_type": "code",
   "execution_count": 12,
   "id": "293fd649",
   "metadata": {
    "execution": {
     "iopub.execute_input": "2024-05-10T11:38:27.856409Z",
     "iopub.status.busy": "2024-05-10T11:38:27.855152Z",
     "iopub.status.idle": "2024-05-10T11:38:28.002975Z",
     "shell.execute_reply": "2024-05-10T11:38:28.001799Z"
    },
    "papermill": {
     "duration": 0.158032,
     "end_time": "2024-05-10T11:38:28.005553",
     "exception": false,
     "start_time": "2024-05-10T11:38:27.847521",
     "status": "completed"
    },
    "tags": []
   },
   "outputs": [
    {
     "name": "stderr",
     "output_type": "stream",
     "text": [
      "/opt/conda/lib/python3.10/site-packages/keras/src/layers/convolutional/base_conv.py:99: UserWarning: Do not pass an `input_shape`/`input_dim` argument to a layer. When using Sequential models, prefer using an `Input(shape)` object as the first layer in the model instead.\n",
      "  super().__init__(\n"
     ]
    }
   ],
   "source": [
    "model = Sequential()\n",
    "model.add(Conv2D(filters=32,kernel_size=(3,3),padding=\"Same\",activation=\"relu\",input_shape=(28,28,1)))\n",
    "model.add(MaxPool2D())\n",
    "model.add(Dropout(0.25))\n",
    "\n",
    "model.add(Conv2D(filters=64,kernel_size=(4,4),padding=\"Same\",activation=\"relu\"))\n",
    "model.add(MaxPool2D(pool_size=(3,3),strides=(3,3)))\n",
    "\n",
    "model.add(Flatten())\n",
    "model.add(Dense(64,activation=\"relu\"))\n",
    "model.add(Dense(128,activation=\"relu\"))\n",
    "model.add(Dropout(0.5))\n",
    "model.add(Dense(10,activation=\"softmax\"))\n",
    "\n",
    "epochs = 50\n",
    "batch_size= 32"
   ]
  },
  {
   "cell_type": "code",
   "execution_count": 13,
   "id": "ee465a25",
   "metadata": {
    "execution": {
     "iopub.execute_input": "2024-05-10T11:38:28.024073Z",
     "iopub.status.busy": "2024-05-10T11:38:28.023671Z",
     "iopub.status.idle": "2024-05-10T11:38:28.038940Z",
     "shell.execute_reply": "2024-05-10T11:38:28.038019Z"
    },
    "papermill": {
     "duration": 0.025791,
     "end_time": "2024-05-10T11:38:28.041336",
     "exception": false,
     "start_time": "2024-05-10T11:38:28.015545",
     "status": "completed"
    },
    "tags": []
   },
   "outputs": [],
   "source": [
    "model.compile(optimizer=\"rmsprop\", loss = \"categorical_crossentropy\",metrics=[\"accuracy\"])"
   ]
  },
  {
   "cell_type": "code",
   "execution_count": 14,
   "id": "226d4a32",
   "metadata": {
    "execution": {
     "iopub.execute_input": "2024-05-10T11:38:28.057077Z",
     "iopub.status.busy": "2024-05-10T11:38:28.056317Z",
     "iopub.status.idle": "2024-05-10T11:38:28.176925Z",
     "shell.execute_reply": "2024-05-10T11:38:28.175914Z"
    },
    "papermill": {
     "duration": 0.130966,
     "end_time": "2024-05-10T11:38:28.179341",
     "exception": false,
     "start_time": "2024-05-10T11:38:28.048375",
     "status": "completed"
    },
    "tags": []
   },
   "outputs": [],
   "source": [
    "datagen = ImageDataGenerator( \n",
    "        shear_range = 0.2,\n",
    "        zoom_range = 0.1,\n",
    "        width_shift_range=0.1,\n",
    "        height_shift_range=0.1,\n",
    "        horizontal_flip = True,\n",
    "        vertical_flip = True)\n",
    "\n",
    "datagen.fit(x_train)"
   ]
  },
  {
   "cell_type": "code",
   "execution_count": 15,
   "id": "93add761",
   "metadata": {
    "execution": {
     "iopub.execute_input": "2024-05-10T11:38:28.195032Z",
     "iopub.status.busy": "2024-05-10T11:38:28.194237Z",
     "iopub.status.idle": "2024-05-10T11:42:45.071361Z",
     "shell.execute_reply": "2024-05-10T11:42:45.070419Z"
    },
    "papermill": {
     "duration": 256.887317,
     "end_time": "2024-05-10T11:42:45.073663",
     "exception": false,
     "start_time": "2024-05-10T11:38:28.186346",
     "status": "completed"
    },
    "tags": []
   },
   "outputs": [
    {
     "name": "stdout",
     "output_type": "stream",
     "text": [
      "Epoch 1/50\n",
      "\u001b[1m  1/100\u001b[0m \u001b[37m━━━━━━━━━━━━━━━━━━━━\u001b[0m \u001b[1m2:17\u001b[0m 1s/step - accuracy: 0.1250 - loss: 2.3218"
     ]
    },
    {
     "name": "stderr",
     "output_type": "stream",
     "text": [
      "/opt/conda/lib/python3.10/site-packages/keras/src/trainers/data_adapters/py_dataset_adapter.py:120: UserWarning: Your `PyDataset` class should call `super().__init__(**kwargs)` in its constructor. `**kwargs` can include `workers`, `use_multiprocessing`, `max_queue_size`. Do not pass these arguments to `fit()`, as they will be ignored.\n",
      "  self._warn_if_super_not_called()\n"
     ]
    },
    {
     "name": "stdout",
     "output_type": "stream",
     "text": [
      "\u001b[1m100/100\u001b[0m \u001b[32m━━━━━━━━━━━━━━━━━━━━\u001b[0m\u001b[37m\u001b[0m \u001b[1m7s\u001b[0m 55ms/step - accuracy: 0.1526 - loss: 2.2510 - val_accuracy: 0.3779 - val_loss: 1.7429\n",
      "Epoch 2/50\n",
      "\u001b[1m100/100\u001b[0m \u001b[32m━━━━━━━━━━━━━━━━━━━━\u001b[0m\u001b[37m\u001b[0m \u001b[1m5s\u001b[0m 52ms/step - accuracy: 0.3331 - loss: 1.7843 - val_accuracy: 0.5865 - val_loss: 1.2157\n",
      "Epoch 3/50\n",
      "\u001b[1m100/100\u001b[0m \u001b[32m━━━━━━━━━━━━━━━━━━━━\u001b[0m\u001b[37m\u001b[0m \u001b[1m5s\u001b[0m 52ms/step - accuracy: 0.4750 - loss: 1.4463 - val_accuracy: 0.6338 - val_loss: 1.0204\n",
      "Epoch 4/50\n",
      "\u001b[1m100/100\u001b[0m \u001b[32m━━━━━━━━━━━━━━━━━━━━\u001b[0m\u001b[37m\u001b[0m \u001b[1m5s\u001b[0m 52ms/step - accuracy: 0.5527 - loss: 1.2417 - val_accuracy: 0.7016 - val_loss: 0.8617\n",
      "Epoch 5/50\n",
      "\u001b[1m100/100\u001b[0m \u001b[32m━━━━━━━━━━━━━━━━━━━━\u001b[0m\u001b[37m\u001b[0m \u001b[1m6s\u001b[0m 57ms/step - accuracy: 0.5862 - loss: 1.1139 - val_accuracy: 0.7599 - val_loss: 0.7213\n",
      "Epoch 6/50\n",
      "\u001b[1m100/100\u001b[0m \u001b[32m━━━━━━━━━━━━━━━━━━━━\u001b[0m\u001b[37m\u001b[0m \u001b[1m5s\u001b[0m 52ms/step - accuracy: 0.6340 - loss: 0.9887 - val_accuracy: 0.7342 - val_loss: 0.7108\n",
      "Epoch 7/50\n",
      "\u001b[1m100/100\u001b[0m \u001b[32m━━━━━━━━━━━━━━━━━━━━\u001b[0m\u001b[37m\u001b[0m \u001b[1m5s\u001b[0m 52ms/step - accuracy: 0.6552 - loss: 0.9758 - val_accuracy: 0.8034 - val_loss: 0.5826\n",
      "Epoch 8/50\n",
      "\u001b[1m100/100\u001b[0m \u001b[32m━━━━━━━━━━━━━━━━━━━━\u001b[0m\u001b[37m\u001b[0m \u001b[1m5s\u001b[0m 52ms/step - accuracy: 0.6903 - loss: 0.8685 - val_accuracy: 0.7519 - val_loss: 0.6853\n",
      "Epoch 9/50\n",
      "\u001b[1m100/100\u001b[0m \u001b[32m━━━━━━━━━━━━━━━━━━━━\u001b[0m\u001b[37m\u001b[0m \u001b[1m5s\u001b[0m 52ms/step - accuracy: 0.7023 - loss: 0.8445 - val_accuracy: 0.7893 - val_loss: 0.5818\n",
      "Epoch 10/50\n",
      "\u001b[1m100/100\u001b[0m \u001b[32m━━━━━━━━━━━━━━━━━━━━\u001b[0m\u001b[37m\u001b[0m \u001b[1m5s\u001b[0m 51ms/step - accuracy: 0.7103 - loss: 0.8100 - val_accuracy: 0.8145 - val_loss: 0.5468\n",
      "Epoch 11/50\n",
      "\u001b[1m100/100\u001b[0m \u001b[32m━━━━━━━━━━━━━━━━━━━━\u001b[0m\u001b[37m\u001b[0m \u001b[1m6s\u001b[0m 57ms/step - accuracy: 0.7475 - loss: 0.7448 - val_accuracy: 0.7932 - val_loss: 0.5617\n",
      "Epoch 12/50\n",
      "\u001b[1m100/100\u001b[0m \u001b[32m━━━━━━━━━━━━━━━━━━━━\u001b[0m\u001b[37m\u001b[0m \u001b[1m5s\u001b[0m 52ms/step - accuracy: 0.7483 - loss: 0.7446 - val_accuracy: 0.8346 - val_loss: 0.5001\n",
      "Epoch 13/50\n",
      "\u001b[1m100/100\u001b[0m \u001b[32m━━━━━━━━━━━━━━━━━━━━\u001b[0m\u001b[37m\u001b[0m \u001b[1m5s\u001b[0m 52ms/step - accuracy: 0.7420 - loss: 0.6985 - val_accuracy: 0.8435 - val_loss: 0.4673\n",
      "Epoch 14/50\n",
      "\u001b[1m100/100\u001b[0m \u001b[32m━━━━━━━━━━━━━━━━━━━━\u001b[0m\u001b[37m\u001b[0m \u001b[1m5s\u001b[0m 52ms/step - accuracy: 0.7860 - loss: 0.6518 - val_accuracy: 0.8813 - val_loss: 0.3903\n",
      "Epoch 15/50\n",
      "\u001b[1m100/100\u001b[0m \u001b[32m━━━━━━━━━━━━━━━━━━━━\u001b[0m\u001b[37m\u001b[0m \u001b[1m5s\u001b[0m 52ms/step - accuracy: 0.7791 - loss: 0.6656 - val_accuracy: 0.8483 - val_loss: 0.4208\n",
      "Epoch 16/50\n"
     ]
    },
    {
     "name": "stderr",
     "output_type": "stream",
     "text": [
      "/opt/conda/lib/python3.10/contextlib.py:153: UserWarning: Your input ran out of data; interrupting training. Make sure that your dataset or generator can generate at least `steps_per_epoch * epochs` batches. You may need to use the `.repeat()` function when building your dataset.\n",
      "  self.gen.throw(typ, value, traceback)\n"
     ]
    },
    {
     "name": "stdout",
     "output_type": "stream",
     "text": [
      "\u001b[1m100/100\u001b[0m \u001b[32m━━━━━━━━━━━━━━━━━━━━\u001b[0m\u001b[37m\u001b[0m \u001b[1m3s\u001b[0m 25ms/step - accuracy: 0.0000e+00 - loss: 0.0000e+00 - val_accuracy: 0.8483 - val_loss: 0.4208\n",
      "Epoch 17/50\n",
      "\u001b[1m100/100\u001b[0m \u001b[32m━━━━━━━━━━━━━━━━━━━━\u001b[0m\u001b[37m\u001b[0m \u001b[1m6s\u001b[0m 55ms/step - accuracy: 0.7913 - loss: 0.6111 - val_accuracy: 0.8830 - val_loss: 0.3614\n",
      "Epoch 18/50\n",
      "\u001b[1m100/100\u001b[0m \u001b[32m━━━━━━━━━━━━━━━━━━━━\u001b[0m\u001b[37m\u001b[0m \u001b[1m5s\u001b[0m 53ms/step - accuracy: 0.8211 - loss: 0.5596 - val_accuracy: 0.8907 - val_loss: 0.3479\n",
      "Epoch 19/50\n",
      "\u001b[1m100/100\u001b[0m \u001b[32m━━━━━━━━━━━━━━━━━━━━\u001b[0m\u001b[37m\u001b[0m \u001b[1m5s\u001b[0m 53ms/step - accuracy: 0.8062 - loss: 0.5960 - val_accuracy: 0.9059 - val_loss: 0.3090\n",
      "Epoch 20/50\n",
      "\u001b[1m100/100\u001b[0m \u001b[32m━━━━━━━━━━━━━━━━━━━━\u001b[0m\u001b[37m\u001b[0m \u001b[1m5s\u001b[0m 52ms/step - accuracy: 0.8302 - loss: 0.5373 - val_accuracy: 0.8738 - val_loss: 0.3938\n",
      "Epoch 21/50\n",
      "\u001b[1m100/100\u001b[0m \u001b[32m━━━━━━━━━━━━━━━━━━━━\u001b[0m\u001b[37m\u001b[0m \u001b[1m5s\u001b[0m 53ms/step - accuracy: 0.8270 - loss: 0.5169 - val_accuracy: 0.8965 - val_loss: 0.3149\n",
      "Epoch 22/50\n",
      "\u001b[1m100/100\u001b[0m \u001b[32m━━━━━━━━━━━━━━━━━━━━\u001b[0m\u001b[37m\u001b[0m \u001b[1m5s\u001b[0m 52ms/step - accuracy: 0.8239 - loss: 0.5393 - val_accuracy: 0.8963 - val_loss: 0.3191\n",
      "Epoch 23/50\n",
      "\u001b[1m100/100\u001b[0m \u001b[32m━━━━━━━━━━━━━━━━━━━━\u001b[0m\u001b[37m\u001b[0m \u001b[1m5s\u001b[0m 55ms/step - accuracy: 0.8537 - loss: 0.4405 - val_accuracy: 0.9128 - val_loss: 0.2754\n",
      "Epoch 24/50\n",
      "\u001b[1m100/100\u001b[0m \u001b[32m━━━━━━━━━━━━━━━━━━━━\u001b[0m\u001b[37m\u001b[0m \u001b[1m5s\u001b[0m 53ms/step - accuracy: 0.8409 - loss: 0.4944 - val_accuracy: 0.9241 - val_loss: 0.2463\n",
      "Epoch 25/50\n",
      "\u001b[1m100/100\u001b[0m \u001b[32m━━━━━━━━━━━━━━━━━━━━\u001b[0m\u001b[37m\u001b[0m \u001b[1m5s\u001b[0m 52ms/step - accuracy: 0.8610 - loss: 0.4611 - val_accuracy: 0.9165 - val_loss: 0.2616\n",
      "Epoch 26/50\n",
      "\u001b[1m100/100\u001b[0m \u001b[32m━━━━━━━━━━━━━━━━━━━━\u001b[0m\u001b[37m\u001b[0m \u001b[1m5s\u001b[0m 52ms/step - accuracy: 0.8489 - loss: 0.5044 - val_accuracy: 0.9059 - val_loss: 0.2967\n",
      "Epoch 27/50\n",
      "\u001b[1m100/100\u001b[0m \u001b[32m━━━━━━━━━━━━━━━━━━━━\u001b[0m\u001b[37m\u001b[0m \u001b[1m5s\u001b[0m 52ms/step - accuracy: 0.8465 - loss: 0.4587 - val_accuracy: 0.9150 - val_loss: 0.2660\n",
      "Epoch 28/50\n",
      "\u001b[1m100/100\u001b[0m \u001b[32m━━━━━━━━━━━━━━━━━━━━\u001b[0m\u001b[37m\u001b[0m \u001b[1m5s\u001b[0m 52ms/step - accuracy: 0.8680 - loss: 0.4008 - val_accuracy: 0.9161 - val_loss: 0.2638\n",
      "Epoch 29/50\n",
      "\u001b[1m100/100\u001b[0m \u001b[32m━━━━━━━━━━━━━━━━━━━━\u001b[0m\u001b[37m\u001b[0m \u001b[1m5s\u001b[0m 54ms/step - accuracy: 0.8729 - loss: 0.3860 - val_accuracy: 0.9354 - val_loss: 0.2082\n",
      "Epoch 30/50\n",
      "\u001b[1m100/100\u001b[0m \u001b[32m━━━━━━━━━━━━━━━━━━━━\u001b[0m\u001b[37m\u001b[0m \u001b[1m5s\u001b[0m 55ms/step - accuracy: 0.8683 - loss: 0.4178 - val_accuracy: 0.9273 - val_loss: 0.2305\n",
      "Epoch 31/50\n",
      "\u001b[1m100/100\u001b[0m \u001b[32m━━━━━━━━━━━━━━━━━━━━\u001b[0m\u001b[37m\u001b[0m \u001b[1m5s\u001b[0m 51ms/step - accuracy: 0.8798 - loss: 0.3856 - val_accuracy: 0.9131 - val_loss: 0.2727\n",
      "Epoch 32/50\n",
      "\u001b[1m100/100\u001b[0m \u001b[32m━━━━━━━━━━━━━━━━━━━━\u001b[0m\u001b[37m\u001b[0m \u001b[1m3s\u001b[0m 26ms/step - accuracy: 0.0000e+00 - loss: 0.0000e+00 - val_accuracy: 0.9131 - val_loss: 0.2727\n",
      "Epoch 33/50\n",
      "\u001b[1m100/100\u001b[0m \u001b[32m━━━━━━━━━━━━━━━━━━━━\u001b[0m\u001b[37m\u001b[0m \u001b[1m5s\u001b[0m 52ms/step - accuracy: 0.8681 - loss: 0.4117 - val_accuracy: 0.9242 - val_loss: 0.2288\n",
      "Epoch 34/50\n",
      "\u001b[1m100/100\u001b[0m \u001b[32m━━━━━━━━━━━━━━━━━━━━\u001b[0m\u001b[37m\u001b[0m \u001b[1m5s\u001b[0m 52ms/step - accuracy: 0.8867 - loss: 0.3357 - val_accuracy: 0.9293 - val_loss: 0.2281\n",
      "Epoch 35/50\n",
      "\u001b[1m100/100\u001b[0m \u001b[32m━━━━━━━━━━━━━━━━━━━━\u001b[0m\u001b[37m\u001b[0m \u001b[1m5s\u001b[0m 52ms/step - accuracy: 0.8834 - loss: 0.3649 - val_accuracy: 0.9321 - val_loss: 0.2193\n",
      "Epoch 36/50\n",
      "\u001b[1m100/100\u001b[0m \u001b[32m━━━━━━━━━━━━━━━━━━━━\u001b[0m\u001b[37m\u001b[0m \u001b[1m6s\u001b[0m 57ms/step - accuracy: 0.8849 - loss: 0.3907 - val_accuracy: 0.9298 - val_loss: 0.2243\n",
      "Epoch 37/50\n",
      "\u001b[1m100/100\u001b[0m \u001b[32m━━━━━━━━━━━━━━━━━━━━\u001b[0m\u001b[37m\u001b[0m \u001b[1m5s\u001b[0m 52ms/step - accuracy: 0.8894 - loss: 0.3537 - val_accuracy: 0.9308 - val_loss: 0.2197\n",
      "Epoch 38/50\n",
      "\u001b[1m100/100\u001b[0m \u001b[32m━━━━━━━━━━━━━━━━━━━━\u001b[0m\u001b[37m\u001b[0m \u001b[1m5s\u001b[0m 52ms/step - accuracy: 0.8913 - loss: 0.3523 - val_accuracy: 0.8996 - val_loss: 0.3228\n",
      "Epoch 39/50\n",
      "\u001b[1m100/100\u001b[0m \u001b[32m━━━━━━━━━━━━━━━━━━━━\u001b[0m\u001b[37m\u001b[0m \u001b[1m5s\u001b[0m 52ms/step - accuracy: 0.8874 - loss: 0.3359 - val_accuracy: 0.9333 - val_loss: 0.2097\n",
      "Epoch 40/50\n",
      "\u001b[1m100/100\u001b[0m \u001b[32m━━━━━━━━━━━━━━━━━━━━\u001b[0m\u001b[37m\u001b[0m \u001b[1m5s\u001b[0m 51ms/step - accuracy: 0.8939 - loss: 0.3256 - val_accuracy: 0.9295 - val_loss: 0.2189\n",
      "Epoch 41/50\n",
      "\u001b[1m100/100\u001b[0m \u001b[32m━━━━━━━━━━━━━━━━━━━━\u001b[0m\u001b[37m\u001b[0m \u001b[1m5s\u001b[0m 52ms/step - accuracy: 0.8949 - loss: 0.3407 - val_accuracy: 0.9220 - val_loss: 0.2490\n",
      "Epoch 42/50\n",
      "\u001b[1m100/100\u001b[0m \u001b[32m━━━━━━━━━━━━━━━━━━━━\u001b[0m\u001b[37m\u001b[0m \u001b[1m6s\u001b[0m 57ms/step - accuracy: 0.8941 - loss: 0.3445 - val_accuracy: 0.9106 - val_loss: 0.2786\n",
      "Epoch 43/50\n",
      "\u001b[1m100/100\u001b[0m \u001b[32m━━━━━━━━━━━━━━━━━━━━\u001b[0m\u001b[37m\u001b[0m \u001b[1m5s\u001b[0m 52ms/step - accuracy: 0.9046 - loss: 0.3213 - val_accuracy: 0.9347 - val_loss: 0.2017\n",
      "Epoch 44/50\n",
      "\u001b[1m100/100\u001b[0m \u001b[32m━━━━━━━━━━━━━━━━━━━━\u001b[0m\u001b[37m\u001b[0m \u001b[1m5s\u001b[0m 52ms/step - accuracy: 0.8928 - loss: 0.3441 - val_accuracy: 0.9211 - val_loss: 0.2419\n",
      "Epoch 45/50\n",
      "\u001b[1m100/100\u001b[0m \u001b[32m━━━━━━━━━━━━━━━━━━━━\u001b[0m\u001b[37m\u001b[0m \u001b[1m5s\u001b[0m 52ms/step - accuracy: 0.9078 - loss: 0.3027 - val_accuracy: 0.9423 - val_loss: 0.1894\n",
      "Epoch 46/50\n",
      "\u001b[1m100/100\u001b[0m \u001b[32m━━━━━━━━━━━━━━━━━━━━\u001b[0m\u001b[37m\u001b[0m \u001b[1m5s\u001b[0m 52ms/step - accuracy: 0.9075 - loss: 0.3039 - val_accuracy: 0.9420 - val_loss: 0.1924\n",
      "Epoch 47/50\n",
      "\u001b[1m100/100\u001b[0m \u001b[32m━━━━━━━━━━━━━━━━━━━━\u001b[0m\u001b[37m\u001b[0m \u001b[1m5s\u001b[0m 52ms/step - accuracy: 0.9213 - loss: 0.2672 - val_accuracy: 0.9346 - val_loss: 0.2041\n",
      "Epoch 48/50\n",
      "\u001b[1m100/100\u001b[0m \u001b[32m━━━━━━━━━━━━━━━━━━━━\u001b[0m\u001b[37m\u001b[0m \u001b[1m3s\u001b[0m 26ms/step - accuracy: 0.0000e+00 - loss: 0.0000e+00 - val_accuracy: 0.9346 - val_loss: 0.2041\n",
      "Epoch 49/50\n",
      "\u001b[1m100/100\u001b[0m \u001b[32m━━━━━━━━━━━━━━━━━━━━\u001b[0m\u001b[37m\u001b[0m \u001b[1m6s\u001b[0m 57ms/step - accuracy: 0.9105 - loss: 0.3135 - val_accuracy: 0.9346 - val_loss: 0.2118\n",
      "Epoch 50/50\n",
      "\u001b[1m100/100\u001b[0m \u001b[32m━━━━━━━━━━━━━━━━━━━━\u001b[0m\u001b[37m\u001b[0m \u001b[1m5s\u001b[0m 52ms/step - accuracy: 0.9086 - loss: 0.3040 - val_accuracy: 0.9308 - val_loss: 0.2206\n"
     ]
    }
   ],
   "source": [
    "history=model.fit(datagen.flow(x_train,y_train,batch_size=batch_size),\n",
    "                            epochs=epochs,validation_data=(x_val,y_val),\n",
    "                            steps_per_epoch=3200//batch_size)"
   ]
  },
  {
   "cell_type": "code",
   "execution_count": 16,
   "id": "866affeb",
   "metadata": {
    "execution": {
     "iopub.execute_input": "2024-05-10T11:42:45.405783Z",
     "iopub.status.busy": "2024-05-10T11:42:45.405309Z",
     "iopub.status.idle": "2024-05-10T11:42:45.853968Z",
     "shell.execute_reply": "2024-05-10T11:42:45.853035Z"
    },
    "papermill": {
     "duration": 0.616886,
     "end_time": "2024-05-10T11:42:45.856755",
     "exception": false,
     "start_time": "2024-05-10T11:42:45.239869",
     "status": "completed"
    },
    "tags": []
   },
   "outputs": [
    {
     "data": {
      "image/png": "[encoded data removed]",
      "text/plain": [
       "<Figure size 1100x600 with 2 Axes>"
      ]
     },
     "metadata": {},
     "output_type": "display_data"
    }
   ],
   "source": [
    "plt.figure(figsize=(11,6))\n",
    "plt.subplot(1,2,1)\n",
    "plt.plot(history.history[\"loss\"], label = \"Train Loss\",color=\"r\")\n",
    "plt.title(\"Loss\")\n",
    "plt.xlabel(\"Number of Epochs\")\n",
    "plt.ylabel(\"Loss\")\n",
    "plt.legend()\n",
    "\n",
    "plt.subplot(1,2,2)\n",
    "plt.plot(history.history[\"val_accuracy\"], label = \"Validation Accuracy\")\n",
    "plt.title(\"Test Accuracy\")\n",
    "plt.xlabel(\"Number of Epochs\")\n",
    "plt.ylabel(\"Accuracy\")\n",
    "plt.legend()\n",
    "plt.show()"
   ]
  },
  {
   "cell_type": "code",
   "execution_count": 17,
   "id": "97b24392",
   "metadata": {
    "execution": {
     "iopub.execute_input": "2024-05-10T11:42:46.195635Z",
     "iopub.status.busy": "2024-05-10T11:42:46.194674Z",
     "iopub.status.idle": "2024-05-10T11:42:48.791549Z",
     "shell.execute_reply": "2024-05-10T11:42:48.790503Z"
    },
    "papermill": {
     "duration": 2.768112,
     "end_time": "2024-05-10T11:42:48.793893",
     "exception": false,
     "start_time": "2024-05-10T11:42:46.025781",
     "status": "completed"
    },
    "tags": []
   },
   "outputs": [
    {
     "name": "stdout",
     "output_type": "stream",
     "text": [
      "Accuracy: 93.08%\n"
     ]
    }
   ],
   "source": [
    "scores = model.evaluate(x_val, y_val, verbose=0)\n",
    "print(\"{}: {:.2f}%\".format(\"Accuracy\", scores[1]*100))"
   ]
  },
  {
   "cell_type": "code",
   "execution_count": 18,
   "id": "40e60d09",
   "metadata": {
    "execution": {
     "iopub.execute_input": "2024-05-10T11:42:49.132945Z",
     "iopub.status.busy": "2024-05-10T11:42:49.132133Z",
     "iopub.status.idle": "2024-05-10T11:42:52.877609Z",
     "shell.execute_reply": "2024-05-10T11:42:52.876526Z"
    },
    "papermill": {
     "duration": 3.918455,
     "end_time": "2024-05-10T11:42:52.879791",
     "exception": false,
     "start_time": "2024-05-10T11:42:48.961336",
     "status": "completed"
    },
    "tags": []
   },
   "outputs": [
    {
     "name": "stdout",
     "output_type": "stream",
     "text": [
      "\u001b[1m375/375\u001b[0m \u001b[32m━━━━━━━━━━━━━━━━━━━━\u001b[0m\u001b[37m\u001b[0m \u001b[1m3s\u001b[0m 7ms/step\n"
     ]
    },
    {
     "data": {
      "image/png": "[encoded data removed]",
      "text/plain": [
       "<Figure size 800x800 with 2 Axes>"
      ]
     },
     "metadata": {},
     "output_type": "display_data"
    }
   ],
   "source": [
    "import seaborn as sns\n",
    "# Predict the values from the validation dataset\n",
    "Y_pred = model.predict(x_val)\n",
    "\n",
    "# Convert predictions classes to one hot vectors \n",
    "Y_pred_classes = np.argmax(Y_pred,axis = 1) \n",
    "\n",
    "# Convert validation observations to one hot vectors\n",
    "Y_true = np.argmax(y_val,axis = 1) \n",
    "\n",
    "# compute the confusion matrix\n",
    "confusion_mtx = confusion_matrix(Y_true, Y_pred_classes) \n",
    "\n",
    "# plot the confusion matrix\n",
    "f,ax = plt.subplots(figsize=(8, 8))\n",
    "sns.heatmap(confusion_mtx, annot=True, linewidths=0.01,cmap=\"Greens\",linecolor=\"gray\", fmt= '.1f',ax=ax)\n",
    "plt.xlabel(\"Predicted Label\")\n",
    "plt.ylabel(\"True Label\")\n",
    "plt.title(\"Confusion Matrix\")\n",
    "plt.show()"
   ]
  },
  {
   "cell_type": "markdown",
   "id": "94ec1662",
   "metadata": {
    "papermill": {
     "duration": 0.171168,
     "end_time": "2024-05-10T11:42:53.224462",
     "exception": false,
     "start_time": "2024-05-10T11:42:53.053294",
     "status": "completed"
    },
    "tags": []
   },
   "source": [
    "* ##  This is the conclusion of my work. \n",
    "* ##  We should update epoch, change hyperparameter tuning and add layer for to get better accuracy rate."
   ]
  }
 ],
 "metadata": {
  "kaggle": {
   "accelerator": "none",
   "dataSources": [
    {
     "datasetId": 27352,
     "sourceId": 34877,
     "sourceType": "datasetVersion"
    }
   ],
   "dockerImageVersionId": 30698,
   "isGpuEnabled": false,
   "isInternetEnabled": true,
   "language": "python",
   "sourceType": "notebook"
  },
  "kernelspec": {
   "display_name": "Python 3",
   "language": "python",
   "name": "python3"
  },
  "language_info": {
   "codemirror_mode": {
    "name": "ipython",
    "version": 3
   },
   "file_extension": ".py",
   "mimetype": "text/x-python",
   "name": "python",
   "nbconvert_exporter": "python",
   "pygments_lexer": "ipython3",
   "version": "3.10.13"
  },
  "papermill": {
   "default_parameters": {},
   "duration": 290.021889,
   "end_time": "2024-05-10T11:42:54.922310",
   "environment_variables": {},
   "exception": null,
   "input_path": "__notebook__.ipynb",
   "output_path": "__notebook__.ipynb",
   "parameters": {},
   "start_time": "2024-05-10T11:38:04.900421",
   "version": "2.5.0"
  }
 },
 "nbformat": 4,
 "nbformat_minor": 5
}
