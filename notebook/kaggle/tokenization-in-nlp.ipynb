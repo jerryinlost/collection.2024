{
 "cells": [
  {
   "cell_type": "markdown",
   "metadata": {
    "papermill": {
     "duration": 0.028474,
     "end_time": "2020-12-06T06:46:25.592818",
     "exception": false,
     "start_time": "2020-12-06T06:46:25.564344",
     "status": "completed"
    },
    "tags": []
   },
   "source": [
    "![NLP_Header_Tokenization](https://raw.githubusercontent.com/satishgunjal/images/master/NLP_Header_Tokenization.png)"
   ]
  },
  {
   "cell_type": "markdown",
   "metadata": {
    "papermill": {
     "duration": 0.027201,
     "end_time": "2020-12-06T06:46:25.647314",
     "exception": false,
     "start_time": "2020-12-06T06:46:25.620113",
     "status": "completed"
    },
    "tags": []
   },
   "source": [
    "# Index\n",
    "\n",
    "* [Introduction](#1)\n",
    "* [Why Tokenization is Required?](#2)\n",
    "* [Tokenization Techniques](#3)\n",
    "  - [Tokenization Using Python's Inbuilt Method](#4)\n",
    "  - [Tokenization Using Regular Expressions(RegEx)](#5)\n",
    "  - [Tokenization Using NLTK](#6)\n",
    "  - [Tokenization Using spaCy](#7)\n",
    "  - [Tokenization using Keras](#8)\n",
    "  - [Tokenization using Gensim](#9)\n",
    "* [Conclusion](#10)\n",
    "* [References](#11)\n",
    "\n",
    "**Tutorial contains friendly description of multiple tokenization methods and python code.**"
   ]
  },
  {
   "cell_type": "markdown",
   "metadata": {
    "papermill": {
     "duration": 0.028312,
     "end_time": "2020-12-06T06:46:25.702724",
     "exception": false,
     "start_time": "2020-12-06T06:46:25.674412",
     "status": "completed"
    },
    "tags": []
   },
   "source": [
    "# Introduction <a id =\"1\"></a>\n",
    "\n",
    "Tokenization is one of the first step in any NLP pipeline. Tokenization is nothing but splitting the raw text into small chunks of words or sentences, called tokens. If the text is split into words, then its called as 'Word Tokenization' and if it's split into sentences then its called as 'Sentence Tokenization'. Generally 'space' is used to perform the word tokenization and characters like 'periods, exclamation point and newline char are used for Sentence Tokenization.  We have to choose the appropriate method as per the task in hand. While performing the tokenization few characters like spaces, punctuations are ignored and will not be the part of final list of tokens.\n",
    "\n",
    "![NLP_Tokenization](https://raw.githubusercontent.com/satishgunjal/images/master/NLP_Tokenization.png)"
   ]
  },
  {
   "cell_type": "markdown",
   "metadata": {
    "papermill": {
     "duration": 0.026712,
     "end_time": "2020-12-06T06:46:25.756496",
     "exception": false,
     "start_time": "2020-12-06T06:46:25.729784",
     "status": "completed"
    },
    "tags": []
   },
   "source": [
    "# Why Tokenization is Required? <a id =\"2\"></a>\n",
    "Every sentence gets its meaning by the words present in it. So by analyzing the words present in the text we can easily interpret the meaning of the text. Once we have a list of words we can also use statistical tools and methods to get more insights into the text. For example, we can use word count and word frequency to find out important of word in that sentence or document."
   ]
  },
  {
   "cell_type": "markdown",
   "metadata": {
    "papermill": {
     "duration": 0.026761,
     "end_time": "2020-12-06T06:46:25.810342",
     "exception": false,
     "start_time": "2020-12-06T06:46:25.783581",
     "status": "completed"
    },
    "tags": []
   },
   "source": [
    "# Tokenization Techniques <a id =\"3\"></a>\n",
    "There are multiple ways we can perform tokenization on given text data. We can choose any method based on language, library and purpose of modeling.\n",
    "\n",
    "## Tokenization Using Python's Inbuilt Method <a id =\"4\"></a>\n",
    "\n",
    "![NLP_Tokenization](https://raw.githubusercontent.com/satishgunjal/images/master/python_split_syntax.png)\n",
    "\n",
    "* We can use **split()** method to split a string into a list where each word is a list item.\n",
    "* By default split() use whitespace as separater, but we can change it to anything.\n",
    "\n",
    "### Word Tokenization"
   ]
  },
  {
   "cell_type": "code",
   "execution_count": 1,
   "metadata": {
    "execution": {
     "iopub.execute_input": "2020-12-06T06:46:25.883527Z",
     "iopub.status.busy": "2020-12-06T06:46:25.882611Z",
     "iopub.status.idle": "2020-12-06T06:46:25.886387Z",
     "shell.execute_reply": "2020-12-06T06:46:25.887080Z"
    },
    "papermill": {
     "duration": 0.04974,
     "end_time": "2020-12-06T06:46:25.887264",
     "exception": false,
     "start_time": "2020-12-06T06:46:25.837524",
     "status": "completed"
    },
    "tags": []
   },
   "outputs": [
    {
     "name": "stdout",
     "output_type": "stream",
     "text": [
      "['There', 'are', 'multiple', 'ways', 'we', 'can', 'perform', 'tokenization', 'on', 'given', 'text', 'data.', 'We', 'can', 'choose', 'any', 'method', 'based', 'on', 'langauge,', 'library', 'and', 'purpose', 'of', 'modeling.']\n"
     ]
    }
   ],
   "source": [
    "text = \"\"\"There are multiple ways we can perform tokenization on given text data. We can choose any method based on langauge, library and purpose of modeling.\"\"\"\n",
    "# Split text by whitespace\n",
    "tokens = text.split()\n",
    "print(tokens)"
   ]
  },
  {
   "cell_type": "markdown",
   "metadata": {
    "papermill": {
     "duration": 0.027254,
     "end_time": "2020-12-06T06:46:25.942632",
     "exception": false,
     "start_time": "2020-12-06T06:46:25.915378",
     "status": "completed"
    },
    "tags": []
   },
   "source": [
    "Observe in above list, words like 'language,' and  'modeling.' are containing punctuation at the end of them. **Python split method do not consider punctuation as separate token.**"
   ]
  },
  {
   "cell_type": "markdown",
   "metadata": {
    "papermill": {
     "duration": 0.027351,
     "end_time": "2020-12-06T06:46:25.997522",
     "exception": false,
     "start_time": "2020-12-06T06:46:25.970171",
     "status": "completed"
    },
    "tags": []
   },
   "source": [
    "### Sentence Tokenization"
   ]
  },
  {
   "cell_type": "code",
   "execution_count": 2,
   "metadata": {
    "execution": {
     "iopub.execute_input": "2020-12-06T06:46:26.060333Z",
     "iopub.status.busy": "2020-12-06T06:46:26.059491Z",
     "iopub.status.idle": "2020-12-06T06:46:26.063452Z",
     "shell.execute_reply": "2020-12-06T06:46:26.062753Z"
    },
    "papermill": {
     "duration": 0.038563,
     "end_time": "2020-12-06T06:46:26.063572",
     "exception": false,
     "start_time": "2020-12-06T06:46:26.025009",
     "status": "completed"
    },
    "tags": []
   },
   "outputs": [
    {
     "data": {
      "text/plain": [
       "['Characters like periods, exclamation point and newline char are used to separate the sentences',\n",
       " 'But one drawback with split() method, that we can only use one separator at a time! So sentence tonenization wont be foolproof with split() method.']"
      ]
     },
     "execution_count": 2,
     "metadata": {},
     "output_type": "execute_result"
    }
   ],
   "source": [
    "# Lets split the given text by full stop (.)\n",
    "text = \"\"\"Characters like periods, exclamation point and newline char are used to separate the sentences. But one drawback with split() method, that we can only use one separator at a time! So sentence tonenization wont be foolproof with split() method.\"\"\"\n",
    "text.split(\". \") # Note the space after the full stop makes sure that we dont get empty element at the end of list."
   ]
  },
  {
   "cell_type": "markdown",
   "metadata": {
    "papermill": {
     "duration": 0.02798,
     "end_time": "2020-12-06T06:46:26.119715",
     "exception": false,
     "start_time": "2020-12-06T06:46:26.091735",
     "status": "completed"
    },
    "tags": []
   },
   "source": [
    "As you can see, split() since we can't use multiple separator split() method failed to split the last sentence from separator (!). We can overcome this drawback by applying split method multiple times with different separator but there are better ways to do it."
   ]
  },
  {
   "cell_type": "markdown",
   "metadata": {
    "papermill": {
     "duration": 0.028206,
     "end_time": "2020-12-06T06:46:26.176169",
     "exception": false,
     "start_time": "2020-12-06T06:46:26.147963",
     "status": "completed"
    },
    "tags": []
   },
   "source": [
    "## Tokenization Using Regular Expressions(RegEx) <a id =\"5\"></a>\n",
    "\n",
    "![python_regex_syntax](https://raw.githubusercontent.com/satishgunjal/images/master/python_regex_syntax.png)\n",
    "\n",
    "* A regular expression is a sequence of characters that define a search pattern.\n",
    "* Using RegEx we can match character combinations in string and perform word/sentence tokenization.\n",
    "* Please refer [regex101](https://regex101.com/) for testing your regular expression syntax.\n",
    "* We can use Python's **re** library for RegeEx related operations.\n"
   ]
  },
  {
   "cell_type": "markdown",
   "metadata": {
    "papermill": {
     "duration": 0.028199,
     "end_time": "2020-12-06T06:46:26.235090",
     "exception": false,
     "start_time": "2020-12-06T06:46:26.206891",
     "status": "completed"
    },
    "tags": []
   },
   "source": [
    "### Word Tokenization"
   ]
  },
  {
   "cell_type": "code",
   "execution_count": 3,
   "metadata": {
    "execution": {
     "iopub.execute_input": "2020-12-06T06:46:26.298278Z",
     "iopub.status.busy": "2020-12-06T06:46:26.297555Z",
     "iopub.status.idle": "2020-12-06T06:46:26.300975Z",
     "shell.execute_reply": "2020-12-06T06:46:26.300290Z"
    },
    "papermill": {
     "duration": 0.037434,
     "end_time": "2020-12-06T06:46:26.301090",
     "exception": false,
     "start_time": "2020-12-06T06:46:26.263656",
     "status": "completed"
    },
    "tags": []
   },
   "outputs": [
    {
     "name": "stdout",
     "output_type": "stream",
     "text": [
      "['There', 'are', 'multiple', 'ways', 'we', 'can', 'perform', 'tokenization', 'on', 'given', 'text', 'data', 'We', 'can', 'choose', 'any', 'method', 'based', 'on', 'langauge', 'library', 'and', 'purpose', 'of', 'modeling']\n"
     ]
    }
   ],
   "source": [
    "import re\n",
    "\n",
    "text = \"\"\"There are multiple ways we can perform tokenization on given text data. We can choose any method based on langauge, library and purpose of modeling.\"\"\"\n",
    "tokens = re.findall(\"[\\w]+\", text)\n",
    "print(tokens)"
   ]
  },
  {
   "cell_type": "markdown",
   "metadata": {
    "papermill": {
     "duration": 0.029001,
     "end_time": "2020-12-06T06:46:26.359283",
     "exception": false,
     "start_time": "2020-12-06T06:46:26.330282",
     "status": "completed"
    },
    "tags": []
   },
   "source": [
    "Based on RegEx pattern we are able to generate the list of words. Details about each character in our RegEx pattern is as below.\n",
    "```\n",
    "[] :\tA set of characters.\n",
    "\\w :    Returns a match where the string contains any word characters (characters from a to Z, digits from 0-9, and the underscore _ character).\n",
    "+  :\tOne or more occurrences.\n",
    "```\n",
    "\n",
    "So our RegEx pattern signifies that the code should find all the alphanumeric characters until any other character is encountered."
   ]
  },
  {
   "cell_type": "markdown",
   "metadata": {
    "papermill": {
     "duration": 0.028573,
     "end_time": "2020-12-06T06:46:26.417012",
     "exception": false,
     "start_time": "2020-12-06T06:46:26.388439",
     "status": "completed"
    },
    "tags": []
   },
   "source": [
    "### Sentence Tokenization"
   ]
  },
  {
   "cell_type": "code",
   "execution_count": 4,
   "metadata": {
    "execution": {
     "iopub.execute_input": "2020-12-06T06:46:26.482316Z",
     "iopub.status.busy": "2020-12-06T06:46:26.481423Z",
     "iopub.status.idle": "2020-12-06T06:46:26.485272Z",
     "shell.execute_reply": "2020-12-06T06:46:26.485828Z"
    },
    "papermill": {
     "duration": 0.039371,
     "end_time": "2020-12-06T06:46:26.485973",
     "exception": false,
     "start_time": "2020-12-06T06:46:26.446602",
     "status": "completed"
    },
    "tags": []
   },
   "outputs": [
    {
     "data": {
      "text/plain": [
       "['Characters like periods, exclamation point and newline char are used to separate the sentences',\n",
       " 'But one drawback with split() method, that we can only use one separator at a time',\n",
       " 'So sentence tonenization wont be foolproof with split() method.']"
      ]
     },
     "execution_count": 4,
     "metadata": {},
     "output_type": "execute_result"
    }
   ],
   "source": [
    "text = \"\"\"Characters like periods, exclamation point and newline char are used to separate the sentences. But one drawback with split() method, that we can only use one separator at a time! So sentence tonenization wont be foolproof with split() method.\"\"\"\n",
    "tokens_sent = re.compile('[.!?] ').split(text) # Using compile method to combine RegEx patterns\n",
    "tokens_sent"
   ]
  },
  {
   "cell_type": "markdown",
   "metadata": {
    "papermill": {
     "duration": 0.029549,
     "end_time": "2020-12-06T06:46:26.545121",
     "exception": false,
     "start_time": "2020-12-06T06:46:26.515572",
     "status": "completed"
    },
    "tags": []
   },
   "source": [
    "As you can see from above result, we are able to split sentence using multiple separators."
   ]
  },
  {
   "cell_type": "markdown",
   "metadata": {
    "papermill": {
     "duration": 0.029162,
     "end_time": "2020-12-06T06:46:26.603828",
     "exception": false,
     "start_time": "2020-12-06T06:46:26.574666",
     "status": "completed"
    },
    "tags": []
   },
   "source": [
    "## Tokenization Using NLTK <a id =\"6\"></a>\n",
    "* Natural Language Toolkit (NLTK) is library written in python for natural language processing.\n",
    "* NLTK has module **word_tokenize()** for word tokenization and **sent_tokenize()** for sentence tokenization.\n",
    "* Syntax to install NLTK is as below\n",
    "```\n",
    "!pip install --user -U nltk\n",
    "```\n",
    "* Note that we are going use \"!\" before the command to let notebook know that, it should read as commandline command\n",
    "\n",
    "### Word Tokenization"
   ]
  },
  {
   "cell_type": "code",
   "execution_count": 5,
   "metadata": {
    "_kg_hide-output": true,
    "execution": {
     "iopub.execute_input": "2020-12-06T06:46:26.668419Z",
     "iopub.status.busy": "2020-12-06T06:46:26.667682Z",
     "iopub.status.idle": "2020-12-06T06:46:40.277433Z",
     "shell.execute_reply": "2020-12-06T06:46:40.276634Z"
    },
    "papermill": {
     "duration": 13.644168,
     "end_time": "2020-12-06T06:46:40.277560",
     "exception": false,
     "start_time": "2020-12-06T06:46:26.633392",
     "status": "completed"
    },
    "tags": []
   },
   "outputs": [
    {
     "name": "stdout",
     "output_type": "stream",
     "text": [
      "Collecting nltk\r\n",
      "  Downloading nltk-3.5.zip (1.4 MB)\r\n",
      "\u001b[K     |████████████████████████████████| 1.4 MB 914 kB/s \r\n",
      "\u001b[?25hRequirement already satisfied, skipping upgrade: click in /opt/conda/lib/python3.7/site-packages (from nltk) (7.1.1)\r\n",
      "Requirement already satisfied, skipping upgrade: joblib in /opt/conda/lib/python3.7/site-packages (from nltk) (0.14.1)\r\n",
      "Requirement already satisfied, skipping upgrade: regex in /opt/conda/lib/python3.7/site-packages (from nltk) (2020.4.4)\r\n",
      "Requirement already satisfied, skipping upgrade: tqdm in /opt/conda/lib/python3.7/site-packages (from nltk) (4.45.0)\r\n",
      "Building wheels for collected packages: nltk\r\n",
      "  Building wheel for nltk (setup.py) ... \u001b[?25l-\b \b\\\b \b|\b \b/\b \b-\b \b\\\b \bdone\r\n",
      "\u001b[?25h  Created wheel for nltk: filename=nltk-3.5-py3-none-any.whl size=1434675 sha256=e70309098eea6e5151ff43fb4543ffcee04b82b9b6b76dd686cd9e1ffe8dc126\r\n",
      "  Stored in directory: /root/.cache/pip/wheels/45/6c/46/a1865e7ba706b3817f5d1b2ff7ce8996aabdd0d03d47ba0266\r\n",
      "Successfully built nltk\r\n",
      "Installing collected packages: nltk\r\n",
      "\u001b[33m  WARNING: The script nltk is installed in '/root/.local/bin' which is not on PATH.\r\n",
      "  Consider adding this directory to PATH or, if you prefer to suppress this warning, use --no-warn-script-location.\u001b[0m\r\n",
      "\u001b[31mERROR: After October 2020 you may experience errors when installing or updating packages. This is because pip will change the way that it resolves dependency conflicts.\r\n",
      "\r\n",
      "We recommend you use --use-feature=2020-resolver to test your packages with the new resolver before it becomes the default.\r\n",
      "\r\n",
      "preprocessing 0.1.13 requires nltk==3.2.4, but you'll have nltk 3.5 which is incompatible.\u001b[0m\r\n",
      "Successfully installed nltk-3.5\r\n",
      "\u001b[33mWARNING: You are using pip version 20.2.2; however, version 20.3.1 is available.\r\n",
      "You should consider upgrading via the '/opt/conda/bin/python3.7 -m pip install --upgrade pip' command.\u001b[0m\r\n"
     ]
    }
   ],
   "source": [
    "!pip install --user -U nltk"
   ]
  },
  {
   "cell_type": "code",
   "execution_count": 6,
   "metadata": {
    "execution": {
     "iopub.execute_input": "2020-12-06T06:46:40.367577Z",
     "iopub.status.busy": "2020-12-06T06:46:40.366771Z",
     "iopub.status.idle": "2020-12-06T06:46:41.872527Z",
     "shell.execute_reply": "2020-12-06T06:46:41.871489Z"
    },
    "papermill": {
     "duration": 1.553435,
     "end_time": "2020-12-06T06:46:41.872697",
     "exception": false,
     "start_time": "2020-12-06T06:46:40.319262",
     "status": "completed"
    },
    "tags": []
   },
   "outputs": [
    {
     "name": "stdout",
     "output_type": "stream",
     "text": [
      "['There', 'are', 'multiple', 'ways', 'we', 'can', 'perform', 'tokenization', 'on', 'given', 'text', 'data', '.', 'We', 'can', 'choose', 'any', 'method', 'based', 'on', 'langauge', ',', 'library', 'and', 'purpose', 'of', 'modeling', '.']\n"
     ]
    }
   ],
   "source": [
    "from nltk.tokenize import word_tokenize\n",
    "\n",
    "text = \"\"\"There are multiple ways we can perform tokenization on given text data. We can choose any method based on langauge, library and purpose of modeling.\"\"\"\n",
    "tokens = word_tokenize(text)\n",
    "print(tokens)"
   ]
  },
  {
   "cell_type": "markdown",
   "metadata": {
    "papermill": {
     "duration": 0.042171,
     "end_time": "2020-12-06T06:46:41.958256",
     "exception": false,
     "start_time": "2020-12-06T06:46:41.916085",
     "status": "completed"
    },
    "tags": []
   },
   "source": [
    "Notice that NLTK word tokenization also consider the punctuation as token. During text cleaning process we have to account for this."
   ]
  },
  {
   "cell_type": "markdown",
   "metadata": {
    "papermill": {
     "duration": 0.042074,
     "end_time": "2020-12-06T06:46:42.042804",
     "exception": false,
     "start_time": "2020-12-06T06:46:42.000730",
     "status": "completed"
    },
    "tags": []
   },
   "source": [
    "### Sentence Tokenization"
   ]
  },
  {
   "cell_type": "code",
   "execution_count": 7,
   "metadata": {
    "execution": {
     "iopub.execute_input": "2020-12-06T06:46:42.141478Z",
     "iopub.status.busy": "2020-12-06T06:46:42.140491Z",
     "iopub.status.idle": "2020-12-06T06:46:42.145263Z",
     "shell.execute_reply": "2020-12-06T06:46:42.144546Z"
    },
    "papermill": {
     "duration": 0.058997,
     "end_time": "2020-12-06T06:46:42.145382",
     "exception": false,
     "start_time": "2020-12-06T06:46:42.086385",
     "status": "completed"
    },
    "tags": []
   },
   "outputs": [
    {
     "data": {
      "text/plain": [
       "['Characters like periods, exclamation point and newline char are used to separate the sentences.',\n",
       " 'But one drawback with split() method, that we can only use one separator at a time!',\n",
       " 'So sentence tonenization wont be foolproof with split() method.']"
      ]
     },
     "execution_count": 7,
     "metadata": {},
     "output_type": "execute_result"
    }
   ],
   "source": [
    "from nltk.tokenize import sent_tokenize\n",
    "\n",
    "text = \"\"\"Characters like periods, exclamation point and newline char are used to separate the sentences. But one drawback with split() method, that we can only use one separator at a time! So sentence tonenization wont be foolproof with split() method.\"\"\"\n",
    "sent_tokenize(text)"
   ]
  },
  {
   "cell_type": "markdown",
   "metadata": {
    "papermill": {
     "duration": 0.043178,
     "end_time": "2020-12-06T06:46:42.232912",
     "exception": false,
     "start_time": "2020-12-06T06:46:42.189734",
     "status": "completed"
    },
    "tags": []
   },
   "source": [
    "## Tokenization Using spaCy <a id =\"7\"></a>\n",
    "* spaCy is an open-source software library for advanced natural language processing, written in the programming languages Python and Cython\n",
    "* in spaCy we create language model object, which then used for word and sentence tokenization\n",
    "* Syntax to install spaCy library and English model is as below\n",
    "```\n",
    "!pip install spacy\n",
    "!python -m spacy download en\n",
    "```\n",
    "* Note that we are going use \"!\" before the command to let notebook know that, it should read as commandline command\n",
    "\n",
    "### Word Tokenization"
   ]
  },
  {
   "cell_type": "code",
   "execution_count": 8,
   "metadata": {
    "_kg_hide-output": true,
    "collapsed": true,
    "execution": {
     "iopub.execute_input": "2020-12-06T06:46:42.339511Z",
     "iopub.status.busy": "2020-12-06T06:46:42.334488Z",
     "iopub.status.idle": "2020-12-06T06:47:00.791377Z",
     "shell.execute_reply": "2020-12-06T06:47:00.790653Z"
    },
    "papermill": {
     "duration": 18.515685,
     "end_time": "2020-12-06T06:47:00.791503",
     "exception": false,
     "start_time": "2020-12-06T06:46:42.275818",
     "status": "completed"
    },
    "tags": []
   },
   "outputs": [
    {
     "name": "stdout",
     "output_type": "stream",
     "text": [
      "Requirement already satisfied: spacy in /opt/conda/lib/python3.7/site-packages (2.2.4)\r\n",
      "Requirement already satisfied: tqdm<5.0.0,>=4.38.0 in /opt/conda/lib/python3.7/site-packages (from spacy) (4.45.0)\r\n",
      "Requirement already satisfied: thinc==7.4.0 in /opt/conda/lib/python3.7/site-packages (from spacy) (7.4.0)\r\n",
      "Requirement already satisfied: setuptools in /opt/conda/lib/python3.7/site-packages (from spacy) (46.1.3.post20200325)\r\n",
      "Requirement already satisfied: murmurhash<1.1.0,>=0.28.0 in /opt/conda/lib/python3.7/site-packages (from spacy) (1.0.2)\r\n",
      "Requirement already satisfied: cymem<2.1.0,>=2.0.2 in /opt/conda/lib/python3.7/site-packages (from spacy) (2.0.3)\r\n",
      "Requirement already satisfied: wasabi<1.1.0,>=0.4.0 in /opt/conda/lib/python3.7/site-packages (from spacy) (0.8.0)\r\n",
      "Requirement already satisfied: catalogue<1.1.0,>=0.0.7 in /opt/conda/lib/python3.7/site-packages (from spacy) (1.0.0)\r\n",
      "Requirement already satisfied: requests<3.0.0,>=2.13.0 in /opt/conda/lib/python3.7/site-packages (from spacy) (2.23.0)\r\n",
      "Requirement already satisfied: plac<1.2.0,>=0.9.6 in /opt/conda/lib/python3.7/site-packages (from spacy) (1.1.3)\r\n",
      "Requirement already satisfied: numpy>=1.15.0 in /opt/conda/lib/python3.7/site-packages (from spacy) (1.18.5)\r\n",
      "Requirement already satisfied: blis<0.5.0,>=0.4.0 in /opt/conda/lib/python3.7/site-packages (from spacy) (0.4.1)\r\n",
      "Requirement already satisfied: preshed<3.1.0,>=3.0.2 in /opt/conda/lib/python3.7/site-packages (from spacy) (3.0.2)\r\n",
      "Requirement already satisfied: srsly<1.1.0,>=1.0.2 in /opt/conda/lib/python3.7/site-packages (from spacy) (1.0.2)\r\n",
      "Requirement already satisfied: importlib-metadata>=0.20; python_version < \"3.8\" in /opt/conda/lib/python3.7/site-packages (from catalogue<1.1.0,>=0.0.7->spacy) (1.7.0)\r\n",
      "Requirement already satisfied: urllib3!=1.25.0,!=1.25.1,<1.26,>=1.21.1 in /opt/conda/lib/python3.7/site-packages (from requests<3.0.0,>=2.13.0->spacy) (1.24.3)\r\n",
      "Requirement already satisfied: certifi>=2017.4.17 in /opt/conda/lib/python3.7/site-packages (from requests<3.0.0,>=2.13.0->spacy) (2020.6.20)\r\n",
      "Requirement already satisfied: chardet<4,>=3.0.2 in /opt/conda/lib/python3.7/site-packages (from requests<3.0.0,>=2.13.0->spacy) (3.0.4)\r\n",
      "Requirement already satisfied: idna<3,>=2.5 in /opt/conda/lib/python3.7/site-packages (from requests<3.0.0,>=2.13.0->spacy) (2.9)\r\n",
      "Requirement already satisfied: zipp>=0.5 in /opt/conda/lib/python3.7/site-packages (from importlib-metadata>=0.20; python_version < \"3.8\"->catalogue<1.1.0,>=0.0.7->spacy) (3.1.0)\r\n",
      "\u001b[33mWARNING: You are using pip version 20.2.2; however, version 20.3.1 is available.\r\n",
      "You should consider upgrading via the '/opt/conda/bin/python3.7 -m pip install --upgrade pip' command.\u001b[0m\r\n",
      "Requirement already satisfied: en_core_web_sm==2.2.5 from https://github.com/explosion/spacy-models/releases/download/en_core_web_sm-2.2.5/en_core_web_sm-2.2.5.tar.gz#egg=en_core_web_sm==2.2.5 in /opt/conda/lib/python3.7/site-packages (2.2.5)\r\n",
      "Requirement already satisfied: spacy>=2.2.2 in /opt/conda/lib/python3.7/site-packages (from en_core_web_sm==2.2.5) (2.2.4)\r\n",
      "Requirement already satisfied: catalogue<1.1.0,>=0.0.7 in /opt/conda/lib/python3.7/site-packages (from spacy>=2.2.2->en_core_web_sm==2.2.5) (1.0.0)\r\n",
      "Requirement already satisfied: cymem<2.1.0,>=2.0.2 in /opt/conda/lib/python3.7/site-packages (from spacy>=2.2.2->en_core_web_sm==2.2.5) (2.0.3)\r\n",
      "Requirement already satisfied: setuptools in /opt/conda/lib/python3.7/site-packages (from spacy>=2.2.2->en_core_web_sm==2.2.5) (46.1.3.post20200325)\r\n",
      "Requirement already satisfied: murmurhash<1.1.0,>=0.28.0 in /opt/conda/lib/python3.7/site-packages (from spacy>=2.2.2->en_core_web_sm==2.2.5) (1.0.2)\r\n",
      "Requirement already satisfied: plac<1.2.0,>=0.9.6 in /opt/conda/lib/python3.7/site-packages (from spacy>=2.2.2->en_core_web_sm==2.2.5) (1.1.3)\r\n",
      "Requirement already satisfied: requests<3.0.0,>=2.13.0 in /opt/conda/lib/python3.7/site-packages (from spacy>=2.2.2->en_core_web_sm==2.2.5) (2.23.0)\r\n",
      "Requirement already satisfied: srsly<1.1.0,>=1.0.2 in /opt/conda/lib/python3.7/site-packages (from spacy>=2.2.2->en_core_web_sm==2.2.5) (1.0.2)\r\n",
      "Requirement already satisfied: numpy>=1.15.0 in /opt/conda/lib/python3.7/site-packages (from spacy>=2.2.2->en_core_web_sm==2.2.5) (1.18.5)\r\n",
      "Requirement already satisfied: wasabi<1.1.0,>=0.4.0 in /opt/conda/lib/python3.7/site-packages (from spacy>=2.2.2->en_core_web_sm==2.2.5) (0.8.0)\r\n",
      "Requirement already satisfied: thinc==7.4.0 in /opt/conda/lib/python3.7/site-packages (from spacy>=2.2.2->en_core_web_sm==2.2.5) (7.4.0)\r\n",
      "Requirement already satisfied: tqdm<5.0.0,>=4.38.0 in /opt/conda/lib/python3.7/site-packages (from spacy>=2.2.2->en_core_web_sm==2.2.5) (4.45.0)\r\n",
      "Requirement already satisfied: blis<0.5.0,>=0.4.0 in /opt/conda/lib/python3.7/site-packages (from spacy>=2.2.2->en_core_web_sm==2.2.5) (0.4.1)\r\n",
      "Requirement already satisfied: preshed<3.1.0,>=3.0.2 in /opt/conda/lib/python3.7/site-packages (from spacy>=2.2.2->en_core_web_sm==2.2.5) (3.0.2)\r\n",
      "Requirement already satisfied: importlib-metadata>=0.20; python_version < \"3.8\" in /opt/conda/lib/python3.7/site-packages (from catalogue<1.1.0,>=0.0.7->spacy>=2.2.2->en_core_web_sm==2.2.5) (1.7.0)\r\n",
      "Requirement already satisfied: idna<3,>=2.5 in /opt/conda/lib/python3.7/site-packages (from requests<3.0.0,>=2.13.0->spacy>=2.2.2->en_core_web_sm==2.2.5) (2.9)\r\n",
      "Requirement already satisfied: certifi>=2017.4.17 in /opt/conda/lib/python3.7/site-packages (from requests<3.0.0,>=2.13.0->spacy>=2.2.2->en_core_web_sm==2.2.5) (2020.6.20)\r\n",
      "Requirement already satisfied: chardet<4,>=3.0.2 in /opt/conda/lib/python3.7/site-packages (from requests<3.0.0,>=2.13.0->spacy>=2.2.2->en_core_web_sm==2.2.5) (3.0.4)\r\n",
      "Requirement already satisfied: urllib3!=1.25.0,!=1.25.1,<1.26,>=1.21.1 in /opt/conda/lib/python3.7/site-packages (from requests<3.0.0,>=2.13.0->spacy>=2.2.2->en_core_web_sm==2.2.5) (1.24.3)\r\n",
      "Requirement already satisfied: zipp>=0.5 in /opt/conda/lib/python3.7/site-packages (from importlib-metadata>=0.20; python_version < \"3.8\"->catalogue<1.1.0,>=0.0.7->spacy>=2.2.2->en_core_web_sm==2.2.5) (3.1.0)\r\n",
      "\u001b[33mWARNING: You are using pip version 20.2.2; however, version 20.3.1 is available.\r\n",
      "You should consider upgrading via the '/opt/conda/bin/python -m pip install --upgrade pip' command.\u001b[0m\r\n",
      "\u001b[38;5;2m✔ Download and installation successful\u001b[0m\r\n",
      "You can now load the model via spacy.load('en_core_web_sm')\r\n",
      "\u001b[38;5;2m✔ Linking successful\u001b[0m\r\n",
      "/opt/conda/lib/python3.7/site-packages/en_core_web_sm -->\r\n",
      "/opt/conda/lib/python3.7/site-packages/spacy/data/en\r\n",
      "You can now load the model via spacy.load('en')\r\n"
     ]
    }
   ],
   "source": [
    "!pip install spacy\n",
    "!python -m spacy download en"
   ]
  },
  {
   "cell_type": "code",
   "execution_count": 9,
   "metadata": {
    "execution": {
     "iopub.execute_input": "2020-12-06T06:47:00.899229Z",
     "iopub.status.busy": "2020-12-06T06:47:00.898107Z",
     "iopub.status.idle": "2020-12-06T06:47:01.726640Z",
     "shell.execute_reply": "2020-12-06T06:47:01.725475Z"
    },
    "papermill": {
     "duration": 0.885598,
     "end_time": "2020-12-06T06:47:01.726830",
     "exception": false,
     "start_time": "2020-12-06T06:47:00.841232",
     "status": "completed"
    },
    "tags": []
   },
   "outputs": [
    {
     "name": "stdout",
     "output_type": "stream",
     "text": [
      "['There', 'are', 'multiple', 'ways', 'we', 'can', 'perform', 'tokenization', 'on', 'given', 'text', 'data', '.', 'We', 'can', 'choose', 'any', 'method', 'based', 'on', 'langauge', ',', 'library', 'and', 'purpose', 'of', 'modeling', '.']\n"
     ]
    }
   ],
   "source": [
    "# Load English model from spacy\n",
    "from spacy.lang.en import English\n",
    "\n",
    "# Load English tokenizer. \n",
    "# nlp object will be used to create 'doc' object which uses preprecoessing pipeline's components such as tagger, parser, NER and word vectors\n",
    "nlp = English()\n",
    "\n",
    "text = \"\"\"There are multiple ways we can perform tokenization on given text data. We can choose any method based on langauge, library and purpose of modeling.\"\"\"\n",
    "\n",
    "# Now we will process above text using 'nlp' object. Which is use to create documents with linguistic annotations and various nlp properties\n",
    "my_doc = nlp(text)\n",
    "\n",
    "# Above step has already tokenized our text but its in doc format, so lets write fo loop to create list of it\n",
    "token_list = []\n",
    "for token in my_doc:\n",
    "    token_list.append(token.text)\n",
    "\n",
    "print(token_list)"
   ]
  },
  {
   "cell_type": "markdown",
   "metadata": {
    "papermill": {
     "duration": 0.048984,
     "end_time": "2020-12-06T06:47:01.825948",
     "exception": false,
     "start_time": "2020-12-06T06:47:01.776964",
     "status": "completed"
    },
    "tags": []
   },
   "source": [
    "### Sentence Tokenization"
   ]
  },
  {
   "cell_type": "code",
   "execution_count": 10,
   "metadata": {
    "execution": {
     "iopub.execute_input": "2020-12-06T06:47:01.955005Z",
     "iopub.status.busy": "2020-12-06T06:47:01.934219Z",
     "iopub.status.idle": "2020-12-06T06:47:02.300268Z",
     "shell.execute_reply": "2020-12-06T06:47:02.299499Z"
    },
    "papermill": {
     "duration": 0.425176,
     "end_time": "2020-12-06T06:47:02.300410",
     "exception": false,
     "start_time": "2020-12-06T06:47:01.875234",
     "status": "completed"
    },
    "tags": []
   },
   "outputs": [
    {
     "name": "stdout",
     "output_type": "stream",
     "text": [
      "['Characters like periods, exclamation point and newline char are used to separate the sentences.', 'But one drawback with split() method, that we can only use one separator at a time!', 'So sentence tonenization wont be foolproof with split() method.']\n"
     ]
    }
   ],
   "source": [
    "# Load English tokenizer, tager, parser, NER and word vectors\n",
    "nlp = English()\n",
    "\n",
    "# Create the pipeline 'sentencizer' component\n",
    "sbd = nlp.create_pipe('sentencizer')\n",
    "\n",
    "# Add component to the pipeline\n",
    "nlp.add_pipe(sbd)\n",
    "\n",
    "text = \"\"\"Characters like periods, exclamation point and newline char are used to separate the sentences. But one drawback with split() method, that we can only use one separator at a time! So sentence tonenization wont be foolproof with split() method.\"\"\"\n",
    "\n",
    "# nlp object is used to create documents with linguistic annotations\n",
    "doc = nlp(text)\n",
    "\n",
    "# Create list of sentence tokens\n",
    "\n",
    "sentence_list =[]\n",
    "for sentence in doc.sents:\n",
    "    sentence_list.append(sentence.text)\n",
    "print(sentence_list)"
   ]
  },
  {
   "cell_type": "markdown",
   "metadata": {
    "papermill": {
     "duration": 0.049842,
     "end_time": "2020-12-06T06:47:02.400686",
     "exception": false,
     "start_time": "2020-12-06T06:47:02.350844",
     "status": "completed"
    },
    "tags": []
   },
   "source": [
    "## Tokenization using Keras <a id =\"8\"></a>\n",
    "* Keras is opensource neural network library written in python. It is easy to use and it is capable of running on top of TensorFlow, Microsoft Cognitive Toolkit, R, Theano, or PlaidML\n",
    "* To perform word tokenization we use the **text_to_word_sequence()** method from the **keras.preprocessing.text class**\n",
    "* By default, this function automatically does 3 things:\n",
    "    * Splits words by space (split=” “).\n",
    "    * Filters out punctuation (filters=’!”#$%&()*+,-./:;<=>?@[\\\\]^_`{|}~\\t\\n’).\n",
    "    * Converts text to lowercase (lower=True).\n",
    "* Syntx to install Keras\n",
    "```\n",
    "!pip install Keras\n",
    "```"
   ]
  },
  {
   "cell_type": "code",
   "execution_count": 11,
   "metadata": {
    "_kg_hide-output": true,
    "collapsed": true,
    "execution": {
     "iopub.execute_input": "2020-12-06T06:47:02.509319Z",
     "iopub.status.busy": "2020-12-06T06:47:02.508572Z",
     "iopub.status.idle": "2020-12-06T06:47:10.252563Z",
     "shell.execute_reply": "2020-12-06T06:47:10.251898Z"
    },
    "papermill": {
     "duration": 7.800081,
     "end_time": "2020-12-06T06:47:10.252711",
     "exception": false,
     "start_time": "2020-12-06T06:47:02.452630",
     "status": "completed"
    },
    "tags": []
   },
   "outputs": [
    {
     "name": "stdout",
     "output_type": "stream",
     "text": [
      "Requirement already satisfied: Keras in /opt/conda/lib/python3.7/site-packages (2.4.3)\r\n",
      "Requirement already satisfied: scipy>=0.14 in /opt/conda/lib/python3.7/site-packages (from Keras) (1.4.1)\r\n",
      "Requirement already satisfied: h5py in /opt/conda/lib/python3.7/site-packages (from Keras) (2.10.0)\r\n",
      "Requirement already satisfied: pyyaml in /opt/conda/lib/python3.7/site-packages (from Keras) (5.3.1)\r\n",
      "Requirement already satisfied: numpy>=1.9.1 in /opt/conda/lib/python3.7/site-packages (from Keras) (1.18.5)\r\n",
      "Requirement already satisfied: six in /opt/conda/lib/python3.7/site-packages (from h5py->Keras) (1.14.0)\r\n",
      "\u001b[33mWARNING: You are using pip version 20.2.2; however, version 20.3.1 is available.\r\n",
      "You should consider upgrading via the '/opt/conda/bin/python3.7 -m pip install --upgrade pip' command.\u001b[0m\r\n"
     ]
    }
   ],
   "source": [
    "!pip install Keras"
   ]
  },
  {
   "cell_type": "markdown",
   "metadata": {
    "papermill": {
     "duration": 0.051361,
     "end_time": "2020-12-06T06:47:10.356024",
     "exception": false,
     "start_time": "2020-12-06T06:47:10.304663",
     "status": "completed"
    },
    "tags": []
   },
   "source": [
    "### Word Tokenization"
   ]
  },
  {
   "cell_type": "code",
   "execution_count": 12,
   "metadata": {
    "execution": {
     "iopub.execute_input": "2020-12-06T06:47:10.466845Z",
     "iopub.status.busy": "2020-12-06T06:47:10.466032Z",
     "iopub.status.idle": "2020-12-06T06:47:15.680504Z",
     "shell.execute_reply": "2020-12-06T06:47:15.679298Z"
    },
    "papermill": {
     "duration": 5.272704,
     "end_time": "2020-12-06T06:47:15.680643",
     "exception": false,
     "start_time": "2020-12-06T06:47:10.407939",
     "status": "completed"
    },
    "tags": []
   },
   "outputs": [
    {
     "name": "stdout",
     "output_type": "stream",
     "text": [
      "['there', 'are', 'multiple', 'ways', 'we', 'can', 'perform', 'tokenization', 'on', 'given', 'text', 'data', 'we', 'can', 'choose', 'any', 'method', 'based', 'on', 'langauge', 'library', 'and', 'purpose', 'of', 'modeling']\n"
     ]
    }
   ],
   "source": [
    "from keras.preprocessing.text import text_to_word_sequence\n",
    "\n",
    "text = \"\"\"There are multiple ways we can perform tokenization on given text data. We can choose any method based on langauge, library and purpose of modeling.\"\"\"\n",
    "\n",
    "tokens = text_to_word_sequence(text)\n",
    "print(tokens)"
   ]
  },
  {
   "cell_type": "markdown",
   "metadata": {
    "papermill": {
     "duration": 0.052164,
     "end_time": "2020-12-06T06:47:15.785995",
     "exception": false,
     "start_time": "2020-12-06T06:47:15.733831",
     "status": "completed"
    },
    "tags": []
   },
   "source": [
    "As you can notice, all words are also converted to lowercase. This is default behavior we can change it by changing the arguments e.g. text_to_word_sequence(text,lower=False)\n",
    "\n",
    "### Sentence Tokenization\n",
    "For sentence tokenization we can use filters like \"!.\\n\" to split the text into sentences."
   ]
  },
  {
   "cell_type": "code",
   "execution_count": 13,
   "metadata": {
    "execution": {
     "iopub.execute_input": "2020-12-06T06:47:15.898431Z",
     "iopub.status.busy": "2020-12-06T06:47:15.897518Z",
     "iopub.status.idle": "2020-12-06T06:47:15.902111Z",
     "shell.execute_reply": "2020-12-06T06:47:15.901406Z"
    },
    "papermill": {
     "duration": 0.063573,
     "end_time": "2020-12-06T06:47:15.902250",
     "exception": false,
     "start_time": "2020-12-06T06:47:15.838677",
     "status": "completed"
    },
    "tags": []
   },
   "outputs": [
    {
     "data": {
      "text/plain": [
       "['characters like periods, exclamation point and newline char are used to separate the sentences',\n",
       " ' but one drawback with split() method, that we can only use one separator at a time',\n",
       " ' so sentence tonenization wont be foolproof with split() method']"
      ]
     },
     "execution_count": 13,
     "metadata": {},
     "output_type": "execute_result"
    }
   ],
   "source": [
    "from keras.preprocessing.text import text_to_word_sequence\n",
    "\n",
    "text = \"\"\"Characters like periods, exclamation point and newline char are used to separate the sentences. But one drawback with split() method, that we can only use one separator at a time! So sentence tonenization wont be foolproof with split() method.\"\"\"\n",
    "\n",
    "text_to_word_sequence(text, split= \".\", filters=\"!.\\n\")"
   ]
  },
  {
   "cell_type": "markdown",
   "metadata": {
    "papermill": {
     "duration": 0.052439,
     "end_time": "2020-12-06T06:47:16.007915",
     "exception": false,
     "start_time": "2020-12-06T06:47:15.955476",
     "status": "completed"
    },
    "tags": []
   },
   "source": [
    "## Tokenization using Gensim <a id =\"9\"></a>\n",
    "* Gensim is an open-source library for unsupervised topic modeling and natural language processing, using modern statistical machine learning.\n",
    "* We are going to use **tokenize()** from **gensim.utility** class for word tokenization.\n",
    "* Unlike other libraries Gensim has separate method **split_sentences()** from class **gensim.summarization.textcleaner** for sentence tokenization. \n",
    "* Syntx to install Gensim\n",
    "```\n",
    "!pip install gensim\n",
    "```"
   ]
  },
  {
   "cell_type": "code",
   "execution_count": 14,
   "metadata": {
    "_kg_hide-output": true,
    "execution": {
     "iopub.execute_input": "2020-12-06T06:47:16.119261Z",
     "iopub.status.busy": "2020-12-06T06:47:16.118490Z",
     "iopub.status.idle": "2020-12-06T06:47:24.127315Z",
     "shell.execute_reply": "2020-12-06T06:47:24.126610Z"
    },
    "papermill": {
     "duration": 8.066851,
     "end_time": "2020-12-06T06:47:24.127535",
     "exception": false,
     "start_time": "2020-12-06T06:47:16.060684",
     "status": "completed"
    },
    "tags": []
   },
   "outputs": [
    {
     "name": "stdout",
     "output_type": "stream",
     "text": [
      "Requirement already satisfied: gensim in /opt/conda/lib/python3.7/site-packages (3.8.3)\r\n",
      "Requirement already satisfied: numpy>=1.11.3 in /opt/conda/lib/python3.7/site-packages (from gensim) (1.18.5)\r\n",
      "Requirement already satisfied: six>=1.5.0 in /opt/conda/lib/python3.7/site-packages (from gensim) (1.14.0)\r\n",
      "Requirement already satisfied: scipy>=0.18.1 in /opt/conda/lib/python3.7/site-packages (from gensim) (1.4.1)\r\n",
      "Requirement already satisfied: smart-open>=1.8.1 in /opt/conda/lib/python3.7/site-packages (from gensim) (2.1.1)\r\n",
      "Requirement already satisfied: boto in /opt/conda/lib/python3.7/site-packages (from smart-open>=1.8.1->gensim) (2.49.0)\r\n",
      "Requirement already satisfied: boto3 in /opt/conda/lib/python3.7/site-packages (from smart-open>=1.8.1->gensim) (1.14.56)\r\n",
      "Requirement already satisfied: requests in /opt/conda/lib/python3.7/site-packages (from smart-open>=1.8.1->gensim) (2.23.0)\r\n",
      "Requirement already satisfied: botocore<1.18.0,>=1.17.56 in /opt/conda/lib/python3.7/site-packages (from boto3->smart-open>=1.8.1->gensim) (1.17.56)\r\n",
      "Requirement already satisfied: jmespath<1.0.0,>=0.7.1 in /opt/conda/lib/python3.7/site-packages (from boto3->smart-open>=1.8.1->gensim) (0.10.0)\r\n",
      "Requirement already satisfied: s3transfer<0.4.0,>=0.3.0 in /opt/conda/lib/python3.7/site-packages (from boto3->smart-open>=1.8.1->gensim) (0.3.3)\r\n",
      "Requirement already satisfied: urllib3!=1.25.0,!=1.25.1,<1.26,>=1.21.1 in /opt/conda/lib/python3.7/site-packages (from requests->smart-open>=1.8.1->gensim) (1.24.3)\r\n",
      "Requirement already satisfied: idna<3,>=2.5 in /opt/conda/lib/python3.7/site-packages (from requests->smart-open>=1.8.1->gensim) (2.9)\r\n",
      "Requirement already satisfied: chardet<4,>=3.0.2 in /opt/conda/lib/python3.7/site-packages (from requests->smart-open>=1.8.1->gensim) (3.0.4)\r\n",
      "Requirement already satisfied: certifi>=2017.4.17 in /opt/conda/lib/python3.7/site-packages (from requests->smart-open>=1.8.1->gensim) (2020.6.20)\r\n",
      "Requirement already satisfied: docutils<0.16,>=0.10 in /opt/conda/lib/python3.7/site-packages (from botocore<1.18.0,>=1.17.56->boto3->smart-open>=1.8.1->gensim) (0.15.2)\r\n",
      "Requirement already satisfied: python-dateutil<3.0.0,>=2.1 in /opt/conda/lib/python3.7/site-packages (from botocore<1.18.0,>=1.17.56->boto3->smart-open>=1.8.1->gensim) (2.8.1)\r\n",
      "\u001b[33mWARNING: You are using pip version 20.2.2; however, version 20.3.1 is available.\r\n",
      "You should consider upgrading via the '/opt/conda/bin/python3.7 -m pip install --upgrade pip' command.\u001b[0m\r\n"
     ]
    }
   ],
   "source": [
    "!pip install gensim"
   ]
  },
  {
   "cell_type": "markdown",
   "metadata": {
    "papermill": {
     "duration": 0.055837,
     "end_time": "2020-12-06T06:47:24.239738",
     "exception": false,
     "start_time": "2020-12-06T06:47:24.183901",
     "status": "completed"
    },
    "tags": []
   },
   "source": [
    "### Word Tokenization"
   ]
  },
  {
   "cell_type": "code",
   "execution_count": 15,
   "metadata": {
    "execution": {
     "iopub.execute_input": "2020-12-06T06:47:24.358632Z",
     "iopub.status.busy": "2020-12-06T06:47:24.357872Z",
     "iopub.status.idle": "2020-12-06T06:47:24.596040Z",
     "shell.execute_reply": "2020-12-06T06:47:24.595287Z"
    },
    "papermill": {
     "duration": 0.300073,
     "end_time": "2020-12-06T06:47:24.596193",
     "exception": false,
     "start_time": "2020-12-06T06:47:24.296120",
     "status": "completed"
    },
    "tags": []
   },
   "outputs": [
    {
     "name": "stdout",
     "output_type": "stream",
     "text": [
      "['There', 'are', 'multiple', 'ways', 'we', 'can', 'perform', 'tokenization', 'on', 'given', 'text', 'data', 'We', 'can', 'choose', 'any', 'method', 'based', 'on', 'langauge', 'library', 'and', 'purpose', 'of', 'modeling']\n"
     ]
    }
   ],
   "source": [
    "from gensim.utils import tokenize\n",
    "\n",
    "text = \"\"\"There are multiple ways we can perform tokenization on given text data. We can choose any method based on langauge, library and purpose of modeling.\"\"\"\n",
    "\n",
    "tokens = list(tokenize(text))\n",
    "print(tokens)"
   ]
  },
  {
   "cell_type": "code",
   "execution_count": 16,
   "metadata": {
    "execution": {
     "iopub.execute_input": "2020-12-06T06:47:24.716047Z",
     "iopub.status.busy": "2020-12-06T06:47:24.715305Z",
     "iopub.status.idle": "2020-12-06T06:47:24.718454Z",
     "shell.execute_reply": "2020-12-06T06:47:24.719025Z"
    },
    "papermill": {
     "duration": 0.066318,
     "end_time": "2020-12-06T06:47:24.719211",
     "exception": false,
     "start_time": "2020-12-06T06:47:24.652893",
     "status": "completed"
    },
    "tags": []
   },
   "outputs": [
    {
     "name": "stdout",
     "output_type": "stream",
     "text": [
      "['characters like periods', ' exclamation point and newline char are used to separate the sentences', ' but one drawback with split', ' method', ' that we can only use one separator at a time', ' so sentence tonenization wont be fullproof with split', ' method']\n"
     ]
    }
   ],
   "source": [
    "from keras.preprocessing.text import text_to_word_sequence\n",
    "\n",
    "text = \"\"\"Characters like periods, exclamation point and newline char are used to separate the sentences. But one drawback with split() method, that we can only use one separator at a time! So sentence tonenization wont be fullproof with split() method.\"\"\"\n",
    "\n",
    "tokens = text_to_word_sequence(text, split= \".\")\n",
    "print(tokens)"
   ]
  },
  {
   "cell_type": "markdown",
   "metadata": {
    "papermill": {
     "duration": 0.056696,
     "end_time": "2020-12-06T06:47:24.833022",
     "exception": false,
     "start_time": "2020-12-06T06:47:24.776326",
     "status": "completed"
    },
    "tags": []
   },
   "source": [
    "### Sentence Tokenization"
   ]
  },
  {
   "cell_type": "code",
   "execution_count": 17,
   "metadata": {
    "execution": {
     "iopub.execute_input": "2020-12-06T06:47:24.957086Z",
     "iopub.status.busy": "2020-12-06T06:47:24.956095Z",
     "iopub.status.idle": "2020-12-06T06:47:24.960244Z",
     "shell.execute_reply": "2020-12-06T06:47:24.960754Z"
    },
    "papermill": {
     "duration": 0.06877,
     "end_time": "2020-12-06T06:47:24.960922",
     "exception": false,
     "start_time": "2020-12-06T06:47:24.892152",
     "status": "completed"
    },
    "tags": []
   },
   "outputs": [
    {
     "data": {
      "text/plain": [
       "['Characters like periods, exclamation point and newline char are used to separate the sentences.',\n",
       " 'But one drawback with split() method, that we can only use one separator at a time!',\n",
       " 'So sentence tonenization wont be foolproof with split() method.']"
      ]
     },
     "execution_count": 17,
     "metadata": {},
     "output_type": "execute_result"
    }
   ],
   "source": [
    "from gensim.summarization.textcleaner import split_sentences\n",
    "\n",
    "text = \"\"\"Characters like periods, exclamation point and newline char are used to separate the sentences. But one drawback with split() method, that we can only use one separator at a time! So sentence tonenization wont be foolproof with split() method.\"\"\"\n",
    "\n",
    "list(split_sentences(text))"
   ]
  },
  {
   "cell_type": "markdown",
   "metadata": {
    "papermill": {
     "duration": 0.058555,
     "end_time": "2020-12-06T06:47:25.077265",
     "exception": false,
     "start_time": "2020-12-06T06:47:25.018710",
     "status": "completed"
    },
    "tags": []
   },
   "source": [
    "# Conclusion <a id =\"10\"></a>\n",
    "There are multiple ways to do the tokenization. We can use any library depending on our requirement and features supported by the library. Feel free to try above code with different text snippet to get hold of how tokenization work."
   ]
  },
  {
   "cell_type": "markdown",
   "metadata": {
    "papermill": {
     "duration": 0.057242,
     "end_time": "2020-12-06T06:47:25.192056",
     "exception": false,
     "start_time": "2020-12-06T06:47:25.134814",
     "status": "completed"
    },
    "tags": []
   },
   "source": [
    "# References <a id =\"11\"></a>\n",
    "* https://keras.io/api/preprocessing/text/#text_to_word_sequence\n",
    "* https://www.nltk.org/\n",
    "* https://machinelearningmastery.com/prepare-text-data-deep-learning-keras/\n",
    "* https://towardsdatascience.com/tokenization-for-natural-language-processing-a179a891bad4\n",
    "* https://www.analyticsvidhya.com/blog/2019/07/how-get-started-nlp-6-unique-ways-perform-tokenization/\n"
   ]
  }
 ],
 "metadata": {
  "kernelspec": {
   "display_name": "Python 3",
   "language": "python",
   "name": "python3"
  },
  "language_info": {
   "codemirror_mode": {
    "name": "ipython",
    "version": 3
   },
   "file_extension": ".py",
   "mimetype": "text/x-python",
   "name": "python",
   "nbconvert_exporter": "python",
   "pygments_lexer": "ipython3",
   "version": "3.7.6"
  },
  "papermill": {
   "duration": 64.363134,
   "end_time": "2020-12-06T06:47:25.359034",
   "environment_variables": {},
   "exception": null,
   "input_path": "__notebook__.ipynb",
   "output_path": "__notebook__.ipynb",
   "parameters": {},
   "start_time": "2020-12-06T06:46:20.995900",
   "version": "2.1.0"
  }
 },
 "nbformat": 4,
 "nbformat_minor": 4
}
