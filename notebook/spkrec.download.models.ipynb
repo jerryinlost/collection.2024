{
 "cells": [
  {
   "cell_type": "code",
   "execution_count": 2,
   "id": "fb512295-e7cf-497a-86b8-c6ff40a22f12",
   "metadata": {},
   "outputs": [],
   "source": [
    "import torchaudio\n",
    "from speechbrain.inference.encoders import MelSpectrogramEncoder\n",
    "from speechbrain.utils.fetching import fetch\n",
    "from speechbrain.utils.data_utils import split_path\n",
    "\n",
    "spk_emb_encoder = MelSpectrogramEncoder.from_hparams(source=\"speechbrain/spkrec-ecapa-voxceleb-mel-spec\")\n"
   ]
  },
  {
   "cell_type": "code",
   "execution_count": 4,
   "id": "7f3bbc8e-7826-4e58-8826-ac7909e3d3aa",
   "metadata": {
    "scrolled": true
   },
   "outputs": [],
   "source": [
    "import torchaudio\n",
    "from speechbrain.inference.speaker import EncoderClassifier\n",
    "classifier = EncoderClassifier.from_hparams(source=\"speechbrain/spkrec-xvect-voxceleb\", savedir=\"pretrained_models/spkrec-xvect-voxceleb\")\n",
    "# signal, fs = torchaudio.load('tests/samples/ASR/spk1_snt1.wav')\n",
    "# embeddings = classifier.encode_batch(signal)"
   ]
  },
  {
   "cell_type": "code",
   "execution_count": 5,
   "id": "e4170991-9dd7-4253-bb2b-c22b0c060ddc",
   "metadata": {},
   "outputs": [
    {
     "data": {
      "application/vnd.jupyter.widget-view+json": {
       "model_id": "ed03fe0e6282424487e8f59e7a74deb9",
       "version_major": 2,
       "version_minor": 0
      },
      "text/plain": [
       "hyperparams.yaml:   0%|          | 0.00/1.63k [00:00<?, ?B/s]"
      ]
     },
     "metadata": {},
     "output_type": "display_data"
    },
    {
     "data": {
      "application/vnd.jupyter.widget-view+json": {
       "model_id": "633b6a3c4bb14d84961cb2cac95bf269",
       "version_major": 2,
       "version_minor": 0
      },
      "text/plain": [
       "embedding_model.ckpt:   0%|          | 0.00/62.0M [00:00<?, ?B/s]"
      ]
     },
     "metadata": {},
     "output_type": "display_data"
    },
    {
     "data": {
      "application/vnd.jupyter.widget-view+json": {
       "model_id": "017d7896c0e444218b10462ac0fc5ad0",
       "version_major": 2,
       "version_minor": 0
      },
      "text/plain": [
       "classifier.ckpt:   0%|          | 0.00/7.38M [00:00<?, ?B/s]"
      ]
     },
     "metadata": {},
     "output_type": "display_data"
    }
   ],
   "source": [
    "import torchaudio\n",
    "from speechbrain.inference.speaker import EncoderClassifier\n",
    "classifier = EncoderClassifier.from_hparams(source=\"speechbrain/spkrec-resnet-voxceleb\")\n",
    "from speechbrain.inference.speaker import SpeakerRecognition\n",
    "verification = SpeakerRecognition.from_hparams(source=\"speechbrain/spkrec-resnet-voxceleb\", savedir=\"pretrained_models/spkrec-resnet-voxceleb\")"
   ]
  }
 ],
 "metadata": {
  "kernelspec": {
   "display_name": "Python 3 (ipykernel)",
   "language": "python",
   "name": "python3"
  },
  "language_info": {
   "codemirror_mode": {
    "name": "ipython",
    "version": 3
   },
   "file_extension": ".py",
   "mimetype": "text/x-python",
   "name": "python",
   "nbconvert_exporter": "python",
   "pygments_lexer": "ipython3",
   "version": "3.10.11"
  }
 },
 "nbformat": 4,
 "nbformat_minor": 5
}
