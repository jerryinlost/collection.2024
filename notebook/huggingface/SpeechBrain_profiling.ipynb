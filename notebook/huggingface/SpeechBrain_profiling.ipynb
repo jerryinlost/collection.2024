{
  "nbformat": 4,
  "nbformat_minor": 0,
  "metadata": {
    "colab": {
      "provenance": []
    },
    "kernelspec": {
      "name": "python3",
      "display_name": "Python 3"
    },
    "language_info": {
      "name": "python"
    }
  },
  "cells": [
    {
      "cell_type": "markdown",
      "source": [
        "# **SpeechBrain profiling**\n",
        "\n",
        "SpeechBrain provides a simple way of profiling any training recipe. The output will be a standard tensorboard logdir containing all the typical metrics, traces, charts etc. If you want more information, please refer to [the PyTorch documentation](https://pytorch.org/tutorials/recipes/recipes/profiler_recipe.html). Indeed, SpeechBrain simply use the standard Torch profiler.\n",
        "\n",
        "## Installation\n",
        "Please ensure you have installed the TensorBoard profiler:\n",
        "\n",
        "`pip install torch_tb_profiler`\n",
        "\n",
        "## Calling the profiler\n",
        "\n",
        "Let's start a training with the profiler enabled. Of course, we do not want to run the full training, just a few steps. This can be achieved with:\n",
        "\n",
        "```bash\n",
        "python train.py hparams/config.yaml --profile_training --profile_warmup 10 --profile_steps 5\n",
        "```\n",
        "\n",
        "**--profile_warmup** and **--profile_steps** indicate for how long we should wait, i.e. warmup, before starting to record and the number of steps to record respectively. Waiting is useful as some PyTorch and CuDNN optimizations are usually happening on the first training steps.\n",
        "\n",
        "## Vizualizing the logs with tensorboard\n",
        "\n",
        "The previous step will have generated profiler logs in the **{output_folder}/profiler_logs** location. The output folder is the one from your YAML. You can start tensorboard and exploring the trace and charts by executing:\n",
        "\n",
        "```bash\n",
        "tensorboard --log_dir {output_folder}/profiler_logs\n",
        "```\n",
        "\n",
        "Of course, you'll need to have tensorboard installed.\n",
        "\n",
        "```bash\n",
        "pip install tensorboard\n",
        "```\n",
        "\n",
        "# **About SpeechBrain**\n",
        "- Website: https://speechbrain.github.io/\n",
        "- Code: https://github.com/speechbrain/speechbrain/\n",
        "- HuggingFace: https://huggingface.co/speechbrain/\n",
        "\n",
        "\n",
        "# **Citing SpeechBrain**\n",
        "Please, cite SpeechBrain if you use it for your research or business.\n",
        "\n",
        "```bibtex\n",
        "@misc{speechbrain,\n",
        "  title={{SpeechBrain}: A General-Purpose Speech Toolkit},\n",
        "  author={Mirco Ravanelli and Titouan Parcollet and Peter Plantinga and Aku Rouhe and Samuele Cornell and Loren Lugosch and Cem Subakan and Nauman Dawalatabad and Abdelwahab Heba and Jianyuan Zhong and Ju-Chieh Chou and Sung-Lin Yeh and Szu-Wei Fu and Chien-Feng Liao and Elena Rastorgueva and François Grondin and William Aris and Hwidong Na and Yan Gao and Renato De Mori and Yoshua Bengio},\n",
        "  year={2021},\n",
        "  eprint={2106.04624},\n",
        "  archivePrefix={arXiv},\n",
        "  primaryClass={eess.AS},\n",
        "  note={arXiv:2106.04624}\n",
        "}\n",
        "```"
      ],
      "metadata": {
        "id": "xrB8PyR6nO31"
      }
    }
  ]
}