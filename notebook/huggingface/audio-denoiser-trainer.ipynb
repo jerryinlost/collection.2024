{
 "cells": [
  {
   "cell_type": "markdown",
   "id": "c5f62894",
   "metadata": {
    "papermill": {
     "duration": 0.003622,
     "end_time": "2023-10-21T22:44:31.143828",
     "exception": false,
     "start_time": "2023-10-21T22:44:31.140206",
     "status": "completed"
    },
    "tags": []
   },
   "source": [
    "## Overview\n",
    "This notebook trains the model used by the `audio-denoiser` Python package: https://github.com/jose-solorzano/audio-denoiser\n",
    "\n"
   ]
  },
  {
   "cell_type": "markdown",
   "id": "87ae21aa",
   "metadata": {
    "papermill": {
     "duration": 0.0028,
     "end_time": "2023-10-21T22:44:31.149987",
     "exception": false,
     "start_time": "2023-10-21T22:44:31.147187",
     "status": "completed"
    },
    "tags": []
   },
   "source": [
    "## Huggingface Key\n",
    "If `save_model` is True in the training method call, we need a Huggingface key/token, which needs to be set as HF_KEY in the Secrets Add-on of this Kaggle notebook."
   ]
  },
  {
   "cell_type": "code",
   "execution_count": 1,
   "id": "eb5ec054",
   "metadata": {
    "execution": {
     "iopub.execute_input": "2023-10-21T22:44:31.157969Z",
     "iopub.status.busy": "2023-10-21T22:44:31.157605Z",
     "iopub.status.idle": "2023-10-21T22:44:31.390028Z",
     "shell.execute_reply": "2023-10-21T22:44:31.389219Z"
    },
    "papermill": {
     "duration": 0.239101,
     "end_time": "2023-10-21T22:44:31.392153",
     "exception": false,
     "start_time": "2023-10-21T22:44:31.153052",
     "status": "completed"
    },
    "tags": []
   },
   "outputs": [],
   "source": [
    "from kaggle_secrets import UserSecretsClient\n",
    "user_secrets = UserSecretsClient()\n",
    "hf_token = user_secrets.get_secret(\"HF_KEY\")"
   ]
  },
  {
   "cell_type": "markdown",
   "id": "5951ba14",
   "metadata": {
    "papermill": {
     "duration": 0.00292,
     "end_time": "2023-10-21T22:44:31.398678",
     "exception": false,
     "start_time": "2023-10-21T22:44:31.395758",
     "status": "completed"
    },
    "tags": []
   },
   "source": [
    "## Configure system path\n",
    "Script `tools/upload_code.py` from the Github repo uploads training source code to a GCS bucket (set up in `config.py`), which is then pulled by\n",
    "Kaggle dataset `js-audio-denoiser`. The code folder is added to `sys.path`."
   ]
  },
  {
   "cell_type": "code",
   "execution_count": 2,
   "id": "96113701",
   "metadata": {
    "_cell_guid": "b1076dfc-b9ad-4769-8c92-a6c4dae69d19",
    "_uuid": "8f2839f25d086af736a60e9eeb907d3b93b6e0e5",
    "execution": {
     "iopub.execute_input": "2023-10-21T22:44:31.405925Z",
     "iopub.status.busy": "2023-10-21T22:44:31.405651Z",
     "iopub.status.idle": "2023-10-21T22:44:35.759420Z",
     "shell.execute_reply": "2023-10-21T22:44:35.758397Z"
    },
    "papermill": {
     "duration": 4.360236,
     "end_time": "2023-10-21T22:44:35.762020",
     "exception": false,
     "start_time": "2023-10-21T22:44:31.401784",
     "status": "completed"
    },
    "tags": []
   },
   "outputs": [
    {
     "name": "stderr",
     "output_type": "stream",
     "text": [
      "/opt/conda/lib/python3.10/site-packages/scipy/__init__.py:146: UserWarning: A NumPy version >=1.16.5 and <1.23.0 is required for this version of SciPy (detected version 1.23.5\n",
      "  warnings.warn(f\"A NumPy version >={np_minversion} and <{np_maxversion}\"\n"
     ]
    },
    {
     "name": "stdout",
     "output_type": "stream",
     "text": [
      "Timestamp: 2023-10-21 11:34:06.744689\n"
     ]
    }
   ],
   "source": [
    "import sys \n",
    "import os\n",
    "import sklearn\n",
    "import torch\n",
    "import torchaudio\n",
    "\n",
    "code_path = '/kaggle/input/js-audio-denoiser'\n",
    "ts_path = os.path.join(code_path, '.timestamp.txt')\n",
    "with open(ts_path) as f:\n",
    "    contents = f.read()\n",
    "    print(f'Timestamp: {contents}')\n",
    "sys.path.insert(1, code_path)"
   ]
  },
  {
   "cell_type": "markdown",
   "id": "32a109b4",
   "metadata": {
    "papermill": {
     "duration": 0.003155,
     "end_time": "2023-10-21T22:44:35.768932",
     "exception": false,
     "start_time": "2023-10-21T22:44:35.765777",
     "status": "completed"
    },
    "tags": []
   },
   "source": [
    "## Configure the right audio backend\n",
    "The`soundfile` backend should be supported by both Windows and Linux. The `sox_io` backend, used by default in Linux, appears to load data with a different distribution than `soundfile`."
   ]
  },
  {
   "cell_type": "code",
   "execution_count": 3,
   "id": "5c25b2d7",
   "metadata": {
    "execution": {
     "iopub.execute_input": "2023-10-21T22:44:35.777286Z",
     "iopub.status.busy": "2023-10-21T22:44:35.776601Z",
     "iopub.status.idle": "2023-10-21T22:44:35.780630Z",
     "shell.execute_reply": "2023-10-21T22:44:35.779794Z"
    },
    "papermill": {
     "duration": 0.010289,
     "end_time": "2023-10-21T22:44:35.782496",
     "exception": false,
     "start_time": "2023-10-21T22:44:35.772207",
     "status": "completed"
    },
    "tags": []
   },
   "outputs": [],
   "source": [
    "torchaudio.set_audio_backend(\"soundfile\")"
   ]
  },
  {
   "cell_type": "markdown",
   "id": "1c706b77",
   "metadata": {
    "papermill": {
     "duration": 0.003069,
     "end_time": "2023-10-21T22:44:35.788902",
     "exception": false,
     "start_time": "2023-10-21T22:44:35.785833",
     "status": "completed"
    },
    "tags": []
   },
   "source": [
    "## Check CUDA status"
   ]
  },
  {
   "cell_type": "code",
   "execution_count": 4,
   "id": "534af230",
   "metadata": {
    "execution": {
     "iopub.execute_input": "2023-10-21T22:44:35.796976Z",
     "iopub.status.busy": "2023-10-21T22:44:35.796438Z",
     "iopub.status.idle": "2023-10-21T22:44:38.855805Z",
     "shell.execute_reply": "2023-10-21T22:44:38.854937Z"
    },
    "papermill": {
     "duration": 3.066195,
     "end_time": "2023-10-21T22:44:38.858379",
     "exception": false,
     "start_time": "2023-10-21T22:44:35.792184",
     "status": "completed"
    },
    "tags": []
   },
   "outputs": [
    {
     "name": "stdout",
     "output_type": "stream",
     "text": [
      "CUDA free=16.43 Gb, total=17.07 Gb\n"
     ]
    }
   ],
   "source": [
    "import gc\n",
    "\n",
    "if torch.cuda.is_available():\n",
    "    torch.cuda.empty_cache()\n",
    "    gc.collect()\n",
    "    free_mem, total_mem = torch.cuda.mem_get_info()\n",
    "    print(f'CUDA free={free_mem/1e9:.4g} Gb, total={total_mem/1e9:.4g} Gb')\n",
    "else:\n",
    "    print('CUDA not available!')"
   ]
  },
  {
   "cell_type": "markdown",
   "id": "e4e4108f",
   "metadata": {
    "papermill": {
     "duration": 0.00321,
     "end_time": "2023-10-21T22:44:38.865809",
     "exception": false,
     "start_time": "2023-10-21T22:44:38.862599",
     "status": "completed"
    },
    "tags": []
   },
   "source": [
    "## Training"
   ]
  },
  {
   "cell_type": "code",
   "execution_count": 5,
   "id": "78b30583",
   "metadata": {
    "execution": {
     "iopub.execute_input": "2023-10-21T22:44:38.873758Z",
     "iopub.status.busy": "2023-10-21T22:44:38.873476Z",
     "iopub.status.idle": "2023-10-21T22:50:44.557441Z",
     "shell.execute_reply": "2023-10-21T22:50:44.556158Z"
    },
    "papermill": {
     "duration": 365.695629,
     "end_time": "2023-10-21T22:50:44.564860",
     "exception": false,
     "start_time": "2023-10-21T22:44:38.869231",
     "status": "completed"
    },
    "tags": []
   },
   "outputs": [
    {
     "name": "stdout",
     "output_type": "stream",
     "text": [
      "Device: cuda:0\n",
      "Finding audio file paths...\n",
      "Found 227118 audio files.\n",
      "Reading ambient noise files...\n",
      "Training...\n",
      "Training scaler with 100 audio files...\n",
      "Building dataset...\n",
      "Training dataset size: 2000\n",
      "Epoch [1/2] Loss: 1.373\n",
      "Epoch [2/2] Loss: 1.031\n",
      "Evaluating...\n",
      "Validation epoch 1...\n",
      "MSE: 0.9838 - Relative variance: 0.4755\n",
      "Validation epoch 2...\n",
      "MSE: 0.967 - Relative variance: 0.4747\n",
      "Validation epoch 3...\n",
      "MSE: 0.9768 - Relative variance: 0.4823\n",
      "Experiment 115603 did not save a model.\n"
     ]
    }
   ],
   "source": [
    "from tools import train_model\n",
    "\n",
    "# Test training\n",
    "train_model.main_impl(num_epochs=2, save_model=False, hf_token=hf_token)\n",
    "\n",
    "## Actual training\n",
    "# train_model.main_impl(num_epochs=2500, save_model=True, hf_token=hf_token)"
   ]
  }
 ],
 "metadata": {
  "kernelspec": {
   "display_name": "Python 3",
   "language": "python",
   "name": "python3"
  },
  "language_info": {
   "codemirror_mode": {
    "name": "ipython",
    "version": 3
   },
   "file_extension": ".py",
   "mimetype": "text/x-python",
   "name": "python",
   "nbconvert_exporter": "python",
   "pygments_lexer": "ipython3",
   "version": "3.10.12"
  },
  "papermill": {
   "default_parameters": {},
   "duration": 379.66998,
   "end_time": "2023-10-21T22:50:47.454397",
   "environment_variables": {},
   "exception": null,
   "input_path": "__notebook__.ipynb",
   "output_path": "__notebook__.ipynb",
   "parameters": {},
   "start_time": "2023-10-21T22:44:27.784417",
   "version": "2.4.0"
  }
 },
 "nbformat": 4,
 "nbformat_minor": 5
}
