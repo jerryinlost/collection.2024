{
 "cells": [
  {
   "cell_type": "markdown",
   "id": "a89901e8-e5d0-4131-a3a0-b8f8b5152406",
   "metadata": {},
   "source": [
    "Getting your own Korean LLM (Large Language Model) involves choosing a suitable pre-trained model, fine-tuning it on your dataset, and deploying it. One of the best models to start with is the Korean version of GPT-3, known as KoGPT by KakaoBrain. Below is a step-by-step guide to fine-tune KoGPT on your own dataset using Python.\n",
    "\n",
    "### Step 1: Environment Setup\n",
    "First, ensure you have the necessary libraries installed. You’ll need transformers, datasets, and torch."
   ]
  },
  {
   "cell_type": "code",
   "execution_count": null,
   "id": "da2d68db-c4fa-4fed-84cb-606c1c8251d3",
   "metadata": {},
   "outputs": [],
   "source": [
    "pip install transformers datasets torch"
   ]
  },
  {
   "cell_type": "markdown",
   "id": "bfbb66a0-8aee-4573-86f7-71d459893962",
   "metadata": {},
   "source": [
    "### Step 2: Load the Pre-trained KoGPT Model"
   ]
  },
  {
   "cell_type": "code",
   "execution_count": null,
   "id": "457dab7a-9c7b-4837-8041-a64827c45a29",
   "metadata": {},
   "outputs": [],
   "source": [
    "from transformers import GPT2LMHeadModel, GPT2Tokenizer\n",
    "\n",
    "# Load pre-trained KoGPT model and tokenizer\n",
    "model_name = \"kakaobrain/kogpt\"  # Example model name\n",
    "tokenizer = GPT2Tokenizer.from_pretrained(model_name)\n",
    "model = GPT2LMHeadModel.from_pretrained(model_name)"
   ]
  },
  {
   "cell_type": "markdown",
   "id": "77504612-8aab-420d-a247-55b84f8a886e",
   "metadata": {},
   "source": [
    "### Step 3: Prepare Your Dataset\n",
    "Assuming you have your dataset in a text file, you need to preprocess it for the model."
   ]
  },
  {
   "cell_type": "code",
   "execution_count": null,
   "id": "b7ebe0f5-c6f3-4b4b-905c-162137f4a128",
   "metadata": {},
   "outputs": [],
   "source": [
    "from datasets import load_dataset\n",
    "\n",
    "# Load your custom dataset\n",
    "dataset = load_dataset('text', data_files={'train': 'path/to/your/train.txt', 'test': 'path/to/your/test.txt'})\n",
    "\n",
    "# Tokenize the dataset\n",
    "def tokenize_function(examples):\n",
    "    return tokenizer(examples['text'], padding='max_length', truncation=True, max_length=128)\n",
    "\n",
    "tokenized_datasets = dataset.map(tokenize_function, batched=True)"
   ]
  },
  {
   "cell_type": "markdown",
   "id": "2486f780-3d8f-4106-ae3c-9270cf3d1469",
   "metadata": {},
   "source": [
    "### Step 4: Fine-tune the Model\n",
    "Now, set up the Trainer to fine-tune the model on your dataset."
   ]
  },
  {
   "cell_type": "code",
   "execution_count": null,
   "id": "99cd0be5-1a3b-474b-ad2e-2e3deaf4184f",
   "metadata": {},
   "outputs": [],
   "source": [
    "from transformers import Trainer, TrainingArguments\n",
    "\n",
    "training_args = TrainingArguments(\n",
    "    output_dir='./results',\n",
    "    evaluation_strategy='epoch',\n",
    "    learning_rate=2e-5,\n",
    "    per_device_train_batch_size=4,\n",
    "    per_device_eval_batch_size=4,\n",
    "    num_train_epochs=3,\n",
    "    weight_decay=0.01,\n",
    ")\n",
    "\n",
    "trainer = Trainer(\n",
    "    model=model,\n",
    "    args=training_args,\n",
    "    train_dataset=tokenized_datasets['train'],\n",
    "    eval_dataset=tokenized_datasets['test'],\n",
    ")\n",
    "\n",
    "trainer.train()"
   ]
  },
  {
   "cell_type": "markdown",
   "id": "301c598a-f905-4c8c-9c0d-028524dee82c",
   "metadata": {},
   "source": [
    "### Step 5: Save the Fine-tuned Model\n",
    "After training, save your model."
   ]
  },
  {
   "cell_type": "code",
   "execution_count": null,
   "id": "e3aaec4a-ca98-41d2-9cc2-13e2afa3dfed",
   "metadata": {},
   "outputs": [],
   "source": [
    "model.save_pretrained('./fine_tuned_kogpt')\n",
    "tokenizer.save_pretrained('./fine_tuned_kogpt')"
   ]
  },
  {
   "cell_type": "markdown",
   "id": "1982a06c-8a8b-4811-8d95-41fbc09309e7",
   "metadata": {},
   "source": [
    "### Step 6: Inference with the Fine-tuned Model\n",
    "Load your fine-tuned model for inference."
   ]
  },
  {
   "cell_type": "code",
   "execution_count": null,
   "id": "6f8e3993-5e7a-46f4-a1e0-5a188c16d6f0",
   "metadata": {},
   "outputs": [],
   "source": [
    "from transformers import pipeline\n",
    "\n",
    "# Load the fine-tuned model and tokenizer\n",
    "model = GPT2LMHeadModel.from_pretrained('./fine_tuned_kogpt')\n",
    "tokenizer = GPT2Tokenizer.from_pretrained('./fine_tuned_kogpt')\n",
    "\n",
    "# Create a text generation pipeline\n",
    "text_generator = pipeline('text-generation', model=model, tokenizer=tokenizer)\n",
    "\n",
    "# Generate text\n",
    "prompt = \"안녕하세요\"\n",
    "generated_text = text_generator(prompt, max_length=50)\n",
    "print(generated_text)"
   ]
  },
  {
   "cell_type": "markdown",
   "id": "6a75e7ab-2146-4fc7-a3dc-950c4a11d166",
   "metadata": {},
   "source": [
    "This guide provides a clear pathway to fine-tuning a Korean LLM on your dataset. Make sure to adjust parameters and paths as needed for your specific use case."
   ]
  }
 ],
 "metadata": {
  "kernelspec": {
   "display_name": "Python 3 (ipykernel)",
   "language": "python",
   "name": "python3"
  },
  "language_info": {
   "codemirror_mode": {
    "name": "ipython",
    "version": 3
   },
   "file_extension": ".py",
   "mimetype": "text/x-python",
   "name": "python",
   "nbconvert_exporter": "python",
   "pygments_lexer": "ipython3",
   "version": "3.10.11"
  }
 },
 "nbformat": 4,
 "nbformat_minor": 5
}
